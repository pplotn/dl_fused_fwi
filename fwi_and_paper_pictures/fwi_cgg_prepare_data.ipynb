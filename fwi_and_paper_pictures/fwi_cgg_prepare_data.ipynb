{
 "cells": [
  {
   "cell_type": "markdown",
   "metadata": {},
   "source": [
    "# FWI on field data (CGG Broadseis)\n",
    "\n",
    "by Oleg Ovcharenko\n",
    "\n",
    "oleg.ovcharenko@kaust.edu.sa\n",
    "\n",
    "KAUST, 2021"
   ]
  },
  {
   "cell_type": "code",
   "execution_count": 1,
   "metadata": {},
   "outputs": [
    {
     "name": "stdout",
     "output_type": "stream",
     "text": [
      "Python: /home/plotnips/Dropbox/Log_extrapolation/scripts/DENISE-Black-Edition-master/for_pasha/env\n",
      "<function filter_seismic_data at 0x1495c298e7b8>\n",
      "Init Python 3 API for Denise-Black-Edition.\n",
      "Check binary in /home/plotnips/Dropbox/Log_extrapolation/scripts/DENISE-Black-Edition-master/bin/denise\n",
      "Parse /home/plotnips/Dropbox/Log_extrapolation/scripts/DENISE-Black-Edition-master/par/DENISE_marm_OBC.inp\n",
      "Current directory is /home/plotnips/Dropbox/Log_extrapolation/scripts/DENISE-Black-Edition-master/for_pasha\n",
      "Init paths at ./outputs/\n",
      "<bound method Denise.get_shots_from_datadir of DENISE-Black-Edition:\n",
      "\t/home/plotnips/Dropbox/Log_extrapolation/scripts/DENISE-Black-Edition-master\n",
      "Save folder:\n",
      "\t./outputs/\n",
      "Run .help() for more details>\n",
      "<bound method Denise.get_shots_from_directory of DENISE-Black-Edition:\n",
      "\t/home/plotnips/Dropbox/Log_extrapolation/scripts/DENISE-Black-Edition-master\n",
      "Save folder:\n",
      "\t./outputs/\n",
      "Run .help() for more details>\n",
      "['', '/home/plotnips/Madagascar/lib/python3.7/site-packages', '/home/plotnips/Dropbox/Log_extrapolation/scripts/DENISE-Black-Edition-master/for_pasha/env/lib/python36.zip', '/home/plotnips/Dropbox/Log_extrapolation/scripts/DENISE-Black-Edition-master/for_pasha/env/lib/python3.6', '/home/plotnips/Dropbox/Log_extrapolation/scripts/DENISE-Black-Edition-master/for_pasha/env/lib/python3.6/lib-dynload', '/usr/lib/python3.6', '/home/plotnips/Dropbox/Log_extrapolation/scripts/DENISE-Black-Edition-master/for_pasha/env/lib/python3.6/site-packages', '/home/plotnips/Dropbox/Log_extrapolation/scripts/DENISE-Black-Edition-master/for_pasha/env/lib/python3.6/site-packages/IPython/extensions', '/home/plotnips/.ipython', '/home/plotnips/Dropbox/Log_extrapolation/scripts/DENISE-Black-Edition-master/codes_server', '/home/plotnips/Dropbox/Log_extrapolation/scripts/DENISE-Black-Edition-master/for_pasha/utils', '../', '/home/plotnips/Dropbox/Log_extrapolation/scripts/DENISE-Black-Edition-master', './for_pasha']\n"
     ]
    }
   ],
   "source": [
    "import os\n",
    "import sys\n",
    "#api._cmd('conda activate torch2')\n",
    "print(f'Python: {sys.prefix}')\n",
    "import copy\n",
    "from glob import glob\n",
    "# import glob\n",
    "import numpy as np\n",
    "import importlib\n",
    "import multiprocessing\n",
    "import segyio\n",
    "from scipy import signal, ndimage\n",
    "from natsort import natsorted\n",
    "from skimage.transform import rescale, resize\n",
    "from utils import shared as sd\n",
    "from utils import loaders as ld\n",
    "from utils import vis\n",
    "from IPython.display import clear_output\n",
    "# append path with actual source files to sys.path\n",
    "sys.path.append(os.path.abspath('../codes_server'))\n",
    "sys.path.append(os.path.abspath('./utils'))\n",
    "from F_utils import *\n",
    "from F_fwi import *\n",
    "import pyapi_denise_pavel as api\n",
    "api._cmd('source /home/plotnips/Madagascar/share/madagascar/etc/env.sh')\n",
    "api._cmd('source ~/.bashrc')\n",
    "# create_sbatch_file_for_fwi_folder('./for_pasha/out_for_pasha/fwi_full_spectrum_vanilla')\n",
    "# results_path='./out_for_pasha/fwi_full_spectrum'\n",
    "# os.system(f\"rm -r {results_path}\")\n",
    "print(filter_seismic_data)\n",
    "d=api.Denise('/home/plotnips/Dropbox/Log_extrapolation/scripts/DENISE-Black-Edition-master',verbose=1)\n",
    "print(d.get_shots_from_datadir)\n",
    "print(d.get_shots_from_directory)\n",
    "print(sys.path)"
   ]
  },
  {
   "cell_type": "code",
   "execution_count": 2,
   "metadata": {},
   "outputs": [
    {
     "data": {
      "text/plain": [
       "<function F_utils.calculate_water_taper(generated_model, min_water_velocity=1490.001)>"
      ]
     },
     "execution_count": 2,
     "metadata": {},
     "output_type": "execute_result"
    }
   ],
   "source": [
    "calculate_water_taper"
   ]
  },
  {
   "cell_type": "code",
   "execution_count": 3,
   "metadata": {},
   "outputs": [],
   "source": [
    "# # This is to prevent error \"this loop already runnign when doing magical %run <<notebook name>>\"\n",
    "import nest_asyncio\n",
    "nest_asyncio.apply()"
   ]
  },
  {
   "cell_type": "code",
   "execution_count": 4,
   "metadata": {},
   "outputs": [],
   "source": [
    "%matplotlib inline\n",
    "import matplotlib as mpl\n",
    "import matplotlib.pyplot as plt\n",
    "from mpl_toolkits.axes_grid1 import make_axes_locatable\n",
    "# mpl.rcParams['figure.dpi']= 100\n",
    "fontsize = 10\n",
    "params = {\n",
    "    # 'text.latex.preamble': ['\\\\usepackage{gensymb}'],\n",
    "    # 'image.origin': 'lower',\n",
    "    'image.interpolation': 'nearest',\n",
    "    'figure.dpi' : 300,\n",
    "    # 'image.cmap': 'gray',\n",
    "    'axes.grid': False,\n",
    "    'savefig.dpi': 150,  # to adjust notebook inline plot size\n",
    "    'axes.labelsize':fontsize,  # fontsize for x and y labels (was 10)\n",
    "    'axes.titlesize':fontsize,\n",
    "    'font.size':fontsize,  # was 10\n",
    "    'legend.fontsize': fontsize,  # was 10\n",
    "    'xtick.labelsize':fontsize,\n",
    "    'ytick.labelsize':fontsize,\n",
    "    # 'text.usetex': True,\n",
    "    # 'figure.figsize': [3.39, 2.10],\n",
    "    'font.family': 'serif',\n",
    "}\n",
    "mpl.rcParams.update(params)"
   ]
  },
  {
   "cell_type": "code",
   "execution_count": 5,
   "metadata": {},
   "outputs": [],
   "source": [
    "root_fwi = './out_for_pasha/'"
   ]
  },
  {
   "cell_type": "markdown",
   "metadata": {},
   "source": [
    "# Init Denise API"
   ]
  },
  {
   "cell_type": "code",
   "execution_count": 6,
   "metadata": {},
   "outputs": [
    {
     "name": "stdout",
     "output_type": "stream",
     "text": [
      "Init Python 3 API for Denise-Black-Edition.\n",
      "Check binary in ../bin/denise\n",
      "Parse ../par/DENISE_marm_OBC.inp\n",
      "Current directory is /home/plotnips/Dropbox/Log_extrapolation/scripts/DENISE-Black-Edition-master/for_pasha\n",
      "Init paths at ./outputs/\n"
     ]
    }
   ],
   "source": [
    "denise_root = '../'\n",
    "d = api.Denise(denise_root, verbose=1)"
   ]
  },
  {
   "cell_type": "markdown",
   "metadata": {},
   "source": [
    "## Work directory\n",
    "Where to output everything"
   ]
  },
  {
   "cell_type": "code",
   "execution_count": 7,
   "metadata": {},
   "outputs": [
    {
     "name": "stdout",
     "output_type": "stream",
     "text": [
      "Current directory is /home/plotnips/Dropbox/Log_extrapolation/scripts/DENISE-Black-Edition-master/for_pasha\n",
      "Init paths at ./out_for_pasha/\n"
     ]
    }
   ],
   "source": [
    "d.save_folder = root_fwi\n",
    "d.set_paths()"
   ]
  },
  {
   "cell_type": "markdown",
   "metadata": {},
   "source": [
    "# Get acquitision details"
   ]
  },
  {
   "cell_type": "code",
   "execution_count": 8,
   "metadata": {},
   "outputs": [],
   "source": [
    "shot_id_min = 60\n",
    "n_selected_shots = 80\n",
    "njump_src = 8\n",
    "shot_id_max = shot_id_min + (n_selected_shots-1) * njump_src"
   ]
  },
  {
   "cell_type": "code",
   "execution_count": 9,
   "metadata": {},
   "outputs": [
    {
     "name": "stdout",
     "output_type": "stream",
     "text": [
      "95/95\n",
      "Before prep:\t(95, 648, 3526)\n",
      "Data cube:\t(95, 324, 3000)\n",
      "Extended cube:\t(95, 324, 3100)\n",
      "[95, 324, 3050] (95, 324, 3000)\n",
      "[95, 324, 3150] (95, 324, 3100)\n",
      "25.0\n",
      "Assume even average spacing between sources\n",
      " 150.0 m ~ 6 grid nodes\n",
      "First source:\t375.0 m\n",
      "Last source:\t14450.0 m\n",
      "150.0\n",
      "name:\t\n",
      "x\t(95,):\tmin: 375.0\tmax: 14475.0\n",
      "y\t(95,):\tmin: 50.0\tmax: 50.0\n",
      "wavelets:\tNone\n",
      "z\t(95,):\tmin: 0.0\tmax: 0.0\n",
      "nshot:\t95\n",
      "td\t(95,):\tmin: 0.0\tmax: 0.0\n",
      "fc\t(95,):\tmin: 8.0\tmax: 8.0\n",
      "amp\t(95,):\tmin: 1.0\tmax: 1.0\n",
      "angle\t(95,):\tmin: 0.0\tmax: 0.0\n",
      "QUELLTYPB:\t1\n",
      "src_type\t(95,):\tmin: 1.0\tmax: 1.0\n",
      "drec:\t25.0 m\n",
      "x\t(324,):\tmin: 525.0\tmax: 8600.0\n",
      "y\t(324,):\tmin: 100.0\tmax: 100.0\n",
      "many:\t[x\t(324,):\tmin: 525.0\tmax: 8600.0\n",
      "y\t(324,):\tmin: 100.0\tmax: 100.0\n",
      "name:\t]\n",
      "x\t(324,):\tmin: 525.0\tmax: 8600.0\n",
      "y\t(324,):\tmin: 100.0\tmax: 100.0\n",
      "many:\t[x\t(324,):\tmin: 525.0\tmax: 8600.0\n",
      "y\t(324,):\tmin: 100.0\tmax: 100.0\n",
      "name:\t]\n",
      "(152, 600)\n",
      "(152, 600)\n",
      "(152, 500)\n",
      "12500.0\n"
     ]
    },
    {
     "data": {
      "image/png": "[encoded data removed]",
      "text/plain": [
       "<Figure size 600x400 with 2 Axes>"
      ]
     },
     "metadata": {
      "needs_background": "light"
     },
     "output_type": "display_data"
    },
    {
     "data": {
      "image/png": "[encoded data removed]",
      "text/plain": [
       "<Figure size 600x400 with 2 Axes>"
      ]
     },
     "metadata": {
      "needs_background": "light"
     },
     "output_type": "display_data"
    },
    {
     "data": {
      "image/png": "[encoded data removed]",
      "text/plain": [
       "<Figure size 600x400 with 2 Axes>"
      ]
     },
     "metadata": {
      "needs_background": "light"
     },
     "output_type": "display_data"
    }
   ],
   "source": [
    "# %run ./fwi_shared_check.ipynb\n",
    "%run ./fwi_shared_check_check_water_bottom.ipynb"
   ]
  },
  {
   "cell_type": "code",
   "execution_count": 10,
   "metadata": {},
   "outputs": [
    {
     "name": "stdout",
     "output_type": "stream",
     "text": [
      "Field data spacing between sources 149.78 m\n"
     ]
    }
   ],
   "source": [
    "print('Field data spacing between sources {:.2f} m'.format(np.mean(src_.x[1:] - src_.x[:-1])))"
   ]
  },
  {
   "cell_type": "code",
   "execution_count": 11,
   "metadata": {},
   "outputs": [
    {
     "name": "stdout",
     "output_type": "stream",
     "text": [
      "(152, 600)\n",
      "./out_for_pasha/start/\n"
     ]
    }
   ],
   "source": [
    "vp_baseline = vp.copy()\n",
    "print(vp.shape)\n",
    "\n",
    "marm_path = os.path.join(root_fwi, 'start/')\n",
    "os.makedirs(marm_path, exist_ok=True)\n",
    "print(marm_path)\n",
    "if not 'marmousi_II_marine.vp' in os.listdir(marm_path):\n",
    "    # Download Marmousi II model\n",
    "    os.system(f'wget https://github.com/daniel-koehn/DENISE-Benchmark/raw/master/Marmousi-II/start/marmousi_II_marine.vp -P {marm_path}')\n",
    "    os.system(f'wget https://github.com/daniel-koehn/DENISE-Benchmark/raw/master/Marmousi-II/start/marmousi_II_marine.vs -P {marm_path}')\n",
    "    os.system(f'wget https://github.com/daniel-koehn/DENISE-Benchmark/raw/master/Marmousi-II/start/marmousi_II_marine.rho -P {marm_path}')\n",
    "\n",
    "    # Download initial model for FWI\n",
    "    os.system(f'wget https://github.com/daniel-koehn/DENISE-Benchmark/raw/master/Marmousi-II/start/marmousi_II_start_1D.vp -P {marm_path}')\n",
    "    os.system(f'wget https://github.com/daniel-koehn/DENISE-Benchmark/raw/master/Marmousi-II/start/marmousi_II_start_1D.vs -P {marm_path}')\n",
    "    os.system(f'wget https://github.com/daniel-koehn/DENISE-Benchmark/raw/master/Marmousi-II/start/marmousi_II_start_1D.rho -P {marm_path}')\n",
    "    \n",
    "def get_vp_vs_rho(vp):\n",
    "    vp = extend(vp, 15, 0)\n",
    "\n",
    "    print(f'Reshape {vp.shape} into {wb_taper.shape}...')\n",
    "\n",
    "    vp = resize(vp, wb_taper.shape, anti_aliasing=True)\n",
    "    vp = np.where(vp <= 1500.0, 1490.0, vp)\n",
    "    vp = extend(vp, 0, 264 + 10 * 8)\n",
    "\n",
    "    # shear velocity, [m/s]\n",
    "    vs = vp.copy() / (3 ** 0.5)\n",
    "    vs = np.where(vp < 1.01 * np.min(vp), 0, vs)\n",
    "\n",
    "    # density, [kg/m3] \n",
    "    rho = 1e3*0.3 * vp.copy()**0.25\n",
    "    rho = np.where(vp < 1.01 * np.min(vp), 1000, rho)\n",
    "    return vp, vs, rho"
   ]
  },
  {
   "cell_type": "markdown",
   "metadata": {},
   "source": [
    "Extend the model so it accommodates full streamer length for the last shot"
   ]
  },
  {
   "cell_type": "code",
   "execution_count": 12,
   "metadata": {},
   "outputs": [
    {
     "name": "stdout",
     "output_type": "stream",
     "text": [
      "(152, 600)\n",
      "(152, 600)\n",
      "(152, 944)\n",
      "(152, 944)\n",
      "(152, 500)\n",
      "(152, 944)\n"
     ]
    }
   ],
   "source": [
    "vp_long = extend(model.vp, 0, 264 + 10 * 8)\n",
    "vp_cgg_tomo=vp_cgg\n",
    "vp_cgg_tomo_long = extend(vp_cgg_tomo, 0, 364 + 10 * 8)\n",
    "wb_taper2=extend(wb_taper, 0,264 + 10 * 8)\n",
    "vp_cgg_tomo_long2=np.where(wb_taper2,1490.0,vp_cgg_tomo_long)\n",
    "lin_vp_long=vp_long.copy()\n",
    "# print(src)\n",
    "# # print(rec)\n",
    "# print(vp_baseline.shape)\n",
    "print(model.vp.shape)\n",
    "print(wb_taper.shape)\n",
    "print(wb_taper2.shape)\n",
    "print(vp_long.shape)\n",
    "print(vp_cgg_tomo.shape)\n",
    "print(vp_cgg_tomo_long.shape)\n",
    "# vis.plot_acquisition(wb_taper,dx,src,rec)\n",
    "# vis.plot_acquisition(wb_taper2,dx,src,rec)\n",
    "# vis.plot_acquisition(vp_cgg_tomo_long, dx, src, rec, title='Vp',**{'vmax': 3.8, 'vmin': 1.5})\n",
    "# vis.plot_acquisition(vp_cgg_tomo_long2, dx, src, rec, title='Vp',**{'vmax': 3.8, 'vmin': 1.5})\n",
    "# vis.plot_acquisition(lin_vp_long, dx, src, rec, title='Vp',**{'vmax': 3.8, 'vmin': 1.5})"
   ]
  },
  {
   "cell_type": "markdown",
   "metadata": {},
   "source": [
    "## Acquisition design"
   ]
  },
  {
   "cell_type": "code",
   "execution_count": 13,
   "metadata": {},
   "outputs": [],
   "source": [
    "# Wavelet scaler to match field and synthetic\n",
    "wavefield_amp_ratio = 77.08343437940496"
   ]
  },
  {
   "cell_type": "code",
   "execution_count": 14,
   "metadata": {},
   "outputs": [
    {
     "name": "stdout",
     "output_type": "stream",
     "text": [
      "1504.9\n",
      "1490.0\n"
     ]
    }
   ],
   "source": [
    "print(1.01 * vp_cgg_tomo_long.min())\n",
    "print(1.0 * vp_cgg_tomo_long.min())"
   ]
  },
  {
   "cell_type": "code",
   "execution_count": 15,
   "metadata": {},
   "outputs": [
    {
     "name": "stdout",
     "output_type": "stream",
     "text": [
      "(152, 600)\n",
      "(152, 944)\n"
     ]
    },
    {
     "data": {
      "image/png": "[encoded data removed]",
      "text/plain": [
       "<Figure size 600x400 with 2 Axes>"
      ]
     },
     "metadata": {
      "needs_background": "light"
     },
     "output_type": "display_data"
    },
    {
     "data": {
      "image/png": "[encoded data removed]",
      "text/plain": [
       "<Figure size 600x400 with 2 Axes>"
      ]
     },
     "metadata": {
      "needs_background": "light"
     },
     "output_type": "display_data"
    },
    {
     "data": {
      "image/png": "[encoded data removed]",
      "text/plain": [
       "<Figure size 600x400 with 2 Axes>"
      ]
     },
     "metadata": {
      "needs_background": "light"
     },
     "output_type": "display_data"
    }
   ],
   "source": [
    "# Set custom wavelet\n",
    "wls = bpw[:, ::2]\n",
    "src.wavelets = wavefield_amp_ratio * wls[:, :limit_nt]\n",
    "wb_taper = np.where(vp_cgg_tomo_long < 1.01 * vp_cgg_tomo_long.min(), 1, 0)\n",
    "wb_taper3=calculate_water_taper(np.flipud(vp_cgg_tomo_long),min_water_velocity=1.01 * vp_cgg_tomo_long.min())\n",
    "wb_taper3=np.flipud(wb_taper3)\n",
    "# vis.plot_model(wb_taper3-wb_taper)\n",
    "wb_taper=wb_taper3\n",
    "vis.plot_acquisition(vp,dx,src,rec, title='Vp',**{'vmax': 3.8, 'vmin': 1.5})\n",
    "vis.plot_acquisition(vp_cgg_tomo_long, dx, src, rec, title='Vp',**{'vmax': 3.8, 'vmin': 1.5})\n",
    "vis.plot_model(wb_taper3)\n",
    "# print(vp_cgg_tomo_long)\n",
    "print(vp.shape)\n",
    "print(vp_cgg_tomo_long.shape)"
   ]
  },
  {
   "cell_type": "code",
   "execution_count": 16,
   "metadata": {},
   "outputs": [
    {
     "data": {
      "image/png": "[encoded data removed]",
      "text/plain": [
       "<Figure size 600x400 with 2 Axes>"
      ]
     },
     "metadata": {
      "needs_background": "light"
     },
     "output_type": "display_data"
    }
   ],
   "source": [
    "# log = model.vp[:, log_idx]\n",
    "log = model.vp[-len(wlog):, log_idx]\n",
    "# model_log = copy.deepcopy(model)\n",
    "log_dict = {'data':wlog, 'loc': log_loc}\n",
    "vis.plot_acquisition(vp[:, :500], dx, src, rec, log=log_dict)\n",
    "# vis.savefig('vinit.png')"
   ]
  },
  {
   "cell_type": "markdown",
   "metadata": {},
   "source": [
    "Create new initial (orange line). This is to see whether knowledge about exact waterbottom will improve results"
   ]
  },
  {
   "cell_type": "code",
   "execution_count": 17,
   "metadata": {},
   "outputs": [
    {
     "name": "stdout",
     "output_type": "stream",
     "text": [
      "(152, 944)\n",
      "Well-log from 10500 maps into ix: 420\n"
     ]
    }
   ],
   "source": [
    "new_vp = np.zeros_like(model.vp)\n",
    "vps=[]\n",
    "for i in range(wb_taper.shape[-1]):\n",
    "    wb = wb_taper.shape[0] - np.argmax(wb_taper[:,i]) + 2\n",
    "    fun = vmin * np.ones_like(new_vp[:, 0:1])\n",
    "    fun[wb:, :] = 690 + fun[wb:, :] + 6 * np.expand_dims(np.arange(len(fun[wb:, 0])), 1)\n",
    "    fun = fun[::-1, :]\n",
    "    vps.append(fun)\n",
    "new_vp = np.concatenate(vps, -1)\n",
    "new_vp = gaussian_filter(new_vp.copy(), **sigma_truncate)\n",
    "\n",
    "print(new_vp.shape)\n",
    "print(f'Well-log from {log_loc} maps into ix: {log_idx}')\n",
    "# plt.figure(); plt.plot(wlog, 'k--'); plt.plot(log[-len(wlog):]); plt.plot(new_vp[-len(wlog):, log_idx])"
   ]
  },
  {
   "cell_type": "markdown",
   "metadata": {},
   "source": [
    "Set new model as initial"
   ]
  },
  {
   "cell_type": "code",
   "execution_count": 18,
   "metadata": {
    "scrolled": true
   },
   "outputs": [
    {
     "name": "stdout",
     "output_type": "stream",
     "text": [
      "name:\t\n",
      "x\t(95,):\tmin: 375.0\tmax: 14475.0\n",
      "y\t(95,):\tmin: 50.0\tmax: 50.0\n",
      "wavelets\t(95, 3000):\tmin: -400.8610078720592\tmax: 484.6122728113698\n",
      "z\t(95,):\tmin: 0.0\tmax: 0.0\n",
      "nshot:\t95\n",
      "td\t(95,):\tmin: 0.0\tmax: 0.0\n",
      "fc\t(95,):\tmin: 8.0\tmax: 8.0\n",
      "amp\t(95,):\tmin: 1.0\tmax: 1.0\n",
      "angle\t(95,):\tmin: 0.0\tmax: 0.0\n",
      "QUELLTYPB:\t1\n",
      "src_type\t(95,):\tmin: 1.0\tmax: 1.0\n",
      "\n",
      "------------\n",
      "x\t(324,):\tmin: 525.0\tmax: 8600.0\n",
      "y\t(324,):\tmin: 100.0\tmax: 100.0\n",
      "many:\t[x\t(324,):\tmin: 525.0\tmax: 8600.0\n",
      "y\t(324,):\tmin: 100.0\tmax: 100.0\n",
      "name:\t]\n"
     ]
    }
   ],
   "source": [
    "vp = vp_cgg_tomo_long.copy()\n",
    "# vp = new_vp.copy()\n",
    "vs = vp.copy() / (3 ** 0.5)\n",
    "rho = 1e3*0.3 * vp.copy()**0.25\n",
    "\n",
    "vp = np.where(wb_taper, np.min(vp_cgg), vp)\n",
    "vs = np.where(wb_taper, 0, vs)\n",
    "rho = np.where(wb_taper, 1000, rho)\n",
    "\n",
    "# log = vplog.copy()\n",
    "model = api.Model(vp, vs, rho, dx)\n",
    "print(src, end='\\n\\n------------\\n')\n",
    "print(rec)"
   ]
  },
  {
   "cell_type": "code",
   "execution_count": 19,
   "metadata": {},
   "outputs": [
    {
     "name": "stdout",
     "output_type": "stream",
     "text": [
      "(95, 7052)\n",
      "(1, 3000)\n",
      "(1, 3000)\n"
     ]
    }
   ],
   "source": [
    "print(bpw.shape)\n",
    "bpw2=bpw[0:1,::2]\n",
    "bpw2=bpw2[:,:3000]\n",
    "print(bpw2.shape)\n",
    "bpw2=src.wavelets[0:1,:]\n",
    "print(bpw2.shape)"
   ]
  },
  {
   "cell_type": "code",
   "execution_count": 20,
   "metadata": {},
   "outputs": [
    {
     "name": "stdout",
     "output_type": "stream",
     "text": [
      "/home/plotnips/Dropbox/Log_extrapolation/scripts/DENISE-Black-Edition-master/for_pasha\n",
      "name:\t\n",
      "x\t(95,):\tmin: 375.0\tmax: 14475.0\n",
      "y\t(95,):\tmin: 50.0\tmax: 50.0\n",
      "wavelets\t(95, 3000):\tmin: -400.8610078720592\tmax: 484.6122728113698\n",
      "z\t(95,):\tmin: 0.0\tmax: 0.0\n",
      "nshot:\t95\n",
      "td\t(95,):\tmin: 0.0\tmax: 0.0\n",
      "fc\t(95,):\tmin: 8.0\tmax: 8.0\n",
      "amp\t(95,):\tmin: 1.0\tmax: 1.0\n",
      "angle\t(95,):\tmin: 0.0\tmax: 0.0\n",
      "QUELLTYPB:\t1\n",
      "src_type\t(95,):\tmin: 1.0\tmax: 1.0\n"
     ]
    }
   ],
   "source": [
    "acq_data = {'src':src,'rec':rec,'wavelet':bpw2,'src_x0':src_x0,'rec_x0':rec_x0,'dsrc':dsrc,'drec':drec,'dDT':dDT,\n",
    "           'log_dict':log_dict}\n",
    "print(os.getcwd())\n",
    "# with open(os.path.join('acq_data_parameters.pkl'),'rb') as input:\n",
    "#     d2=pickle.load(input)\n",
    "# print(d2)\n",
    "print(src)\n",
    "with open(os.path.join('acq_data_parameters_cgg_correct.pkl'), 'wb+') as output:\n",
    "    pickle.dump(acq_data,output,protocol=4)\n",
    "# with open(os.path.join('for_pasha','acq_data_parameters.pkl'), 'wb+') as output:\n",
    "#     pickle.dump(acq_data,output,protocol=4)"
   ]
  },
  {
   "cell_type": "markdown",
   "metadata": {},
   "source": [
    "## Generate true waveforms"
   ]
  },
  {
   "cell_type": "markdown",
   "metadata": {},
   "source": [
    "Set some runtime parameters which are different from defaults. Check defaults by runnning `help()`"
   ]
  },
  {
   "cell_type": "code",
   "execution_count": 21,
   "metadata": {},
   "outputs": [
    {
     "name": "stdout",
     "output_type": "stream",
     "text": [
      "0.002 3000\n"
     ]
    }
   ],
   "source": [
    "# Elastic modeling\n",
    "d.verbose = 1\n",
    "d.PHYSICS = 1\n",
    "d.DT = dDT\n",
    "d.NT = data_p.shape[-1]\n",
    "d.TIME = dDT * d.NT\n",
    "#\n",
    "d.FC_SPIKE_2 = 10\n",
    "# DSCRC=5000;     \n",
    "# dsrc=DSCRC\n",
    "d.REC_INCR_X = dsrc\n",
    "d.N_STREAMER = len(rec)\n",
    "d.TESTSHOT_START = 1\n",
    "d.TESTSHOT_END = len(src)\n",
    "d.TESTSHOT_INCR = 10\n",
    "d.QUELLTYPB = 4\n",
    "d.QUELLART = 3  \n",
    "d.WRITE_STF = 0\n",
    "d.SEISMO = 2\n",
    "\n",
    "# d.TESTSHOT_START = np.round(0.1 * len(src))\n",
    "# d.TESTSHOT_END = np.round(0.9 * len(src))\n",
    "# d.TESTSHOT_INCR = 5\n",
    "print(d.DT, d.NT)"
   ]
  },
  {
   "cell_type": "markdown",
   "metadata": {},
   "source": [
    "### Run forward modeling"
   ]
  },
  {
   "cell_type": "code",
   "execution_count": 26,
   "metadata": {},
   "outputs": [
    {
     "name": "stdout",
     "output_type": "stream",
     "text": [
      "./out_for_pasha/su/field/\n",
      "./out_for_pasha/\n"
     ]
    }
   ],
   "source": [
    "d.NPROCX = 1\n",
    "d.NPROCY = 1\n",
    "par_forward = {'run_command': 'mpirun -np 30', 'disable': False}\n",
    "root_su_field = os.path.join(d._root_su, 'field/'); \n",
    "d.SEIS_FILE_P=root_su_field\n",
    "print(d.SEIS_FILE_P)\n",
    "print(root_fwi)"
   ]
  },
  {
   "cell_type": "code",
   "execution_count": 25,
   "metadata": {},
   "outputs": [
    {
     "name": "stdout",
     "output_type": "stream",
     "text": [
      "Init model:\n",
      "\t152 x 944, dx = 25.0 m\n",
      "Check max source frequency:\n",
      "\tmin Vs: 865.6191019897758 m/s\n",
      "\tmin Vp: 1490.0 m/s\n",
      "\tNumber of gridpoints per minimum wavelength = 3.69\n",
      "\tMaximum source wavelet frequency = 9.383404899618165 Hz\n",
      "Check domain decomposition for parallelization:\n",
      "\tin X-direction, NX % NPROCX, 944 % 1 = 0\n",
      "\tin Y-direction, NY % NPROCY, 152 % 1 = 0\n",
      "Write ./out_for_pasha/start/model.vp\n",
      "Write ./out_for_pasha/start/model.vs\n",
      "Write ./out_for_pasha/start/model.rho\n",
      "Enable streamer mode!\n",
      "\tsource 1: ./out_for_pasha/receiver/receivers_shot_1\n",
      "\tsource 2: ./out_for_pasha/receiver/receivers_shot_2\n",
      "\tsource 3: ./out_for_pasha/receiver/receivers_shot_3\n",
      "\tsource 4: ./out_for_pasha/receiver/receivers_shot_4\n",
      "\tsource 5: ./out_for_pasha/receiver/receivers_shot_5\n",
      "\tsource 6: ./out_for_pasha/receiver/receivers_shot_6\n",
      "\tsource 7: ./out_for_pasha/receiver/receivers_shot_7\n",
      "\tsource 8: ./out_for_pasha/receiver/receivers_shot_8\n",
      "\tsource 9: ./out_for_pasha/receiver/receivers_shot_9\n",
      "\tsource 10: ./out_for_pasha/receiver/receivers_shot_10\n",
      "\tsource 11: ./out_for_pasha/receiver/receivers_shot_11\n",
      "\tsource 12: ./out_for_pasha/receiver/receivers_shot_12\n",
      "\tsource 13: ./out_for_pasha/receiver/receivers_shot_13\n",
      "\tsource 14: ./out_for_pasha/receiver/receivers_shot_14\n",
      "\tsource 15: ./out_for_pasha/receiver/receivers_shot_15\n",
      "\tsource 16: ./out_for_pasha/receiver/receivers_shot_16\n",
      "\tsource 17: ./out_for_pasha/receiver/receivers_shot_17\n",
      "\tsource 18: ./out_for_pasha/receiver/receivers_shot_18\n",
      "\tsource 19: ./out_for_pasha/receiver/receivers_shot_19\n",
      "\tsource 20: ./out_for_pasha/receiver/receivers_shot_20\n",
      "\tsource 21: ./out_for_pasha/receiver/receivers_shot_21\n",
      "\tsource 22: ./out_for_pasha/receiver/receivers_shot_22\n",
      "\tsource 23: ./out_for_pasha/receiver/receivers_shot_23\n",
      "\tsource 24: ./out_for_pasha/receiver/receivers_shot_24\n",
      "\tsource 25: ./out_for_pasha/receiver/receivers_shot_25\n",
      "\tsource 26: ./out_for_pasha/receiver/receivers_shot_26\n",
      "\tsource 27: ./out_for_pasha/receiver/receivers_shot_27\n",
      "\tsource 28: ./out_for_pasha/receiver/receivers_shot_28\n",
      "\tsource 29: ./out_for_pasha/receiver/receivers_shot_29\n",
      "\tsource 30: ./out_for_pasha/receiver/receivers_shot_30\n",
      "\tsource 31: ./out_for_pasha/receiver/receivers_shot_31\n",
      "\tsource 32: ./out_for_pasha/receiver/receivers_shot_32\n",
      "\tsource 33: ./out_for_pasha/receiver/receivers_shot_33\n",
      "\tsource 34: ./out_for_pasha/receiver/receivers_shot_34\n",
      "\tsource 35: ./out_for_pasha/receiver/receivers_shot_35\n",
      "\tsource 36: ./out_for_pasha/receiver/receivers_shot_36\n",
      "\tsource 37: ./out_for_pasha/receiver/receivers_shot_37\n",
      "\tsource 38: ./out_for_pasha/receiver/receivers_shot_38\n",
      "\tsource 39: ./out_for_pasha/receiver/receivers_shot_39\n",
      "\tsource 40: ./out_for_pasha/receiver/receivers_shot_40\n",
      "\tsource 41: ./out_for_pasha/receiver/receivers_shot_41\n",
      "\tsource 42: ./out_for_pasha/receiver/receivers_shot_42\n",
      "\tsource 43: ./out_for_pasha/receiver/receivers_shot_43\n",
      "\tsource 44: ./out_for_pasha/receiver/receivers_shot_44\n",
      "\tsource 45: ./out_for_pasha/receiver/receivers_shot_45\n",
      "\tsource 46: ./out_for_pasha/receiver/receivers_shot_46\n",
      "\tsource 47: ./out_for_pasha/receiver/receivers_shot_47\n",
      "\tsource 48: ./out_for_pasha/receiver/receivers_shot_48\n",
      "\tsource 49: ./out_for_pasha/receiver/receivers_shot_49\n",
      "\tsource 50: ./out_for_pasha/receiver/receivers_shot_50\n",
      "\tsource 51: ./out_for_pasha/receiver/receivers_shot_51\n",
      "\tsource 52: ./out_for_pasha/receiver/receivers_shot_52\n",
      "\tsource 53: ./out_for_pasha/receiver/receivers_shot_53\n",
      "\tsource 54: ./out_for_pasha/receiver/receivers_shot_54\n",
      "\tsource 55: ./out_for_pasha/receiver/receivers_shot_55\n",
      "\tsource 56: ./out_for_pasha/receiver/receivers_shot_56\n",
      "\tsource 57: ./out_for_pasha/receiver/receivers_shot_57\n",
      "\tsource 58: ./out_for_pasha/receiver/receivers_shot_58\n",
      "\tsource 59: ./out_for_pasha/receiver/receivers_shot_59\n",
      "\tsource 60: ./out_for_pasha/receiver/receivers_shot_60\n",
      "\tsource 61: ./out_for_pasha/receiver/receivers_shot_61\n",
      "\tsource 62: ./out_for_pasha/receiver/receivers_shot_62\n",
      "\tsource 63: ./out_for_pasha/receiver/receivers_shot_63\n",
      "\tsource 64: ./out_for_pasha/receiver/receivers_shot_64\n",
      "\tsource 65: ./out_for_pasha/receiver/receivers_shot_65\n",
      "\tsource 66: ./out_for_pasha/receiver/receivers_shot_66\n",
      "\tsource 67: ./out_for_pasha/receiver/receivers_shot_67\n",
      "\tsource 68: ./out_for_pasha/receiver/receivers_shot_68\n",
      "\tsource 69: ./out_for_pasha/receiver/receivers_shot_69\n",
      "\tsource 70: ./out_for_pasha/receiver/receivers_shot_70\n",
      "\tsource 71: ./out_for_pasha/receiver/receivers_shot_71\n",
      "\tsource 72: ./out_for_pasha/receiver/receivers_shot_72\n",
      "\tsource 73: ./out_for_pasha/receiver/receivers_shot_73\n",
      "\tsource 74: ./out_for_pasha/receiver/receivers_shot_74\n",
      "\tsource 75: ./out_for_pasha/receiver/receivers_shot_75\n",
      "\tsource 76: ./out_for_pasha/receiver/receivers_shot_76\n",
      "\tsource 77: ./out_for_pasha/receiver/receivers_shot_77\n",
      "\tsource 78: ./out_for_pasha/receiver/receivers_shot_78\n",
      "\tsource 79: ./out_for_pasha/receiver/receivers_shot_79\n",
      "\tsource 80: ./out_for_pasha/receiver/receivers_shot_80\n",
      "\tsource 81: ./out_for_pasha/receiver/receivers_shot_81\n",
      "\tsource 82: ./out_for_pasha/receiver/receivers_shot_82\n",
      "\tsource 83: ./out_for_pasha/receiver/receivers_shot_83\n",
      "\tsource 84: ./out_for_pasha/receiver/receivers_shot_84\n",
      "\tsource 85: ./out_for_pasha/receiver/receivers_shot_85\n",
      "\tsource 86: ./out_for_pasha/receiver/receivers_shot_86\n",
      "\tsource 87: ./out_for_pasha/receiver/receivers_shot_87\n",
      "\tsource 88: ./out_for_pasha/receiver/receivers_shot_88\n",
      "\tsource 89: ./out_for_pasha/receiver/receivers_shot_89\n",
      "\tsource 90: ./out_for_pasha/receiver/receivers_shot_90\n",
      "\tsource 91: ./out_for_pasha/receiver/receivers_shot_91\n",
      "\tsource 92: ./out_for_pasha/receiver/receivers_shot_92\n",
      "\tsource 93: ./out_for_pasha/receiver/receivers_shot_93\n",
      "\tsource 94: ./out_for_pasha/receiver/receivers_shot_94\n",
      "\tsource 95: ./out_for_pasha/receiver/receivers_shot_95\n",
      "Write wavelets, one for every shot.\n",
      "\twavelet 1: ./out_for_pasha/wavelet/wavelet_shot_1.dat\n",
      "\twavelet 2: ./out_for_pasha/wavelet/wavelet_shot_2.dat\n",
      "\twavelet 3: ./out_for_pasha/wavelet/wavelet_shot_3.dat\n",
      "\twavelet 4: ./out_for_pasha/wavelet/wavelet_shot_4.dat\n",
      "\twavelet 5: ./out_for_pasha/wavelet/wavelet_shot_5.dat\n",
      "\twavelet 6: ./out_for_pasha/wavelet/wavelet_shot_6.dat\n",
      "\twavelet 7: ./out_for_pasha/wavelet/wavelet_shot_7.dat\n",
      "\twavelet 8: ./out_for_pasha/wavelet/wavelet_shot_8.dat\n",
      "\twavelet 9: ./out_for_pasha/wavelet/wavelet_shot_9.dat\n",
      "\twavelet 10: ./out_for_pasha/wavelet/wavelet_shot_10.dat\n",
      "\twavelet 11: ./out_for_pasha/wavelet/wavelet_shot_11.dat\n",
      "\twavelet 12: ./out_for_pasha/wavelet/wavelet_shot_12.dat\n",
      "\twavelet 13: ./out_for_pasha/wavelet/wavelet_shot_13.dat\n",
      "\twavelet 14: ./out_for_pasha/wavelet/wavelet_shot_14.dat\n",
      "\twavelet 15: ./out_for_pasha/wavelet/wavelet_shot_15.dat\n",
      "\twavelet 16: ./out_for_pasha/wavelet/wavelet_shot_16.dat\n",
      "\twavelet 17: ./out_for_pasha/wavelet/wavelet_shot_17.dat\n",
      "\twavelet 18: ./out_for_pasha/wavelet/wavelet_shot_18.dat\n",
      "\twavelet 19: ./out_for_pasha/wavelet/wavelet_shot_19.dat\n",
      "\twavelet 20: ./out_for_pasha/wavelet/wavelet_shot_20.dat\n",
      "\twavelet 21: ./out_for_pasha/wavelet/wavelet_shot_21.dat\n",
      "\twavelet 22: ./out_for_pasha/wavelet/wavelet_shot_22.dat\n",
      "\twavelet 23: ./out_for_pasha/wavelet/wavelet_shot_23.dat\n",
      "\twavelet 24: ./out_for_pasha/wavelet/wavelet_shot_24.dat\n",
      "\twavelet 25: ./out_for_pasha/wavelet/wavelet_shot_25.dat\n",
      "\twavelet 26: ./out_for_pasha/wavelet/wavelet_shot_26.dat\n",
      "\twavelet 27: ./out_for_pasha/wavelet/wavelet_shot_27.dat\n",
      "\twavelet 28: ./out_for_pasha/wavelet/wavelet_shot_28.dat\n",
      "\twavelet 29: ./out_for_pasha/wavelet/wavelet_shot_29.dat\n",
      "\twavelet 30: ./out_for_pasha/wavelet/wavelet_shot_30.dat\n",
      "\twavelet 31: ./out_for_pasha/wavelet/wavelet_shot_31.dat\n",
      "\twavelet 32: ./out_for_pasha/wavelet/wavelet_shot_32.dat\n",
      "\twavelet 33: ./out_for_pasha/wavelet/wavelet_shot_33.dat\n",
      "\twavelet 34: ./out_for_pasha/wavelet/wavelet_shot_34.dat\n",
      "\twavelet 35: ./out_for_pasha/wavelet/wavelet_shot_35.dat\n",
      "\twavelet 36: ./out_for_pasha/wavelet/wavelet_shot_36.dat\n",
      "\twavelet 37: ./out_for_pasha/wavelet/wavelet_shot_37.dat\n",
      "\twavelet 38: ./out_for_pasha/wavelet/wavelet_shot_38.dat\n",
      "\twavelet 39: ./out_for_pasha/wavelet/wavelet_shot_39.dat\n",
      "\twavelet 40: ./out_for_pasha/wavelet/wavelet_shot_40.dat\n",
      "\twavelet 41: ./out_for_pasha/wavelet/wavelet_shot_41.dat\n",
      "\twavelet 42: ./out_for_pasha/wavelet/wavelet_shot_42.dat\n",
      "\twavelet 43: ./out_for_pasha/wavelet/wavelet_shot_43.dat\n",
      "\twavelet 44: ./out_for_pasha/wavelet/wavelet_shot_44.dat\n",
      "\twavelet 45: ./out_for_pasha/wavelet/wavelet_shot_45.dat\n",
      "\twavelet 46: ./out_for_pasha/wavelet/wavelet_shot_46.dat\n"
     ]
    },
    {
     "name": "stdout",
     "output_type": "stream",
     "text": [
      "\twavelet 47: ./out_for_pasha/wavelet/wavelet_shot_47.dat\n",
      "\twavelet 48: ./out_for_pasha/wavelet/wavelet_shot_48.dat\n",
      "\twavelet 49: ./out_for_pasha/wavelet/wavelet_shot_49.dat\n",
      "\twavelet 50: ./out_for_pasha/wavelet/wavelet_shot_50.dat\n",
      "\twavelet 51: ./out_for_pasha/wavelet/wavelet_shot_51.dat\n",
      "\twavelet 52: ./out_for_pasha/wavelet/wavelet_shot_52.dat\n",
      "\twavelet 53: ./out_for_pasha/wavelet/wavelet_shot_53.dat\n",
      "\twavelet 54: ./out_for_pasha/wavelet/wavelet_shot_54.dat\n",
      "\twavelet 55: ./out_for_pasha/wavelet/wavelet_shot_55.dat\n",
      "\twavelet 56: ./out_for_pasha/wavelet/wavelet_shot_56.dat\n",
      "\twavelet 57: ./out_for_pasha/wavelet/wavelet_shot_57.dat\n",
      "\twavelet 58: ./out_for_pasha/wavelet/wavelet_shot_58.dat\n",
      "\twavelet 59: ./out_for_pasha/wavelet/wavelet_shot_59.dat\n",
      "\twavelet 60: ./out_for_pasha/wavelet/wavelet_shot_60.dat\n",
      "\twavelet 61: ./out_for_pasha/wavelet/wavelet_shot_61.dat\n",
      "\twavelet 62: ./out_for_pasha/wavelet/wavelet_shot_62.dat\n",
      "\twavelet 63: ./out_for_pasha/wavelet/wavelet_shot_63.dat\n",
      "\twavelet 64: ./out_for_pasha/wavelet/wavelet_shot_64.dat\n",
      "\twavelet 65: ./out_for_pasha/wavelet/wavelet_shot_65.dat\n",
      "\twavelet 66: ./out_for_pasha/wavelet/wavelet_shot_66.dat\n",
      "\twavelet 67: ./out_for_pasha/wavelet/wavelet_shot_67.dat\n",
      "\twavelet 68: ./out_for_pasha/wavelet/wavelet_shot_68.dat\n",
      "\twavelet 69: ./out_for_pasha/wavelet/wavelet_shot_69.dat\n",
      "\twavelet 70: ./out_for_pasha/wavelet/wavelet_shot_70.dat\n",
      "\twavelet 71: ./out_for_pasha/wavelet/wavelet_shot_71.dat\n",
      "\twavelet 72: ./out_for_pasha/wavelet/wavelet_shot_72.dat\n",
      "\twavelet 73: ./out_for_pasha/wavelet/wavelet_shot_73.dat\n",
      "\twavelet 74: ./out_for_pasha/wavelet/wavelet_shot_74.dat\n",
      "\twavelet 75: ./out_for_pasha/wavelet/wavelet_shot_75.dat\n",
      "\twavelet 76: ./out_for_pasha/wavelet/wavelet_shot_76.dat\n",
      "\twavelet 77: ./out_for_pasha/wavelet/wavelet_shot_77.dat\n",
      "\twavelet 78: ./out_for_pasha/wavelet/wavelet_shot_78.dat\n",
      "\twavelet 79: ./out_for_pasha/wavelet/wavelet_shot_79.dat\n",
      "\twavelet 80: ./out_for_pasha/wavelet/wavelet_shot_80.dat\n",
      "\twavelet 81: ./out_for_pasha/wavelet/wavelet_shot_81.dat\n",
      "\twavelet 82: ./out_for_pasha/wavelet/wavelet_shot_82.dat\n",
      "\twavelet 83: ./out_for_pasha/wavelet/wavelet_shot_83.dat\n",
      "\twavelet 84: ./out_for_pasha/wavelet/wavelet_shot_84.dat\n",
      "\twavelet 85: ./out_for_pasha/wavelet/wavelet_shot_85.dat\n",
      "\twavelet 86: ./out_for_pasha/wavelet/wavelet_shot_86.dat\n",
      "\twavelet 87: ./out_for_pasha/wavelet/wavelet_shot_87.dat\n",
      "\twavelet 88: ./out_for_pasha/wavelet/wavelet_shot_88.dat\n",
      "\twavelet 89: ./out_for_pasha/wavelet/wavelet_shot_89.dat\n",
      "\twavelet 90: ./out_for_pasha/wavelet/wavelet_shot_90.dat\n",
      "\twavelet 91: ./out_for_pasha/wavelet/wavelet_shot_91.dat\n",
      "\twavelet 92: ./out_for_pasha/wavelet/wavelet_shot_92.dat\n",
      "\twavelet 93: ./out_for_pasha/wavelet/wavelet_shot_93.dat\n",
      "\twavelet 94: ./out_for_pasha/wavelet/wavelet_shot_94.dat\n",
      "\twavelet 95: ./out_for_pasha/wavelet/wavelet_shot_95.dat\n",
      "Start simulation for 95 sources. NT: 3000, DT: 0.002...wait\n",
      "\n",
      "\n",
      "Done. 607.0274991989136 sec.\n",
      "\n",
      "Check results in ./out_for_pasha/su/\n"
     ]
    }
   ],
   "source": [
    "# d.forward(model, src, rec, **par_forward)\n",
    "# d.save_folder = root_fwi"
   ]
  },
  {
   "cell_type": "code",
   "execution_count": null,
   "metadata": {
    "scrolled": false
   },
   "outputs": [],
   "source": [
    "d.verbose = 0    # don't show redundant print outs\n",
    "if d.DT is None:\n",
    "    d.DT = 0.002\n",
    "print(d.DATA_DIR)\n",
    "mpl.rcParams['figure.dpi']= 300\n",
    "par_shot = {'vmin': -0.05, 'vmax': 0.05}\n",
    "data_p_backup = data_p.copy()"
   ]
  },
  {
   "cell_type": "markdown",
   "metadata": {},
   "source": [
    "# REPLACE FIELD DATA BY MARM DATA"
   ]
  },
  {
   "cell_type": "code",
   "execution_count": null,
   "metadata": {},
   "outputs": [],
   "source": [
    "print(data_p_backup.shape, d.DT)\n",
    "par_mutter = {'k': 7, 'b': -100, 'r': 30}\n",
    "new_data_p = []\n",
    "for idat in range(data_p.shape[0]):\n",
    "    new_data_p.append(np.expand_dims(ld.mutter(data_p[idat, ...], **par_mutter), 0))\n",
    "new_data_p = np.concatenate(new_data_p)\n",
    "new_data_p.shape"
   ]
  },
  {
   "cell_type": "code",
   "execution_count": null,
   "metadata": {},
   "outputs": [],
   "source": [
    "# vis.plot_shot(new_data_p[0,...], pclip=0.0125)\n",
    "# vis.plot_shot(new_data_p[0,...])"
   ]
  },
  {
   "cell_type": "code",
   "execution_count": null,
   "metadata": {},
   "outputs": [],
   "source": [
    "# vis.plot_spectrum2(data_p[0,...], pclip=0.5, title='', colorbar=False, dt=0.002, dx=dx, fmax=20, kmax=None,\n",
    "#                    figsize=None, axis=True, plot_only=False)"
   ]
  },
  {
   "cell_type": "code",
   "execution_count": null,
   "metadata": {},
   "outputs": [],
   "source": [
    "# par_mutter = {'k': 7, 'b': 100, 'r': 30}\n",
    "# vis.plot_shot(ld.mutter(data_p[0,...], **par_mutter), pclip=0.0125)"
   ]
  },
  {
   "cell_type": "code",
   "execution_count": null,
   "metadata": {},
   "outputs": [],
   "source": [
    "# # data_p = np.concatenate([np.expand_dims(s, 0) for s in shots], 0)\n",
    "# print(data_p.shape, data_p.min(), data_p.max())\n",
    "# dref = np.mean(data_p, 0)\n",
    "# fig, ax = plt.subplots(1, 2, figsize=(10, 5))\n",
    "# vis.plot_shot(dref, title='Field data', pclip=0.25, colorbar=True, ax=ax[0])\n",
    "# vis.plot_spectrum(dref, dt=0.002, fmax=10, title='Spectrum', ax=ax[1])"
   ]
  },
  {
   "cell_type": "markdown",
   "metadata": {},
   "source": [
    "## Save field data to a new folder in /su/"
   ]
  },
  {
   "cell_type": "code",
   "execution_count": null,
   "metadata": {},
   "outputs": [],
   "source": [
    "def copy_su_from_to(path_from, path_to):\n",
    "    \"\"\" Copy files matching *.su.* from one folder to another folder\"\"\"\n",
    "    os.makedirs(path_to, exist_ok=True)\n",
    "    su_files = glob(path_from + '/*.su.*')\n",
    "    su_files = [f for f in su_files if '.it' not in f]\n",
    "    print(f'Found {len(su_files)} *.su.* files in {path_from}')\n",
    "\n",
    "    commands = []\n",
    "    print(f'Copy files from {path_from} to {path_to}')\n",
    "    for f in su_files:\n",
    "        commands.append(f'cp {f} {path_to}')\n",
    "    with multiprocessing.Pool() as pool:\n",
    "        pool.map(os.system, commands)"
   ]
  },
  {
   "cell_type": "code",
   "execution_count": null,
   "metadata": {},
   "outputs": [],
   "source": [
    "from glob import glob\n",
    "print(d._root_su)\n",
    "print(root_su_field)\n",
    "# copy_su_from_to(d._root_su,root_su_field)"
   ]
  },
  {
   "cell_type": "code",
   "execution_count": null,
   "metadata": {},
   "outputs": [],
   "source": [
    "shots,filenames=d.get_shots_from_directory(d._root_su,keys=['_p'],return_filenames=True)\n",
    "shots=shots[::20]\n",
    "filenames=filenames[::20]\n",
    "print(filenames)\n",
    "for shot,filename in zip(shots,filenames):\n",
    "    print(filename)\n",
    "    plot_shot(shot,pclip=0.05,folder_path='./pictures_for_check',file_path=filename.split('/')[-1]+'.png',show=0)"
   ]
  },
  {
   "cell_type": "markdown",
   "metadata": {},
   "source": [
    "# Write field data into created .su files"
   ]
  },
  {
   "cell_type": "code",
   "execution_count": null,
   "metadata": {},
   "outputs": [],
   "source": [
    "def get_fnames_pattern(pattern):    \n",
    "    fnames = natsorted(glob(pattern))\n",
    "    fnames = [f for f in fnames if '.it' not in f]\n",
    "    print(f'{len(fnames)} files found in {pattern}')\n",
    "    return fnames\n",
    "fnames = get_fnames_pattern(root_su_field + '*.su.*')\n",
    "print(fnames)\n",
    "for i, f in enumerate(fnames):\n",
    "    with segyio.su.open(f, \"r+\", endian='little', ignore_geometry=True) as dst:\n",
    "        tmp = new_data_p[i, :, ::d.NDT]\n",
    "        dst.trace = tmp\n",
    "        print(f, dst.tracecount, tmp.shape, end='\\r')"
   ]
  },
  {
   "cell_type": "code",
   "execution_count": null,
   "metadata": {},
   "outputs": [],
   "source": [
    "def filter_seismic_data(path,dt=0.002,corner_frequency=5,fmax=10):\n",
    "    # d=api.Denise('./',verbose=1)\n",
    "    d=api.Denise('/home/plotnips/Dropbox/Log_extrapolation/scripts/DENISE-Black-Edition-master',verbose=0)\n",
    "    shots,filenames=d.get_shots_from_directory(path,return_filenames=True)\n",
    "    print('low frequency data corner frequency, ',corner_frequency)\n",
    "    print(f'Read {len(shots)} shots {shots[0].shape} into list')\n",
    "    counter=0\n",
    "    for shot,filename in zip(shots,filenames):\n",
    "        ################    processing stage 1\n",
    "        filtered_shot=bandpass(shot,fhi=6, dt=dt,order=8, btype='low')\n",
    "        ################    processing stage 2\n",
    "        filtered_shot2=bandpass(shot,flo=corner_frequency+0.8,dt=dt,order=8,btype='high')\n",
    "        filtered_shot2_=bandpass(shot,flo=corner_frequency+0.8,fhi=6,dt=dt,order=8,btype='band') #for plotting purposes\n",
    "        ################    processing stage 3\n",
    "        filtered_shot3=zero_below_freq(filtered_shot2,corner_frequency+0.1,dt, disable=False,reverse=False)\n",
    "        filtered_shot3_=zero_below_freq(filtered_shot2_,corner_frequency+0.1,dt, disable=False,reverse=False)\n",
    "        ################\n",
    "        plotting_flag=1\n",
    "        if plotting_flag==1:\n",
    "            shots_list=[0,22,44,66]\n",
    "            if counter in shots_list:\n",
    "                plot_shot(shot,pclip=0.05,folder_path='./pictures_for_check',file_path='shot_'+str(counter)+'.png',show=0)\n",
    "                plot_shot(filtered_shot2,pclip=0.05,folder_path='./pictures_for_check',file_path='shot'+str(counter)+'_stage2.png',show=0)\n",
    "                freqs,ps=plot_spectrum(shot,dt,fmax=fmax,folder_path='./pictures_for_check',file_path='spectrum_'+str(counter)+'_original.png')\n",
    "                freqs,ps=plot_spectrum(filtered_shot2,dt,fmax=fmax,folder_path='./pictures_for_check',file_path='spectrum_'+str(counter)+'stage2.png')\n",
    "        ################    chosen processing    \n",
    "        with segyio.su.open(filename,\"r+\",endian='little',ignore_geometry=True) as dst:\n",
    "            dst.trace=filtered_shot2\n",
    "        # shot_read,read_filename=d.get_shots_from_datadir(keys=[filename],return_filenames=True); shot_read=shot_read[0]\n",
    "        counter=counter+1\n",
    "    return None\n",
    "\n",
    "print(os.getcwd())\n",
    "print(d.DT)\n",
    "su_field_path1 = os.path.join(os.getcwd(),'su_field_high_pass_5_hz/')\n",
    "su_field_path2 = os.path.join(os.getcwd(),'su_field/')\n",
    "\n",
    "api._cmd('rm -r '+su_field_path1)\n",
    "copy_su_from_to(root_su_field,su_field_path1)\n",
    "filter_seismic_data(su_field_path1,dt=0.002,corner_frequency=5,fmax=10)\n",
    "\n",
    "api._cmd('rm -r '+su_field_path2)\n",
    "copy_su_from_to(root_su_field,su_field_path2)"
   ]
  },
  {
   "cell_type": "code",
   "execution_count": null,
   "metadata": {},
   "outputs": [],
   "source": [
    "shots,filenames=d.get_shots_from_directory(su_field_path2,keys=['_p'],return_filenames=True)\n",
    "shots=shots[::10]\n",
    "filenames=filenames[::10]\n",
    "# print(filenames)\n",
    "# for shot,filename in zip(shots,filenames):\n",
    "#     print(filename)\n",
    "#     plot_shot(shot,pclip=0.05,folder_path='./pictures_for_check',file_path='su_field_path2_'+filename.split('/')[-1]+'.png',show=0)\n",
    "\n",
    "shots,filenames=d.get_shots_from_directory(su_field_path1,keys=['_p'],return_filenames=True)\n",
    "shots=shots[::20]\n",
    "filenames=filenames[::20]\n",
    "print(filenames)\n",
    "for shot,filename in zip(shots,filenames):\n",
    "    print(filename)\n",
    "    # plot_shot(shot,pclip=0.05,folder_path='./pictures_for_check',file_path='su_field_path1_'+filename.split('/')[-1]+'.png',show=0)\n",
    "    freqs,ps=plot_spectrum(shot,0.002,fmax=10,folder_path='./pictures_for_check',file_path='su_field_path1_'+'spectrum_'+filename.split('/')[-1]+'stage2.png')"
   ]
  },
  {
   "cell_type": "code",
   "execution_count": null,
   "metadata": {
    "scrolled": false
   },
   "outputs": [],
   "source": [
    "d.save_folder = os.path.join(root_fwi,'fwi_full_spectrum','fld')\n",
    "mpl.rcParams['figure.dpi']= 300\n",
    "d.verbose = 2\n",
    "\n",
    "models, fnames = d.get_fwi_models(['vp', 'stage'], return_filenames=True)\n",
    "for m, f in zip(models, fnames):\n",
    "    vis.plot_log_model(m, dx, nx0, nz0, src, log=wlog, log_location=log_location, **limits_vp)"
   ]
  },
  {
   "cell_type": "markdown",
   "metadata": {},
   "source": [
    "### Well-logs\n",
    "Plot logs in true model (dashed) and inverted models (solid) for every inversion stage"
   ]
  },
  {
   "cell_type": "code",
   "execution_count": null,
   "metadata": {
    "scrolled": false
   },
   "outputs": [],
   "source": [
    "# Load inverted models from all stages\n",
    "vvr = {'vp': None, 'vs': None, 'rho': None}\n",
    "for k in vvr.keys():\n",
    "    vvr[k], fnames = d.get_fwi_models([k + '_stage'], return_filenames=True)\n",
    "\n",
    "for i in range(len(vvr['vp'])):\n",
    "    plot_logs(model_log, api.Model(vvr['vp'][i], vvr['vs'][i], vvr['rho'][i], dx), log_idx)"
   ]
  },
  {
   "cell_type": "markdown",
   "metadata": {},
   "source": [
    "### Gradients"
   ]
  },
  {
   "cell_type": "code",
   "execution_count": null,
   "metadata": {
    "scrolled": true
   },
   "outputs": [],
   "source": [
    "d.verbose = 0\n",
    "grads, fnames = d.get_fwi_gradients(return_filenames=True)\n",
    "for g, f in zip(grads, fnames):\n",
    "    plot_model(g, f)"
   ]
  },
  {
   "cell_type": "code",
   "execution_count": null,
   "metadata": {},
   "outputs": [],
   "source": [
    "def get_model_last():\n",
    "    all_fnames = []\n",
    "    # vps, fnames = d.get_fwi_models(['vp', 'stage'], return_filenames=True)\n",
    "    vps, fnames = d.get_fwi_models(['vp'], return_filenames=True)\n",
    "    all_fnames += fnames\n",
    "    vss, fnames = d.get_fwi_models(['vs'], return_filenames=True)\n",
    "    all_fnames += fnames\n",
    "    rhos, fnames = d.get_fwi_models(['rho'], return_filenames=True)\n",
    "    all_fnames += fnames\n",
    "    print(all_fnames)\n",
    "    if all_fnames:\n",
    "        for f in all_fnames:\n",
    "            if not f.split('/')[-1] in os.listdir(f'{root_fwi}start/'):\n",
    "                command = f'cp {f} {root_fwi}start/'\n",
    "                print(command)\n",
    "                os.system(command)\n",
    "    if vps:\n",
    "        print(f'Init new starting model from {fnames[-1]}')\n",
    "        model_last = api.Model(vps[-1], vss[-1], rhos[-1], dx)\n",
    "    # print(vps)\n",
    "    return model_last\n",
    "    # return None\n",
    "model_last=get_model_last()"
   ]
  },
  {
   "cell_type": "markdown",
   "metadata": {},
   "source": [
    "# Compare wavefiedls before/after"
   ]
  },
  {
   "cell_type": "code",
   "execution_count": null,
   "metadata": {},
   "outputs": [],
   "source": [
    "vps, fnames = d.get_fwi_models(['vp_stage'], return_filenames=True)\n",
    "vss, fnames = d.get_fwi_models(['vs_stage'], return_filenames=True)\n",
    "rhos, fnames = d.get_fwi_models(['rho_stage'], return_filenames=True)\n",
    "print(d.save_folder)\n",
    "if vps:\n",
    "    model_last = api.Model(vps[-1], vss[-1], rhos[-1], dx)\n",
    "    print(f'Found last model at {fnames[-1]}')\n",
    "else:\n",
    "    print(f'Not found the inverted model in {d.save_folder}!')"
   ]
  },
  {
   "cell_type": "code",
   "execution_count": null,
   "metadata": {},
   "outputs": [],
   "source": [
    "d.save_folder = root_fwi[:-1] + '_wavefield/'\n",
    "print(f'{root_fwi[:-1]} --> {d.save_folder}')"
   ]
  },
  {
   "cell_type": "code",
   "execution_count": null,
   "metadata": {},
   "outputs": [],
   "source": [
    "par_forward = {'run_command': 'mpirun -np 30', 'disable': False}\n",
    "print(par_forward)"
   ]
  },
  {
   "cell_type": "code",
   "execution_count": null,
   "metadata": {},
   "outputs": [],
   "source": [
    "d.NPROCX = 1\n",
    "d.NPROCY = 1\n",
    "d.verbose=1\n",
    "d.forward(model_last, src, rec, **par_forward)"
   ]
  },
  {
   "cell_type": "code",
   "execution_count": null,
   "metadata": {
    "scrolled": false
   },
   "outputs": [],
   "source": [
    "d.verbose = 0    # don't show redundant print outs\n",
    "\n",
    "if d.DT is None:\n",
    "    d.DT = 0.002\n",
    "shots = d.get_shots(keys=['_p'])\n",
    "# shots = [ld.bandpass(s, fs=1./(d.DT * d.NDT), **par_bp) for s in d.get_shots(keys=['_p'])]\n",
    "print(f'Read {len(shots)} shots {shots[0].shape} into list')\n",
    "\n",
    "mpl.rcParams['figure.dpi']= 300\n",
    "# for ishot in [int(np.floor(x)) for x in np.linspace(0, len(shots)-1, 5)]:\n",
    "for ishot in [19, 62]:\n",
    "    print(ishot)\n",
    "    shot_s = divmax(shots[ishot])\n",
    "    shot_f = divmax(data_p[ishot, :, ::d.NDT])\n",
    "#     vis.plot_shot(np.concatenate([np.flip(shot_s, 0), shot_f], axis=0), pclip=0.05)\n",
    "    vis.plot_compare_stripes(shot_s, shot_f, pclip=0.0125, colorbar=False, dt=d.DT, dx=dx)"
   ]
  }
 ],
 "metadata": {
  "interpreter": {
   "hash": "f46140b79a25c3b1ec622d9de359221a8d5802b8a7ad490aae66b50110296176"
  },
  "kernelspec": {
   "display_name": "Python 3 (ipykernel)",
   "language": "python",
   "name": "python3"
  },
  "language_info": {
   "codemirror_mode": {
    "name": "ipython",
    "version": 3
   },
   "file_extension": ".py",
   "mimetype": "text/x-python",
   "name": "python",
   "nbconvert_exporter": "python",
   "pygments_lexer": "ipython3",
   "version": "3.9.12"
  }
 },
 "nbformat": 4,
 "nbformat_minor": 2
}
