{
 "cells": [
  {
   "cell_type": "markdown",
   "metadata": {},
   "source": [
    "# FWI on field data (CGG Broadseis)\n",
    "\n",
    "by Oleg Ovcharenko\n",
    "\n",
    "oleg.ovcharenko@kaust.edu.sa\n",
    "\n",
    "KAUST, 2021"
   ]
  },
  {
   "cell_type": "code",
   "execution_count": 16,
   "metadata": {},
   "outputs": [
    {
     "name": "stdout",
     "output_type": "stream",
     "text": [
      "Python: /home/plotnips/Dropbox/Log_extrapolation/scripts/DENISE-Black-Edition-master/for_pasha/env\n",
      "<function filter_seismic_data at 0x7f364f6241e0>\n",
      "Init Python 3 API for Denise-Black-Edition.\n",
      "Check binary in /home/plotnips/Dropbox/Log_extrapolation/scripts/DENISE-Black-Edition-master/bin/denise\n",
      "Parse /home/plotnips/Dropbox/Log_extrapolation/scripts/DENISE-Black-Edition-master/par/DENISE_marm_OBC.inp\n",
      "Current directory is /home/plotnips/Dropbox/Log_extrapolation/scripts/DENISE-Black-Edition-master/for_pasha\n",
      "Init paths at ./outputs/\n",
      "<bound method Denise.get_shots_from_datadir of DENISE-Black-Edition:\n",
      "\t/home/plotnips/Dropbox/Log_extrapolation/scripts/DENISE-Black-Edition-master\n",
      "Save folder:\n",
      "\t./outputs/\n",
      "Run .help() for more details>\n",
      "<bound method Denise.get_shots_from_directory of DENISE-Black-Edition:\n",
      "\t/home/plotnips/Dropbox/Log_extrapolation/scripts/DENISE-Black-Edition-master\n",
      "Save folder:\n",
      "\t./outputs/\n",
      "Run .help() for more details>\n",
      "['/home/plotnips/Dropbox/Log_extrapolation/scripts/DENISE-Black-Edition-master/for_pasha', '', '/home/plotnips/Madagascar/lib/python3.7/site-packages', '/home/plotnips/.vscode/extensions/ms-toolsai.jupyter-2021.2.603412351/pythonFiles', '/home/plotnips/.vscode/extensions/ms-toolsai.jupyter-2021.2.603412351/pythonFiles/lib/python', '/home/plotnips/Dropbox/Log_extrapolation/scripts/DENISE-Black-Edition-master/for_pasha/env/lib/python36.zip', '/home/plotnips/Dropbox/Log_extrapolation/scripts/DENISE-Black-Edition-master/for_pasha/env/lib/python3.6', '/home/plotnips/Dropbox/Log_extrapolation/scripts/DENISE-Black-Edition-master/for_pasha/env/lib/python3.6/lib-dynload', '/usr/lib/python3.6', '/home/plotnips/Dropbox/Log_extrapolation/scripts/DENISE-Black-Edition-master/for_pasha/env/lib/python3.6/site-packages', '/home/plotnips/Dropbox/Log_extrapolation/scripts/DENISE-Black-Edition-master/for_pasha/env/lib/python3.6/site-packages/IPython/extensions', '/home/plotnips/.ipython', '/home/plotnips/Dropbox/Log_extrapolation/scripts/DENISE-Black-Edition-master/codes_server', '/home/plotnips/Dropbox/Log_extrapolation/scripts/DENISE-Black-Edition-master/for_pasha/utils', '../', '/home/plotnips/Dropbox/Log_extrapolation/scripts/DENISE-Black-Edition-master', '/home/plotnips/Dropbox/Log_extrapolation/scripts/DENISE-Black-Edition-master/codes_server', '/home/plotnips/Dropbox/Log_extrapolation/scripts/DENISE-Black-Edition-master/for_pasha/utils', '/home/plotnips/Dropbox/Log_extrapolation/scripts/DENISE-Black-Edition-master', '/home/plotnips/Dropbox/Log_extrapolation/scripts/DENISE-Black-Edition-master/codes_server', '/home/plotnips/Dropbox/Log_extrapolation/scripts/DENISE-Black-Edition-master/for_pasha/utils', '/home/plotnips/Dropbox/Log_extrapolation/scripts/DENISE-Black-Edition-master/codes_server', '/home/plotnips/Dropbox/Log_extrapolation/scripts/DENISE-Black-Edition-master/for_pasha/utils']\n"
     ]
    }
   ],
   "source": [
    "import os\n",
    "import sys\n",
    "#api._cmd('conda activate torch2')\n",
    "print(f'Python: {sys.prefix}')\n",
    "import copy\n",
    "from glob import glob\n",
    "# import glob\n",
    "import numpy as np\n",
    "import importlib\n",
    "import multiprocessing\n",
    "import segyio\n",
    "from scipy import signal, ndimage\n",
    "from natsort import natsorted\n",
    "from skimage.transform import rescale, resize\n",
    "from utils import shared as sd\n",
    "from utils import loaders as ld\n",
    "from utils import vis\n",
    "from IPython.display import clear_output\n",
    "# append path with actual source files to sys.path\n",
    "sys.path.append(os.path.abspath('../codes_server'))\n",
    "sys.path.append(os.path.abspath('./utils'))\n",
    "from F_utils import *\n",
    "from F_fwi import *\n",
    "import pyapi_denise_pavel as api\n",
    "api._cmd('source /home/plotnips/Madagascar/share/madagascar/etc/env.sh')\n",
    "api._cmd('source ~/.bashrc')\n",
    "# create_sbatch_file_for_fwi_folder('./for_pasha/out_for_pasha/fwi_full_spectrum_vanilla')\n",
    "# results_path='./out_for_pasha/fwi_full_spectrum'\n",
    "# os.system(f\"rm -r {results_path}\")\n",
    "print(filter_seismic_data)\n",
    "d=api.Denise('/home/plotnips/Dropbox/Log_extrapolation/scripts/DENISE-Black-Edition-master',verbose=1)\n",
    "print(d.get_shots_from_datadir)\n",
    "print(d.get_shots_from_directory)\n",
    "print(sys.path)"
   ]
  },
  {
   "cell_type": "code",
   "execution_count": 2,
   "metadata": {},
   "outputs": [],
   "source": [
    "# # This is to prevent error \"this loop already runnign when doing magical %run <<notebook name>>\"\n",
    "import nest_asyncio\n",
    "nest_asyncio.apply()"
   ]
  },
  {
   "cell_type": "code",
   "execution_count": 3,
   "metadata": {},
   "outputs": [],
   "source": [
    "%matplotlib inline\n",
    "import matplotlib as mpl\n",
    "import matplotlib.pyplot as plt\n",
    "from mpl_toolkits.axes_grid1 import make_axes_locatable\n",
    "# mpl.rcParams['figure.dpi']= 100\n",
    "fontsize = 10\n",
    "params = {\n",
    "    # 'text.latex.preamble': ['\\\\usepackage{gensymb}'],\n",
    "    # 'image.origin': 'lower',\n",
    "    'image.interpolation': 'nearest',\n",
    "    'figure.dpi' : 300,\n",
    "    # 'image.cmap': 'gray',\n",
    "    'axes.grid': False,\n",
    "    'savefig.dpi': 150,  # to adjust notebook inline plot size\n",
    "    'axes.labelsize':fontsize,  # fontsize for x and y labels (was 10)\n",
    "    'axes.titlesize':fontsize,\n",
    "    'font.size':fontsize,  # was 10\n",
    "    'legend.fontsize': fontsize,  # was 10\n",
    "    'xtick.labelsize':fontsize,\n",
    "    'ytick.labelsize':fontsize,\n",
    "    # 'text.usetex': True,\n",
    "    # 'figure.figsize': [3.39, 2.10],\n",
    "    'font.family': 'serif',\n",
    "}\n",
    "mpl.rcParams.update(params)"
   ]
  },
  {
   "cell_type": "code",
   "execution_count": 4,
   "metadata": {},
   "outputs": [],
   "source": [
    "root_fwi = './out_for_pasha/'"
   ]
  },
  {
   "cell_type": "markdown",
   "metadata": {},
   "source": [
    "# Init Denise API"
   ]
  },
  {
   "cell_type": "code",
   "execution_count": 39,
   "metadata": {},
   "outputs": [
    {
     "name": "stdout",
     "output_type": "stream",
     "text": [
      "Init Python 3 API for Denise-Black-Edition.\n",
      "Check binary in ../bin/denise\n"
     ]
    }
   ],
   "source": [
    "denise_root = '../'\n",
    "d = api.Denise(denise_root, verbose=0)\n",
    "d.save_folder = root_fwi\n",
    "d.set_paths()"
   ]
  },
  {
   "cell_type": "code",
   "execution_count": 40,
   "metadata": {},
   "outputs": [
    {
     "name": "stdout",
     "output_type": "stream",
     "text": [
      "/home/plotnips/Dropbox/Log_extrapolation/scripts/DENISE-Black-Edition-master/for_pasha\n",
      "['cnn_13', 'cnn_14', 'cnn_13_11']\n",
      "['/home/plotnips/Dropbox/Log_extrapolation/scripts/DENISE-Black-Edition-master/for_pasha/out_for_pasha/fwi_full_spectrum/fld/su/seis_p.su.shot1', '/home/plotnips/Dropbox/Log_extrapolation/scripts/DENISE-Black-Edition-master/for_pasha/out_for_pasha/fwi_full_spectrum/fld/su/seis_p.su.shot1.it1', '/home/plotnips/Dropbox/Log_extrapolation/scripts/DENISE-Black-Edition-master/for_pasha/out_for_pasha/fwi_full_spectrum/fld/su/seis_p.su.shot1.it2', '/home/plotnips/Dropbox/Log_extrapolation/scripts/DENISE-Black-Edition-master/for_pasha/out_for_pasha/fwi_full_spectrum/fld/su/seis_p.su.shot1.it3', '/home/plotnips/Dropbox/Log_extrapolation/scripts/DENISE-Black-Edition-master/for_pasha/out_for_pasha/fwi_full_spectrum/fld/su/seis_p.su.shot1.it4', '/home/plotnips/Dropbox/Log_extrapolation/scripts/DENISE-Black-Edition-master/for_pasha/out_for_pasha/fwi_full_spectrum/fld/su/seis_p.su.shot1.it5', '/home/plotnips/Dropbox/Log_extrapolation/scripts/DENISE-Black-Edition-master/for_pasha/out_for_pasha/fwi_full_spectrum/fld/su/seis_p.su.shot2', '/home/plotnips/Dropbox/Log_extrapolation/scripts/DENISE-Black-Edition-master/for_pasha/out_for_pasha/fwi_full_spectrum/fld/su/seis_p.su.shot3', '/home/plotnips/Dropbox/Log_extrapolation/scripts/DENISE-Black-Edition-master/for_pasha/out_for_pasha/fwi_full_spectrum/fld/su/seis_p.su.shot4', '/home/plotnips/Dropbox/Log_extrapolation/scripts/DENISE-Black-Edition-master/for_pasha/out_for_pasha/fwi_full_spectrum/fld/su/seis_p.su.shot5']\n",
      "/home/plotnips/Dropbox/Log_extrapolation/scripts/DENISE-Black-Edition-master/for_pasha/out_for_pasha/fwi_full_spectrum/fld/su/seis_p.su.shot1\n",
      "save to ./pictures_for_check2/seis_p.su.shot1.png\n",
      "/home/plotnips/Dropbox/Log_extrapolation/scripts/DENISE-Black-Edition-master/for_pasha/out_for_pasha/fwi_full_spectrum/fld/su/seis_p.su.shot1.it1\n",
      "save to ./pictures_for_check2/seis_p.su.shot1.it1.png\n",
      "/home/plotnips/Dropbox/Log_extrapolation/scripts/DENISE-Black-Edition-master/for_pasha/out_for_pasha/fwi_full_spectrum/fld/su/seis_p.su.shot1.it2\n",
      "save to ./pictures_for_check2/seis_p.su.shot1.it2.png\n",
      "/home/plotnips/Dropbox/Log_extrapolation/scripts/DENISE-Black-Edition-master/for_pasha/out_for_pasha/fwi_full_spectrum/fld/su/seis_p.su.shot1.it3\n",
      "save to ./pictures_for_check2/seis_p.su.shot1.it3.png\n",
      "/home/plotnips/Dropbox/Log_extrapolation/scripts/DENISE-Black-Edition-master/for_pasha/out_for_pasha/fwi_full_spectrum/fld/su/seis_p.su.shot1.it4\n",
      "save to ./pictures_for_check2/seis_p.su.shot1.it4.png\n",
      "/home/plotnips/Dropbox/Log_extrapolation/scripts/DENISE-Black-Edition-master/for_pasha/out_for_pasha/fwi_full_spectrum/fld/su/seis_p.su.shot1.it5\n",
      "save to ./pictures_for_check2/seis_p.su.shot1.it5.png\n",
      "/home/plotnips/Dropbox/Log_extrapolation/scripts/DENISE-Black-Edition-master/for_pasha/out_for_pasha/fwi_full_spectrum/fld/su/seis_p.su.shot2\n",
      "save to ./pictures_for_check2/seis_p.su.shot2.png\n",
      "/home/plotnips/Dropbox/Log_extrapolation/scripts/DENISE-Black-Edition-master/for_pasha/out_for_pasha/fwi_full_spectrum/fld/su/seis_p.su.shot3\n",
      "save to ./pictures_for_check2/seis_p.su.shot3.png\n",
      "/home/plotnips/Dropbox/Log_extrapolation/scripts/DENISE-Black-Edition-master/for_pasha/out_for_pasha/fwi_full_spectrum/fld/su/seis_p.su.shot4\n",
      "save to ./pictures_for_check2/seis_p.su.shot4.png\n",
      "/home/plotnips/Dropbox/Log_extrapolation/scripts/DENISE-Black-Edition-master/for_pasha/out_for_pasha/fwi_full_spectrum/fld/su/seis_p.su.shot5\n",
      "save to ./pictures_for_check2/seis_p.su.shot5.png\n"
     ]
    }
   ],
   "source": [
    "print(os.getcwd())\n",
    "print(os.listdir('../fwi/cgg_real_data'))\n",
    "# shots,filenames=d.get_shots_from_directory('../fwi/cgg_real_data/cnn_13_11/model__cgg_tomo_long1/fld/su',keys=['_p'],return_filenames=True)\n",
    "shots,filenames=d.get_shots_from_directory('/home/plotnips/Dropbox/Log_extrapolation/scripts/DENISE-Black-Edition-master/for_pasha/out_for_pasha/fwi_full_spectrum/fld/su',keys=['_p'],return_filenames=True)\n",
    "\n",
    "# shots=shots[::20]\n",
    "# filenames=filenames[::20]\n",
    "shots=shots[0:10]\n",
    "filenames=filenames[0:10]\n",
    "print(filenames)\n",
    "for shot,filename in zip(shots,filenames):\n",
    "    print(filename)\n",
    "    plot_shot(shot,pclip=0.05,folder_path='./pictures_for_check2',file_path=filename.split('/')[-1]+'.png',show=0)"
   ]
  },
  {
   "cell_type": "code",
   "execution_count": null,
   "metadata": {},
   "outputs": [],
   "source": [
    "print(os.getcwd())\n",
    "print(os.listdir('../fwi/cgg_real_data'))\n",
    "shots,filenames=d.get_shots_from_directory('../fwi/cgg_real_data/cnn_13_11/model__cgg_tomo_long1/fld/su',keys=['_p'],return_filenames=True)\n",
    "# shots=shots[::20]\n",
    "# filenames=filenames[::20]\n",
    "shots=shots[0:10]\n",
    "filenames=filenames[0:10]\n",
    "print(filenames)\n",
    "for shot,filename in zip(shots,filenames):\n",
    "    print(filename)\n",
    "    plot_shot(shot,pclip=0.05,folder_path='./pictures_for_check2',file_path=filename.split('/')[-1]+'.png',show=0)"
   ]
  },
  {
   "cell_type": "markdown",
   "metadata": {},
   "source": [
    "# Get acquitision details"
   ]
  },
  {
   "cell_type": "code",
   "execution_count": 6,
   "metadata": {},
   "outputs": [],
   "source": [
    "shot_id_min = 60\n",
    "n_selected_shots = 80\n",
    "njump_src = 8\n",
    "shot_id_max = shot_id_min + (n_selected_shots-1) * njump_src"
   ]
  },
  {
   "cell_type": "code",
   "execution_count": 7,
   "metadata": {},
   "outputs": [
    {
     "name": "stdout",
     "output_type": "stream",
     "text": [
      "80/80\n",
      "Before prep:\t(80, 648, 3526)\n",
      "Data cube:\t(80, 324, 3000)\n",
      "Extended cube:\t(80, 324, 3100)\n",
      "[80, 324, 3050] (80, 324, 3000)\n",
      "[80, 324, 3150] (80, 324, 3100)\n",
      "25.0\n",
      "Assume even average spacing between sources\n",
      " 150.0 m ~ 6 grid nodes\n",
      "First source:\t1125.0 m\n",
      "Last source:\t12950.0 m\n",
      "150.0\n",
      "name:\t\n",
      "x\t(80,):\tmin: 1125.0\tmax: 12975.0\n",
      "y\t(80,):\tmin: 50.0\tmax: 50.0\n",
      "wavelets:\tNone\n",
      "z\t(80,):\tmin: 0.0\tmax: 0.0\n",
      "nshot:\t80\n",
      "td\t(80,):\tmin: 0.0\tmax: 0.0\n",
      "fc\t(80,):\tmin: 8.0\tmax: 8.0\n",
      "amp\t(80,):\tmin: 1.0\tmax: 1.0\n",
      "angle\t(80,):\tmin: 0.0\tmax: 0.0\n",
      "QUELLTYPB:\t1\n",
      "src_type\t(80,):\tmin: 1.0\tmax: 1.0\n",
      "drec:\t25.0 m\n",
      "x\t(324,):\tmin: 1275.0\tmax: 9350.0\n",
      "y\t(324,):\tmin: 100.0\tmax: 100.0\n",
      "many:\t[x\t(324,):\tmin: 1275.0\tmax: 9350.0\n",
      "y\t(324,):\tmin: 100.0\tmax: 100.0\n",
      "name:\t]\n",
      "x\t(324,):\tmin: 1275.0\tmax: 9350.0\n",
      "y\t(324,):\tmin: 100.0\tmax: 100.0\n",
      "many:\t[x\t(324,):\tmin: 1275.0\tmax: 9350.0\n",
      "y\t(324,):\tmin: 100.0\tmax: 100.0\n",
      "name:\t]\n",
      "(152, 600)\n",
      "(152, 600)\n",
      "(152, 500)\n",
      "12500.0\n"
     ]
    },
    {
     "data": {
      "image/png": "[encoded data removed]",
      "text/plain": [
       "<Figure size 600x400 with 2 Axes>"
      ]
     },
     "metadata": {
      "needs_background": "light",
      "transient": {}
     },
     "output_type": "display_data"
    },
    {
     "data": {
      "image/png": "[encoded data removed]",
      "text/plain": [
       "<Figure size 600x400 with 2 Axes>"
      ]
     },
     "metadata": {
      "needs_background": "light",
      "transient": {}
     },
     "output_type": "display_data"
    },
    {
     "data": {
      "image/png": "[encoded data removed]",
      "text/plain": [
       "<Figure size 600x400 with 2 Axes>"
      ]
     },
     "metadata": {
      "needs_background": "light",
      "transient": {}
     },
     "output_type": "display_data"
    }
   ],
   "source": [
    "%run ./fwi_shared_check.ipynb"
   ]
  },
  {
   "cell_type": "code",
   "execution_count": 9,
   "metadata": {},
   "outputs": [
    {
     "name": "stdout",
     "output_type": "stream",
     "text": [
      "(80, 324, 3000) None\n"
     ]
    },
    {
     "data": {
      "text/plain": [
       "(80, 324, 3000)"
      ]
     },
     "execution_count": 9,
     "metadata": {},
     "output_type": "execute_result"
    }
   ],
   "source": [
    "root_su_field = os.path.join(d._root_su, 'field/'); \n",
    "d.SEIS_FILE_P=root_su_field\n",
    "data_p_backup = data_p.copy()\n",
    "print(data_p_backup.shape, d.DT)\n",
    "par_mutter = {'k': 7, 'b': -100, 'r': 30}\n",
    "new_data_p = []\n",
    "for idat in range(data_p.shape[0]):\n",
    "    new_data_p.append(np.expand_dims(ld.mutter(data_p[idat, ...], **par_mutter), 0))\n",
    "new_data_p = np.concatenate(new_data_p)\n",
    "new_data_p.shape"
   ]
  },
  {
   "cell_type": "markdown",
   "metadata": {},
   "source": [
    "## Save field data to a new folder in /su/"
   ]
  },
  {
   "cell_type": "code",
   "execution_count": 10,
   "metadata": {},
   "outputs": [],
   "source": [
    "def copy_su_from_to(path_from, path_to):\n",
    "    \"\"\" Copy files matching *.su.* from one folder to another folder\"\"\"\n",
    "    os.makedirs(path_to, exist_ok=True)\n",
    "    su_files = glob(path_from + '/*.su.*')\n",
    "    su_files = [f for f in su_files if '.it' not in f]\n",
    "    print(f'Found {len(su_files)} *.su.* files in {path_from}')\n",
    "\n",
    "    commands = []\n",
    "    print(f'Copy files from {path_from} to {path_to}')\n",
    "    for f in su_files:\n",
    "        commands.append(f'cp {f} {path_to}')\n",
    "    with multiprocessing.Pool() as pool:\n",
    "        pool.map(os.system, commands)"
   ]
  },
  {
   "cell_type": "code",
   "execution_count": 11,
   "metadata": {},
   "outputs": [
    {
     "name": "stdout",
     "output_type": "stream",
     "text": [
      "./out_for_pasha/su\n",
      "./out_for_pasha/su/field/\n"
     ]
    }
   ],
   "source": [
    "from glob import glob\n",
    "print(d._root_su)\n",
    "print(root_su_field)\n",
    "# copy_su_from_to(d._root_su,root_su_field)"
   ]
  },
  {
   "cell_type": "code",
   "execution_count": 12,
   "metadata": {},
   "outputs": [
    {
     "name": "stdout",
     "output_type": "stream",
     "text": [
      "< ./out_for_pasha/su/seis_p.su.shot1 > np.array((324, 3000))\n",
      "< ./out_for_pasha/su/seis_p.su.shot2 > np.array((324, 3000))\n",
      "< ./out_for_pasha/su/seis_p.su.shot3 > np.array((324, 3000))\n",
      "< ./out_for_pasha/su/seis_p.su.shot4 > np.array((324, 3000))\n",
      "< ./out_for_pasha/su/seis_p.su.shot5 > np.array((324, 3000))\n",
      "< ./out_for_pasha/su/seis_p.su.shot6 > np.array((324, 3000))\n",
      "< ./out_for_pasha/su/seis_p.su.shot7 > np.array((324, 3000))\n",
      "< ./out_for_pasha/su/seis_p.su.shot8 > np.array((324, 3000))\n",
      "< ./out_for_pasha/su/seis_p.su.shot9 > np.array((324, 3000))\n",
      "< ./out_for_pasha/su/seis_p.su.shot10 > np.array((324, 3000))\n",
      "< ./out_for_pasha/su/seis_p.su.shot11 > np.array((324, 3000))\n",
      "< ./out_for_pasha/su/seis_p.su.shot12 > np.array((324, 3000))\n",
      "< ./out_for_pasha/su/seis_p.su.shot13 > np.array((324, 3000))\n",
      "< ./out_for_pasha/su/seis_p.su.shot14 > np.array((324, 3000))\n",
      "< ./out_for_pasha/su/seis_p.su.shot15 > np.array((324, 3000))\n",
      "< ./out_for_pasha/su/seis_p.su.shot16 > np.array((324, 3000))\n",
      "< ./out_for_pasha/su/seis_p.su.shot17 > np.array((324, 3000))\n",
      "< ./out_for_pasha/su/seis_p.su.shot18 > np.array((324, 3000))\n",
      "< ./out_for_pasha/su/seis_p.su.shot19 > np.array((324, 3000))\n",
      "< ./out_for_pasha/su/seis_p.su.shot20 > np.array((324, 3000))\n",
      "< ./out_for_pasha/su/seis_p.su.shot21 > np.array((324, 3000))\n",
      "< ./out_for_pasha/su/seis_p.su.shot22 > np.array((324, 3000))\n",
      "< ./out_for_pasha/su/seis_p.su.shot23 > np.array((324, 3000))\n",
      "< ./out_for_pasha/su/seis_p.su.shot24 > np.array((324, 3000))\n",
      "< ./out_for_pasha/su/seis_p.su.shot25 > np.array((324, 3000))\n",
      "< ./out_for_pasha/su/seis_p.su.shot26 > np.array((324, 3000))\n",
      "< ./out_for_pasha/su/seis_p.su.shot27 > np.array((324, 3000))\n",
      "< ./out_for_pasha/su/seis_p.su.shot28 > np.array((324, 3000))\n",
      "< ./out_for_pasha/su/seis_p.su.shot29 > np.array((324, 3000))\n",
      "< ./out_for_pasha/su/seis_p.su.shot30 > np.array((324, 3000))\n",
      "< ./out_for_pasha/su/seis_p.su.shot31 > np.array((324, 3000))\n",
      "< ./out_for_pasha/su/seis_p.su.shot32 > np.array((324, 3000))\n",
      "< ./out_for_pasha/su/seis_p.su.shot33 > np.array((324, 3000))\n",
      "< ./out_for_pasha/su/seis_p.su.shot34 > np.array((324, 3000))\n",
      "< ./out_for_pasha/su/seis_p.su.shot35 > np.array((324, 3000))\n",
      "< ./out_for_pasha/su/seis_p.su.shot36 > np.array((324, 3000))\n",
      "< ./out_for_pasha/su/seis_p.su.shot37 > np.array((324, 3000))\n",
      "< ./out_for_pasha/su/seis_p.su.shot38 > np.array((324, 3000))\n",
      "< ./out_for_pasha/su/seis_p.su.shot39 > np.array((324, 3000))\n",
      "< ./out_for_pasha/su/seis_p.su.shot40 > np.array((324, 3000))\n",
      "< ./out_for_pasha/su/seis_p.su.shot41 > np.array((324, 3000))\n",
      "< ./out_for_pasha/su/seis_p.su.shot42 > np.array((324, 3000))\n",
      "< ./out_for_pasha/su/seis_p.su.shot43 > np.array((324, 3000))\n",
      "< ./out_for_pasha/su/seis_p.su.shot44 > np.array((324, 3000))\n",
      "< ./out_for_pasha/su/seis_p.su.shot45 > np.array((324, 3000))\n",
      "< ./out_for_pasha/su/seis_p.su.shot46 > np.array((324, 3000))\n",
      "< ./out_for_pasha/su/seis_p.su.shot47 > np.array((324, 3000))\n",
      "< ./out_for_pasha/su/seis_p.su.shot48 > np.array((324, 3000))\n",
      "< ./out_for_pasha/su/seis_p.su.shot49 > np.array((324, 3000))\n",
      "< ./out_for_pasha/su/seis_p.su.shot50 > np.array((324, 3000))\n",
      "< ./out_for_pasha/su/seis_p.su.shot51 > np.array((324, 3000))\n",
      "< ./out_for_pasha/su/seis_p.su.shot52 > np.array((324, 3000))\n",
      "< ./out_for_pasha/su/seis_p.su.shot53 > np.array((324, 3000))\n",
      "< ./out_for_pasha/su/seis_p.su.shot54 > np.array((324, 3000))\n",
      "< ./out_for_pasha/su/seis_p.su.shot55 > np.array((324, 3000))\n",
      "< ./out_for_pasha/su/seis_p.su.shot56 > np.array((324, 3000))\n",
      "< ./out_for_pasha/su/seis_p.su.shot57 > np.array((324, 3000))\n",
      "< ./out_for_pasha/su/seis_p.su.shot58 > np.array((324, 3000))\n",
      "< ./out_for_pasha/su/seis_p.su.shot59 > np.array((324, 3000))\n",
      "< ./out_for_pasha/su/seis_p.su.shot60 > np.array((324, 3000))\n",
      "< ./out_for_pasha/su/seis_p.su.shot61 > np.array((324, 3000))\n",
      "< ./out_for_pasha/su/seis_p.su.shot62 > np.array((324, 3000))\n",
      "< ./out_for_pasha/su/seis_p.su.shot63 > np.array((324, 3000))\n",
      "< ./out_for_pasha/su/seis_p.su.shot64 > np.array((324, 3000))\n",
      "< ./out_for_pasha/su/seis_p.su.shot65 > np.array((324, 3000))\n",
      "< ./out_for_pasha/su/seis_p.su.shot66 > np.array((324, 3000))\n",
      "< ./out_for_pasha/su/seis_p.su.shot67 > np.array((324, 3000))\n",
      "< ./out_for_pasha/su/seis_p.su.shot68 > np.array((324, 3000))\n",
      "< ./out_for_pasha/su/seis_p.su.shot69 > np.array((324, 3000))\n",
      "< ./out_for_pasha/su/seis_p.su.shot70 > np.array((324, 3000))\n",
      "< ./out_for_pasha/su/seis_p.su.shot71 > np.array((324, 3000))\n",
      "< ./out_for_pasha/su/seis_p.su.shot72 > np.array((324, 3000))\n",
      "< ./out_for_pasha/su/seis_p.su.shot73 > np.array((324, 3000))\n",
      "< ./out_for_pasha/su/seis_p.su.shot74 > np.array((324, 3000))\n",
      "< ./out_for_pasha/su/seis_p.su.shot75 > np.array((324, 3000))\n",
      "< ./out_for_pasha/su/seis_p.su.shot76 > np.array((324, 3000))\n",
      "< ./out_for_pasha/su/seis_p.su.shot77 > np.array((324, 3000))\n",
      "< ./out_for_pasha/su/seis_p.su.shot78 > np.array((324, 3000))\n",
      "< ./out_for_pasha/su/seis_p.su.shot79 > np.array((324, 3000))\n",
      "< ./out_for_pasha/su/seis_p.su.shot80 > np.array((324, 3000))\n",
      "['./out_for_pasha/su/seis_p.su.shot1', './out_for_pasha/su/seis_p.su.shot21', './out_for_pasha/su/seis_p.su.shot41', './out_for_pasha/su/seis_p.su.shot61']\n",
      "./out_for_pasha/su/seis_p.su.shot1\n",
      "save to ./pictures_for_check/seis_p.su.shot1.png\n",
      "./out_for_pasha/su/seis_p.su.shot21\n",
      "save to ./pictures_for_check/seis_p.su.shot21.png\n",
      "./out_for_pasha/su/seis_p.su.shot41\n",
      "save to ./pictures_for_check/seis_p.su.shot41.png\n",
      "./out_for_pasha/su/seis_p.su.shot61\n",
      "save to ./pictures_for_check/seis_p.su.shot61.png\n"
     ]
    }
   ],
   "source": [
    "shots,filenames=d.get_shots_from_directory(d._root_su,keys=['_p'],return_filenames=True)\n",
    "shots=shots[::20]\n",
    "filenames=filenames[::20]\n",
    "print(filenames)\n",
    "for shot,filename in zip(shots,filenames):\n",
    "    print(filename)\n",
    "    plot_shot(shot,pclip=0.05,folder_path='./pictures_for_check',file_path=filename.split('/')[-1]+'.png',show=0)"
   ]
  },
  {
   "cell_type": "markdown",
   "metadata": {},
   "source": [
    "# Write field data into created .su files"
   ]
  },
  {
   "cell_type": "code",
   "execution_count": 13,
   "metadata": {},
   "outputs": [
    {
     "name": "stdout",
     "output_type": "stream",
     "text": [
      "80 files found in ./out_for_pasha/su/field/*.su.*\n",
      "['./out_for_pasha/su/field/seis_p.su.shot1', './out_for_pasha/su/field/seis_p.su.shot2', './out_for_pasha/su/field/seis_p.su.shot3', './out_for_pasha/su/field/seis_p.su.shot4', './out_for_pasha/su/field/seis_p.su.shot5', './out_for_pasha/su/field/seis_p.su.shot6', './out_for_pasha/su/field/seis_p.su.shot7', './out_for_pasha/su/field/seis_p.su.shot8', './out_for_pasha/su/field/seis_p.su.shot9', './out_for_pasha/su/field/seis_p.su.shot10', './out_for_pasha/su/field/seis_p.su.shot11', './out_for_pasha/su/field/seis_p.su.shot12', './out_for_pasha/su/field/seis_p.su.shot13', './out_for_pasha/su/field/seis_p.su.shot14', './out_for_pasha/su/field/seis_p.su.shot15', './out_for_pasha/su/field/seis_p.su.shot16', './out_for_pasha/su/field/seis_p.su.shot17', './out_for_pasha/su/field/seis_p.su.shot18', './out_for_pasha/su/field/seis_p.su.shot19', './out_for_pasha/su/field/seis_p.su.shot20', './out_for_pasha/su/field/seis_p.su.shot21', './out_for_pasha/su/field/seis_p.su.shot22', './out_for_pasha/su/field/seis_p.su.shot23', './out_for_pasha/su/field/seis_p.su.shot24', './out_for_pasha/su/field/seis_p.su.shot25', './out_for_pasha/su/field/seis_p.su.shot26', './out_for_pasha/su/field/seis_p.su.shot27', './out_for_pasha/su/field/seis_p.su.shot28', './out_for_pasha/su/field/seis_p.su.shot29', './out_for_pasha/su/field/seis_p.su.shot30', './out_for_pasha/su/field/seis_p.su.shot31', './out_for_pasha/su/field/seis_p.su.shot32', './out_for_pasha/su/field/seis_p.su.shot33', './out_for_pasha/su/field/seis_p.su.shot34', './out_for_pasha/su/field/seis_p.su.shot35', './out_for_pasha/su/field/seis_p.su.shot36', './out_for_pasha/su/field/seis_p.su.shot37', './out_for_pasha/su/field/seis_p.su.shot38', './out_for_pasha/su/field/seis_p.su.shot39', './out_for_pasha/su/field/seis_p.su.shot40', './out_for_pasha/su/field/seis_p.su.shot41', './out_for_pasha/su/field/seis_p.su.shot42', './out_for_pasha/su/field/seis_p.su.shot43', './out_for_pasha/su/field/seis_p.su.shot44', './out_for_pasha/su/field/seis_p.su.shot45', './out_for_pasha/su/field/seis_p.su.shot46', './out_for_pasha/su/field/seis_p.su.shot47', './out_for_pasha/su/field/seis_p.su.shot48', './out_for_pasha/su/field/seis_p.su.shot49', './out_for_pasha/su/field/seis_p.su.shot50', './out_for_pasha/su/field/seis_p.su.shot51', './out_for_pasha/su/field/seis_p.su.shot52', './out_for_pasha/su/field/seis_p.su.shot53', './out_for_pasha/su/field/seis_p.su.shot54', './out_for_pasha/su/field/seis_p.su.shot55', './out_for_pasha/su/field/seis_p.su.shot56', './out_for_pasha/su/field/seis_p.su.shot57', './out_for_pasha/su/field/seis_p.su.shot58', './out_for_pasha/su/field/seis_p.su.shot59', './out_for_pasha/su/field/seis_p.su.shot60', './out_for_pasha/su/field/seis_p.su.shot61', './out_for_pasha/su/field/seis_p.su.shot62', './out_for_pasha/su/field/seis_p.su.shot63', './out_for_pasha/su/field/seis_p.su.shot64', './out_for_pasha/su/field/seis_p.su.shot65', './out_for_pasha/su/field/seis_p.su.shot66', './out_for_pasha/su/field/seis_p.su.shot67', './out_for_pasha/su/field/seis_p.su.shot68', './out_for_pasha/su/field/seis_p.su.shot69', './out_for_pasha/su/field/seis_p.su.shot70', './out_for_pasha/su/field/seis_p.su.shot71', './out_for_pasha/su/field/seis_p.su.shot72', './out_for_pasha/su/field/seis_p.su.shot73', './out_for_pasha/su/field/seis_p.su.shot74', './out_for_pasha/su/field/seis_p.su.shot75', './out_for_pasha/su/field/seis_p.su.shot76', './out_for_pasha/su/field/seis_p.su.shot77', './out_for_pasha/su/field/seis_p.su.shot78', './out_for_pasha/su/field/seis_p.su.shot79', './out_for_pasha/su/field/seis_p.su.shot80']\n"
     ]
    }
   ],
   "source": [
    "def get_fnames_pattern(pattern):    \n",
    "    fnames = natsorted(glob(pattern))\n",
    "    fnames = [f for f in fnames if '.it' not in f]\n",
    "    print(f'{len(fnames)} files found in {pattern}')\n",
    "    return fnames\n",
    "fnames = get_fnames_pattern(root_su_field + '*.su.*')\n",
    "print(fnames)\n",
    "for i, f in enumerate(fnames):\n",
    "    with segyio.su.open(f, \"r+\", endian='little', ignore_geometry=True) as dst:\n",
    "        tmp = new_data_p[i, :, ::d.NDT]\n",
    "        dst.trace = tmp\n",
    "        print(f, dst.tracecount, tmp.shape, end='\\r')"
   ]
  },
  {
   "cell_type": "code",
   "execution_count": 1,
   "metadata": {},
   "outputs": [
    {
     "name": "stdout",
     "output_type": "stream",
     "text": [
      "/home/plotnips/Dropbox/Log_extrapolation/scripts/DENISE-Black-Edition-master/for_pasha\n"
     ]
    },
    {
     "ename": "NameError",
     "evalue": "name 'd' is not defined",
     "output_type": "error",
     "traceback": [
      "\u001b[0;31m---------------------------------------------------------------------------\u001b[0m",
      "\u001b[0;31mNameError\u001b[0m                                 Traceback (most recent call last)",
      "\u001b[0;32m<ipython-input-1-e3a46580b9f6>\u001b[0m in \u001b[0;36m<module>\u001b[0;34m\u001b[0m\n\u001b[1;32m     32\u001b[0m \u001b[0;34m\u001b[0m\u001b[0m\n\u001b[1;32m     33\u001b[0m \u001b[0mprint\u001b[0m\u001b[0;34m(\u001b[0m\u001b[0mos\u001b[0m\u001b[0;34m.\u001b[0m\u001b[0mgetcwd\u001b[0m\u001b[0;34m(\u001b[0m\u001b[0;34m)\u001b[0m\u001b[0;34m)\u001b[0m\u001b[0;34m\u001b[0m\u001b[0;34m\u001b[0m\u001b[0m\n\u001b[0;32m---> 34\u001b[0;31m \u001b[0mprint\u001b[0m\u001b[0;34m(\u001b[0m\u001b[0md\u001b[0m\u001b[0;34m.\u001b[0m\u001b[0mDT\u001b[0m\u001b[0;34m)\u001b[0m\u001b[0;34m\u001b[0m\u001b[0;34m\u001b[0m\u001b[0m\n\u001b[0m\u001b[1;32m     35\u001b[0m \u001b[0msu_field_path1\u001b[0m \u001b[0;34m=\u001b[0m \u001b[0mos\u001b[0m\u001b[0;34m.\u001b[0m\u001b[0mpath\u001b[0m\u001b[0;34m.\u001b[0m\u001b[0mjoin\u001b[0m\u001b[0;34m(\u001b[0m\u001b[0mos\u001b[0m\u001b[0;34m.\u001b[0m\u001b[0mgetcwd\u001b[0m\u001b[0;34m(\u001b[0m\u001b[0;34m)\u001b[0m\u001b[0;34m,\u001b[0m\u001b[0;34m'su_field_high_pass_5_hz/'\u001b[0m\u001b[0;34m)\u001b[0m\u001b[0;34m\u001b[0m\u001b[0;34m\u001b[0m\u001b[0m\n\u001b[1;32m     36\u001b[0m \u001b[0msu_field_path2\u001b[0m \u001b[0;34m=\u001b[0m \u001b[0mos\u001b[0m\u001b[0;34m.\u001b[0m\u001b[0mpath\u001b[0m\u001b[0;34m.\u001b[0m\u001b[0mjoin\u001b[0m\u001b[0;34m(\u001b[0m\u001b[0mos\u001b[0m\u001b[0;34m.\u001b[0m\u001b[0mgetcwd\u001b[0m\u001b[0;34m(\u001b[0m\u001b[0;34m)\u001b[0m\u001b[0;34m,\u001b[0m\u001b[0;34m'su_field/'\u001b[0m\u001b[0;34m)\u001b[0m\u001b[0;34m\u001b[0m\u001b[0;34m\u001b[0m\u001b[0m\n",
      "\u001b[0;31mNameError\u001b[0m: name 'd' is not defined"
     ]
    }
   ],
   "source": [
    "def filter_seismic_data(path,dt=0.002,corner_frequency=5,fmax=10):\n",
    "    # d=api.Denise('./',verbose=1)\n",
    "    d=api.Denise('/home/plotnips/Dropbox/Log_extrapolation/scripts/DENISE-Black-Edition-master',verbose=0)\n",
    "    shots,filenames=d.get_shots_from_directory(path,return_filenames=True)\n",
    "    print('low frequency data corner frequency, ',corner_frequency)\n",
    "    print(f'Read {len(shots)} shots {shots[0].shape} into list')\n",
    "    counter=0\n",
    "    for shot,filename in zip(shots,filenames):\n",
    "        ################    processing stage 1\n",
    "        filtered_shot=bandpass(shot,fhi=6, dt=dt,order=8, btype='low')\n",
    "        ################    processing stage 2\n",
    "        filtered_shot2=bandpass(shot,flo=corner_frequency+0.8,dt=dt,order=8,btype='high')\n",
    "        filtered_shot2_=bandpass(shot,flo=corner_frequency+0.8,fhi=6,dt=dt,order=8,btype='band') #for plotting purposes\n",
    "        ################    processing stage 3\n",
    "        filtered_shot3=zero_below_freq(filtered_shot2,corner_frequency+0.1,dt, disable=False,reverse=False)\n",
    "        filtered_shot3_=zero_below_freq(filtered_shot2_,corner_frequency+0.1,dt, disable=False,reverse=False)\n",
    "        ################\n",
    "        plotting_flag=1\n",
    "        if plotting_flag==1:\n",
    "            shots_list=[0,22,44,66]\n",
    "            if counter in shots_list:\n",
    "                plot_shot(shot,pclip=0.05,folder_path='./pictures_for_check',file_path='shot_'+str(counter)+'.png',show=0)\n",
    "                plot_shot(filtered_shot2,pclip=0.05,folder_path='./pictures_for_check',file_path='shot'+str(counter)+'_stage2.png',show=0)\n",
    "                freqs,ps=plot_spectrum(shot,dt,fmax=fmax,folder_path='./pictures_for_check',file_path='spectrum_'+str(counter)+'_original.png')\n",
    "                freqs,ps=plot_spectrum(filtered_shot2,dt,fmax=fmax,folder_path='./pictures_for_check',file_path='spectrum_'+str(counter)+'stage2.png')\n",
    "        ################    chosen processing    \n",
    "        with segyio.su.open(filename,\"r+\",endian='little',ignore_geometry=True) as dst:\n",
    "            dst.trace=filtered_shot2\n",
    "        # shot_read,read_filename=d.get_shots_from_datadir(keys=[filename],return_filenames=True); shot_read=shot_read[0]\n",
    "        counter=counter+1\n",
    "    return None\n",
    "\n",
    "print(os.getcwd())\n",
    "print(d.DT)\n",
    "su_field_path1 = os.path.join(os.getcwd(),'su_field_high_pass_5_hz/')\n",
    "su_field_path2 = os.path.join(os.getcwd(),'su_field/')\n",
    "\n",
    "api._cmd('rm -r '+su_field_path1)\n",
    "copy_su_from_to(root_su_field,su_field_path1)\n",
    "filter_seismic_data(su_field_path1,dt=0.002,corner_frequency=5,fmax=10)\n",
    "\n",
    "api._cmd('rm -r '+su_field_path2)\n",
    "copy_su_from_to(root_su_field,su_field_path2)"
   ]
  },
  {
   "cell_type": "code",
   "execution_count": 21,
   "metadata": {},
   "outputs": [
    {
     "name": "stdout",
     "output_type": "stream",
     "text": [
      "< /home/plotnips/Dropbox/Log_extrapolation/scripts/DENISE-Black-Edition-master/for_pasha/su_field_high_pass_5_hz/seis_p.su.shot1 > np.array((324, 3000))\n",
      "< /home/plotnips/Dropbox/Log_extrapolation/scripts/DENISE-Black-Edition-master/for_pasha/su_field_high_pass_5_hz/seis_p.su.shot2 > np.array((324, 3000))\n",
      "< /home/plotnips/Dropbox/Log_extrapolation/scripts/DENISE-Black-Edition-master/for_pasha/su_field_high_pass_5_hz/seis_p.su.shot3 > np.array((324, 3000))\n",
      "< /home/plotnips/Dropbox/Log_extrapolation/scripts/DENISE-Black-Edition-master/for_pasha/su_field_high_pass_5_hz/seis_p.su.shot4 > np.array((324, 3000))\n",
      "< /home/plotnips/Dropbox/Log_extrapolation/scripts/DENISE-Black-Edition-master/for_pasha/su_field_high_pass_5_hz/seis_p.su.shot5 > np.array((324, 3000))\n",
      "< /home/plotnips/Dropbox/Log_extrapolation/scripts/DENISE-Black-Edition-master/for_pasha/su_field_high_pass_5_hz/seis_p.su.shot6 > np.array((324, 3000))\n",
      "< /home/plotnips/Dropbox/Log_extrapolation/scripts/DENISE-Black-Edition-master/for_pasha/su_field_high_pass_5_hz/seis_p.su.shot7 > np.array((324, 3000))\n",
      "< /home/plotnips/Dropbox/Log_extrapolation/scripts/DENISE-Black-Edition-master/for_pasha/su_field_high_pass_5_hz/seis_p.su.shot8 > np.array((324, 3000))\n",
      "< /home/plotnips/Dropbox/Log_extrapolation/scripts/DENISE-Black-Edition-master/for_pasha/su_field_high_pass_5_hz/seis_p.su.shot9 > np.array((324, 3000))\n",
      "< /home/plotnips/Dropbox/Log_extrapolation/scripts/DENISE-Black-Edition-master/for_pasha/su_field_high_pass_5_hz/seis_p.su.shot10 > np.array((324, 3000))\n",
      "< /home/plotnips/Dropbox/Log_extrapolation/scripts/DENISE-Black-Edition-master/for_pasha/su_field_high_pass_5_hz/seis_p.su.shot11 > np.array((324, 3000))\n",
      "< /home/plotnips/Dropbox/Log_extrapolation/scripts/DENISE-Black-Edition-master/for_pasha/su_field_high_pass_5_hz/seis_p.su.shot12 > np.array((324, 3000))\n",
      "< /home/plotnips/Dropbox/Log_extrapolation/scripts/DENISE-Black-Edition-master/for_pasha/su_field_high_pass_5_hz/seis_p.su.shot13 > np.array((324, 3000))\n",
      "< /home/plotnips/Dropbox/Log_extrapolation/scripts/DENISE-Black-Edition-master/for_pasha/su_field_high_pass_5_hz/seis_p.su.shot14 > np.array((324, 3000))\n",
      "< /home/plotnips/Dropbox/Log_extrapolation/scripts/DENISE-Black-Edition-master/for_pasha/su_field_high_pass_5_hz/seis_p.su.shot15 > np.array((324, 3000))\n",
      "< /home/plotnips/Dropbox/Log_extrapolation/scripts/DENISE-Black-Edition-master/for_pasha/su_field_high_pass_5_hz/seis_p.su.shot16 > np.array((324, 3000))\n",
      "< /home/plotnips/Dropbox/Log_extrapolation/scripts/DENISE-Black-Edition-master/for_pasha/su_field_high_pass_5_hz/seis_p.su.shot17 > np.array((324, 3000))\n",
      "< /home/plotnips/Dropbox/Log_extrapolation/scripts/DENISE-Black-Edition-master/for_pasha/su_field_high_pass_5_hz/seis_p.su.shot18 > np.array((324, 3000))\n",
      "< /home/plotnips/Dropbox/Log_extrapolation/scripts/DENISE-Black-Edition-master/for_pasha/su_field_high_pass_5_hz/seis_p.su.shot19 > np.array((324, 3000))\n",
      "< /home/plotnips/Dropbox/Log_extrapolation/scripts/DENISE-Black-Edition-master/for_pasha/su_field_high_pass_5_hz/seis_p.su.shot20 > np.array((324, 3000))\n",
      "< /home/plotnips/Dropbox/Log_extrapolation/scripts/DENISE-Black-Edition-master/for_pasha/su_field_high_pass_5_hz/seis_p.su.shot21 > np.array((324, 3000))\n",
      "< /home/plotnips/Dropbox/Log_extrapolation/scripts/DENISE-Black-Edition-master/for_pasha/su_field_high_pass_5_hz/seis_p.su.shot22 > np.array((324, 3000))\n",
      "< /home/plotnips/Dropbox/Log_extrapolation/scripts/DENISE-Black-Edition-master/for_pasha/su_field_high_pass_5_hz/seis_p.su.shot23 > np.array((324, 3000))\n",
      "< /home/plotnips/Dropbox/Log_extrapolation/scripts/DENISE-Black-Edition-master/for_pasha/su_field_high_pass_5_hz/seis_p.su.shot24 > np.array((324, 3000))\n",
      "< /home/plotnips/Dropbox/Log_extrapolation/scripts/DENISE-Black-Edition-master/for_pasha/su_field_high_pass_5_hz/seis_p.su.shot25 > np.array((324, 3000))\n",
      "< /home/plotnips/Dropbox/Log_extrapolation/scripts/DENISE-Black-Edition-master/for_pasha/su_field_high_pass_5_hz/seis_p.su.shot26 > np.array((324, 3000))\n",
      "< /home/plotnips/Dropbox/Log_extrapolation/scripts/DENISE-Black-Edition-master/for_pasha/su_field_high_pass_5_hz/seis_p.su.shot27 > np.array((324, 3000))\n",
      "< /home/plotnips/Dropbox/Log_extrapolation/scripts/DENISE-Black-Edition-master/for_pasha/su_field_high_pass_5_hz/seis_p.su.shot28 > np.array((324, 3000))\n",
      "< /home/plotnips/Dropbox/Log_extrapolation/scripts/DENISE-Black-Edition-master/for_pasha/su_field_high_pass_5_hz/seis_p.su.shot29 > np.array((324, 3000))\n",
      "< /home/plotnips/Dropbox/Log_extrapolation/scripts/DENISE-Black-Edition-master/for_pasha/su_field_high_pass_5_hz/seis_p.su.shot30 > np.array((324, 3000))\n",
      "< /home/plotnips/Dropbox/Log_extrapolation/scripts/DENISE-Black-Edition-master/for_pasha/su_field_high_pass_5_hz/seis_p.su.shot31 > np.array((324, 3000))\n",
      "< /home/plotnips/Dropbox/Log_extrapolation/scripts/DENISE-Black-Edition-master/for_pasha/su_field_high_pass_5_hz/seis_p.su.shot32 > np.array((324, 3000))\n",
      "< /home/plotnips/Dropbox/Log_extrapolation/scripts/DENISE-Black-Edition-master/for_pasha/su_field_high_pass_5_hz/seis_p.su.shot33 > np.array((324, 3000))\n",
      "< /home/plotnips/Dropbox/Log_extrapolation/scripts/DENISE-Black-Edition-master/for_pasha/su_field_high_pass_5_hz/seis_p.su.shot34 > np.array((324, 3000))\n",
      "< /home/plotnips/Dropbox/Log_extrapolation/scripts/DENISE-Black-Edition-master/for_pasha/su_field_high_pass_5_hz/seis_p.su.shot35 > np.array((324, 3000))\n",
      "< /home/plotnips/Dropbox/Log_extrapolation/scripts/DENISE-Black-Edition-master/for_pasha/su_field_high_pass_5_hz/seis_p.su.shot36 > np.array((324, 3000))\n",
      "< /home/plotnips/Dropbox/Log_extrapolation/scripts/DENISE-Black-Edition-master/for_pasha/su_field_high_pass_5_hz/seis_p.su.shot37 > np.array((324, 3000))\n",
      "< /home/plotnips/Dropbox/Log_extrapolation/scripts/DENISE-Black-Edition-master/for_pasha/su_field_high_pass_5_hz/seis_p.su.shot38 > np.array((324, 3000))\n",
      "< /home/plotnips/Dropbox/Log_extrapolation/scripts/DENISE-Black-Edition-master/for_pasha/su_field_high_pass_5_hz/seis_p.su.shot39 > np.array((324, 3000))\n",
      "< /home/plotnips/Dropbox/Log_extrapolation/scripts/DENISE-Black-Edition-master/for_pasha/su_field_high_pass_5_hz/seis_p.su.shot40 > np.array((324, 3000))\n",
      "< /home/plotnips/Dropbox/Log_extrapolation/scripts/DENISE-Black-Edition-master/for_pasha/su_field_high_pass_5_hz/seis_p.su.shot41 > np.array((324, 3000))\n",
      "< /home/plotnips/Dropbox/Log_extrapolation/scripts/DENISE-Black-Edition-master/for_pasha/su_field_high_pass_5_hz/seis_p.su.shot42 > np.array((324, 3000))\n",
      "< /home/plotnips/Dropbox/Log_extrapolation/scripts/DENISE-Black-Edition-master/for_pasha/su_field_high_pass_5_hz/seis_p.su.shot43 > np.array((324, 3000))\n",
      "< /home/plotnips/Dropbox/Log_extrapolation/scripts/DENISE-Black-Edition-master/for_pasha/su_field_high_pass_5_hz/seis_p.su.shot44 > np.array((324, 3000))\n",
      "< /home/plotnips/Dropbox/Log_extrapolation/scripts/DENISE-Black-Edition-master/for_pasha/su_field_high_pass_5_hz/seis_p.su.shot45 > np.array((324, 3000))\n",
      "< /home/plotnips/Dropbox/Log_extrapolation/scripts/DENISE-Black-Edition-master/for_pasha/su_field_high_pass_5_hz/seis_p.su.shot46 > np.array((324, 3000))\n",
      "< /home/plotnips/Dropbox/Log_extrapolation/scripts/DENISE-Black-Edition-master/for_pasha/su_field_high_pass_5_hz/seis_p.su.shot47 > np.array((324, 3000))\n",
      "< /home/plotnips/Dropbox/Log_extrapolation/scripts/DENISE-Black-Edition-master/for_pasha/su_field_high_pass_5_hz/seis_p.su.shot48 > np.array((324, 3000))\n",
      "< /home/plotnips/Dropbox/Log_extrapolation/scripts/DENISE-Black-Edition-master/for_pasha/su_field_high_pass_5_hz/seis_p.su.shot49 > np.array((324, 3000))\n",
      "< /home/plotnips/Dropbox/Log_extrapolation/scripts/DENISE-Black-Edition-master/for_pasha/su_field_high_pass_5_hz/seis_p.su.shot50 > np.array((324, 3000))\n",
      "< /home/plotnips/Dropbox/Log_extrapolation/scripts/DENISE-Black-Edition-master/for_pasha/su_field_high_pass_5_hz/seis_p.su.shot51 > np.array((324, 3000))\n",
      "< /home/plotnips/Dropbox/Log_extrapolation/scripts/DENISE-Black-Edition-master/for_pasha/su_field_high_pass_5_hz/seis_p.su.shot52 > np.array((324, 3000))\n",
      "< /home/plotnips/Dropbox/Log_extrapolation/scripts/DENISE-Black-Edition-master/for_pasha/su_field_high_pass_5_hz/seis_p.su.shot53 > np.array((324, 3000))\n",
      "< /home/plotnips/Dropbox/Log_extrapolation/scripts/DENISE-Black-Edition-master/for_pasha/su_field_high_pass_5_hz/seis_p.su.shot54 > np.array((324, 3000))\n",
      "< /home/plotnips/Dropbox/Log_extrapolation/scripts/DENISE-Black-Edition-master/for_pasha/su_field_high_pass_5_hz/seis_p.su.shot55 > np.array((324, 3000))\n",
      "< /home/plotnips/Dropbox/Log_extrapolation/scripts/DENISE-Black-Edition-master/for_pasha/su_field_high_pass_5_hz/seis_p.su.shot56 > np.array((324, 3000))\n",
      "< /home/plotnips/Dropbox/Log_extrapolation/scripts/DENISE-Black-Edition-master/for_pasha/su_field_high_pass_5_hz/seis_p.su.shot57 > np.array((324, 3000))\n",
      "< /home/plotnips/Dropbox/Log_extrapolation/scripts/DENISE-Black-Edition-master/for_pasha/su_field_high_pass_5_hz/seis_p.su.shot58 > np.array((324, 3000))\n",
      "< /home/plotnips/Dropbox/Log_extrapolation/scripts/DENISE-Black-Edition-master/for_pasha/su_field_high_pass_5_hz/seis_p.su.shot59 > np.array((324, 3000))\n",
      "< /home/plotnips/Dropbox/Log_extrapolation/scripts/DENISE-Black-Edition-master/for_pasha/su_field_high_pass_5_hz/seis_p.su.shot60 > np.array((324, 3000))\n",
      "< /home/plotnips/Dropbox/Log_extrapolation/scripts/DENISE-Black-Edition-master/for_pasha/su_field_high_pass_5_hz/seis_p.su.shot61 > np.array((324, 3000))\n",
      "< /home/plotnips/Dropbox/Log_extrapolation/scripts/DENISE-Black-Edition-master/for_pasha/su_field_high_pass_5_hz/seis_p.su.shot62 > np.array((324, 3000))\n",
      "< /home/plotnips/Dropbox/Log_extrapolation/scripts/DENISE-Black-Edition-master/for_pasha/su_field_high_pass_5_hz/seis_p.su.shot63 > np.array((324, 3000))\n",
      "< /home/plotnips/Dropbox/Log_extrapolation/scripts/DENISE-Black-Edition-master/for_pasha/su_field_high_pass_5_hz/seis_p.su.shot64 > np.array((324, 3000))\n",
      "< /home/plotnips/Dropbox/Log_extrapolation/scripts/DENISE-Black-Edition-master/for_pasha/su_field_high_pass_5_hz/seis_p.su.shot65 > np.array((324, 3000))\n",
      "< /home/plotnips/Dropbox/Log_extrapolation/scripts/DENISE-Black-Edition-master/for_pasha/su_field_high_pass_5_hz/seis_p.su.shot66 > np.array((324, 3000))\n",
      "< /home/plotnips/Dropbox/Log_extrapolation/scripts/DENISE-Black-Edition-master/for_pasha/su_field_high_pass_5_hz/seis_p.su.shot67 > np.array((324, 3000))\n",
      "< /home/plotnips/Dropbox/Log_extrapolation/scripts/DENISE-Black-Edition-master/for_pasha/su_field_high_pass_5_hz/seis_p.su.shot68 > np.array((324, 3000))\n",
      "< /home/plotnips/Dropbox/Log_extrapolation/scripts/DENISE-Black-Edition-master/for_pasha/su_field_high_pass_5_hz/seis_p.su.shot69 > np.array((324, 3000))\n",
      "< /home/plotnips/Dropbox/Log_extrapolation/scripts/DENISE-Black-Edition-master/for_pasha/su_field_high_pass_5_hz/seis_p.su.shot70 > np.array((324, 3000))\n",
      "< /home/plotnips/Dropbox/Log_extrapolation/scripts/DENISE-Black-Edition-master/for_pasha/su_field_high_pass_5_hz/seis_p.su.shot71 > np.array((324, 3000))\n",
      "< /home/plotnips/Dropbox/Log_extrapolation/scripts/DENISE-Black-Edition-master/for_pasha/su_field_high_pass_5_hz/seis_p.su.shot72 > np.array((324, 3000))\n",
      "< /home/plotnips/Dropbox/Log_extrapolation/scripts/DENISE-Black-Edition-master/for_pasha/su_field_high_pass_5_hz/seis_p.su.shot73 > np.array((324, 3000))\n",
      "< /home/plotnips/Dropbox/Log_extrapolation/scripts/DENISE-Black-Edition-master/for_pasha/su_field_high_pass_5_hz/seis_p.su.shot74 > np.array((324, 3000))\n",
      "< /home/plotnips/Dropbox/Log_extrapolation/scripts/DENISE-Black-Edition-master/for_pasha/su_field_high_pass_5_hz/seis_p.su.shot75 > np.array((324, 3000))\n",
      "< /home/plotnips/Dropbox/Log_extrapolation/scripts/DENISE-Black-Edition-master/for_pasha/su_field_high_pass_5_hz/seis_p.su.shot76 > np.array((324, 3000))\n",
      "< /home/plotnips/Dropbox/Log_extrapolation/scripts/DENISE-Black-Edition-master/for_pasha/su_field_high_pass_5_hz/seis_p.su.shot77 > np.array((324, 3000))\n",
      "< /home/plotnips/Dropbox/Log_extrapolation/scripts/DENISE-Black-Edition-master/for_pasha/su_field_high_pass_5_hz/seis_p.su.shot78 > np.array((324, 3000))\n",
      "< /home/plotnips/Dropbox/Log_extrapolation/scripts/DENISE-Black-Edition-master/for_pasha/su_field_high_pass_5_hz/seis_p.su.shot79 > np.array((324, 3000))\n",
      "< /home/plotnips/Dropbox/Log_extrapolation/scripts/DENISE-Black-Edition-master/for_pasha/su_field_high_pass_5_hz/seis_p.su.shot80 > np.array((324, 3000))\n",
      "(324, 3000)\n",
      "(324, 3000)\n",
      "(324, 3000)\n",
      "(324, 3000)\n",
      "(324, 3000)\n",
      "(324, 3000)\n",
      "(324, 3000)\n",
      "(324, 3000)\n",
      "(324, 3000)\n",
      "(324, 3000)\n",
      "(324, 3000)\n",
      "(324, 3000)\n",
      "(324, 3000)\n",
      "(324, 3000)\n",
      "(324, 3000)\n",
      "(324, 3000)\n",
      "(324, 3000)\n",
      "(324, 3000)\n",
      "(324, 3000)\n",
      "(324, 3000)\n",
      "(324, 3000)\n",
      "(324, 3000)\n",
      "(324, 3000)\n",
      "(324, 3000)\n",
      "(324, 3000)\n",
      "(324, 3000)\n",
      "(324, 3000)\n",
      "(324, 3000)\n",
      "(324, 3000)\n",
      "(324, 3000)\n",
      "(324, 3000)\n",
      "(324, 3000)\n",
      "(324, 3000)\n",
      "(324, 3000)\n",
      "(324, 3000)\n",
      "(324, 3000)\n",
      "(324, 3000)\n",
      "(324, 3000)\n",
      "(324, 3000)\n",
      "(324, 3000)\n",
      "(324, 3000)\n",
      "(324, 3000)\n",
      "(324, 3000)\n",
      "(324, 3000)\n",
      "(324, 3000)\n",
      "(324, 3000)\n",
      "(324, 3000)\n",
      "(324, 3000)\n",
      "(324, 3000)\n",
      "(324, 3000)\n",
      "(324, 3000)\n",
      "(324, 3000)\n",
      "(324, 3000)\n",
      "(324, 3000)\n",
      "(324, 3000)\n",
      "(324, 3000)\n",
      "(324, 3000)\n",
      "(324, 3000)\n",
      "(324, 3000)\n",
      "(324, 3000)\n",
      "(324, 3000)\n",
      "(324, 3000)\n",
      "(324, 3000)\n",
      "(324, 3000)\n",
      "(324, 3000)\n",
      "(324, 3000)\n",
      "(324, 3000)\n",
      "(324, 3000)\n",
      "(324, 3000)\n",
      "(324, 3000)\n",
      "(324, 3000)\n",
      "(324, 3000)\n",
      "(324, 3000)\n",
      "(324, 3000)\n",
      "(324, 3000)\n",
      "(324, 3000)\n",
      "(324, 3000)\n",
      "(324, 3000)\n",
      "(324, 3000)\n",
      "(324, 3000)\n"
     ]
    }
   ],
   "source": [
    "# shots,filenames=d.get_shots_from_directory(su_field_path2,keys=['_p'],return_filenames=True)\n",
    "# for shot in shots:\n",
    "#     print(shot.shape)\n",
    "shots,filenames=d.get_shots_from_directory(su_field_path1,keys=['_p'],return_filenames=True)\n",
    "for shot in shots:\n",
    "    print(shot.shape)\n",
    "\n",
    "# shots=shots[::10]\n",
    "# filenames=filenames[::10]\n",
    "# print(filenames)\n",
    "# for shot,filename in zip(shots,filenames):\n",
    "#     print(filename)\n",
    "#     plot_shot(shot,pclip=0.05,folder_path='./pictures_for_check',file_path='su_field_path2_'+filename.split('/')[-1]+'.png',show=0)\n",
    "\n",
    "# shots,filenames=d.get_shots_from_directory(su_field_path1,keys=['_p'],return_filenames=True)\n",
    "# shots=shots[::20]\n",
    "# filenames=filenames[::20]\n",
    "# print(filenames)\n",
    "# for shot,filename in zip(shots,filenames):\n",
    "#     print(filename)\n",
    "#     # plot_shot(shot,pclip=0.05,folder_path='./pictures_for_check',file_path='su_field_path1_'+filename.split('/')[-1]+'.png',show=0)\n",
    "#     freqs,ps=plot_spectrum(shot,0.002,fmax=10,folder_path='./pictures_for_check',file_path='su_field_path1_'+'spectrum_'+filename.split('/')[-1]+'stage2.png')"
   ]
  },
  {
   "cell_type": "code",
   "execution_count": null,
   "metadata": {
    "scrolled": false
   },
   "outputs": [],
   "source": [
    "d.save_folder = os.path.join(root_fwi,'fwi_full_spectrum','fld')\n",
    "mpl.rcParams['figure.dpi']= 300\n",
    "d.verbose = 2\n",
    "\n",
    "models, fnames = d.get_fwi_models(['vp', 'stage'], return_filenames=True)\n",
    "for m, f in zip(models, fnames):\n",
    "    vis.plot_log_model(m, dx, nx0, nz0, src, log=wlog, log_location=log_location, **limits_vp)"
   ]
  },
  {
   "cell_type": "markdown",
   "metadata": {},
   "source": [
    "### Well-logs\n",
    "Plot logs in true model (dashed) and inverted models (solid) for every inversion stage"
   ]
  },
  {
   "cell_type": "code",
   "execution_count": null,
   "metadata": {
    "scrolled": false
   },
   "outputs": [],
   "source": [
    "# Load inverted models from all stages\n",
    "vvr = {'vp': None, 'vs': None, 'rho': None}\n",
    "for k in vvr.keys():\n",
    "    vvr[k], fnames = d.get_fwi_models([k + '_stage'], return_filenames=True)\n",
    "\n",
    "for i in range(len(vvr['vp'])):\n",
    "    plot_logs(model_log, api.Model(vvr['vp'][i], vvr['vs'][i], vvr['rho'][i], dx), log_idx)"
   ]
  },
  {
   "cell_type": "markdown",
   "metadata": {},
   "source": [
    "### Gradients"
   ]
  },
  {
   "cell_type": "code",
   "execution_count": null,
   "metadata": {
    "scrolled": true
   },
   "outputs": [],
   "source": [
    "d.verbose = 0\n",
    "grads, fnames = d.get_fwi_gradients(return_filenames=True)\n",
    "for g, f in zip(grads, fnames):\n",
    "    plot_model(g, f)"
   ]
  },
  {
   "cell_type": "code",
   "execution_count": null,
   "metadata": {},
   "outputs": [],
   "source": [
    "def get_model_last():\n",
    "    all_fnames = []\n",
    "    # vps, fnames = d.get_fwi_models(['vp', 'stage'], return_filenames=True)\n",
    "    vps, fnames = d.get_fwi_models(['vp'], return_filenames=True)\n",
    "    all_fnames += fnames\n",
    "    vss, fnames = d.get_fwi_models(['vs'], return_filenames=True)\n",
    "    all_fnames += fnames\n",
    "    rhos, fnames = d.get_fwi_models(['rho'], return_filenames=True)\n",
    "    all_fnames += fnames\n",
    "    print(all_fnames)\n",
    "    if all_fnames:\n",
    "        for f in all_fnames:\n",
    "            if not f.split('/')[-1] in os.listdir(f'{root_fwi}start/'):\n",
    "                command = f'cp {f} {root_fwi}start/'\n",
    "                print(command)\n",
    "                os.system(command)\n",
    "    if vps:\n",
    "        print(f'Init new starting model from {fnames[-1]}')\n",
    "        model_last = api.Model(vps[-1], vss[-1], rhos[-1], dx)\n",
    "    # print(vps)\n",
    "    return model_last\n",
    "    # return None\n",
    "model_last=get_model_last()"
   ]
  },
  {
   "cell_type": "markdown",
   "metadata": {},
   "source": [
    "# Compare wavefiedls before/after"
   ]
  },
  {
   "cell_type": "code",
   "execution_count": null,
   "metadata": {},
   "outputs": [],
   "source": [
    "vps, fnames = d.get_fwi_models(['vp_stage'], return_filenames=True)\n",
    "vss, fnames = d.get_fwi_models(['vs_stage'], return_filenames=True)\n",
    "rhos, fnames = d.get_fwi_models(['rho_stage'], return_filenames=True)\n",
    "print(d.save_folder)\n",
    "if vps:\n",
    "    model_last = api.Model(vps[-1], vss[-1], rhos[-1], dx)\n",
    "    print(f'Found last model at {fnames[-1]}')\n",
    "else:\n",
    "    print(f'Not found the inverted model in {d.save_folder}!')"
   ]
  },
  {
   "cell_type": "code",
   "execution_count": null,
   "metadata": {},
   "outputs": [],
   "source": [
    "d.save_folder = root_fwi[:-1] + '_wavefield/'\n",
    "print(f'{root_fwi[:-1]} --> {d.save_folder}')"
   ]
  },
  {
   "cell_type": "code",
   "execution_count": null,
   "metadata": {},
   "outputs": [],
   "source": [
    "par_forward = {'run_command': 'mpirun -np 30', 'disable': False}\n",
    "print(par_forward)"
   ]
  },
  {
   "cell_type": "code",
   "execution_count": null,
   "metadata": {},
   "outputs": [],
   "source": [
    "d.NPROCX = 1\n",
    "d.NPROCY = 1\n",
    "d.verbose=1\n",
    "d.forward(model_last, src, rec, **par_forward)"
   ]
  },
  {
   "cell_type": "code",
   "execution_count": null,
   "metadata": {
    "scrolled": false
   },
   "outputs": [],
   "source": [
    "def divmax(x): return x / np.max(np.abs(x))\n",
    "d.verbose = 0    # don't show redundant print outs\n",
    "if d.DT is None:\n",
    "    d.DT = 0.002\n",
    "shots = d.get_shots(keys=['_p'])\n",
    "# shots = [ld.bandpass(s, fs=1./(d.DT * d.NDT), **par_bp) for s in d.get_shots(keys=['_p'])]\n",
    "print(f'Read {len(shots)} shots {shots[0].shape} into list')\n",
    "\n",
    "mpl.rcParams['figure.dpi']= 300\n",
    "# for ishot in [int(np.floor(x)) for x in np.linspace(0, len(shots)-1, 5)]:\n",
    "for ishot in [19, 62]:\n",
    "    print(ishot)\n",
    "    shot_s = divmax(shots[ishot])\n",
    "    shot_f = divmax(data_p[ishot, :, ::d.NDT])\n",
    "#     vis.plot_shot(np.concatenate([np.flip(shot_s, 0), shot_f], axis=0), pclip=0.05)\n",
    "    vis.plot_compare_stripes(shot_s, shot_f, pclip=0.0125, colorbar=False, dt=d.DT, dx=dx)"
   ]
  }
 ],
 "metadata": {
  "interpreter": {
   "hash": "f46140b79a25c3b1ec622d9de359221a8d5802b8a7ad490aae66b50110296176"
  },
  "kernelspec": {
   "display_name": "Python 3 (ipykernel)",
   "language": "python",
   "name": "python3"
  },
  "language_info": {
   "codemirror_mode": {
    "name": "ipython",
    "version": 3
   },
   "file_extension": ".py",
   "mimetype": "text/x-python",
   "name": "python",
   "nbconvert_exporter": "python",
   "pygments_lexer": "ipython3",
   "version": "3.9.12"
  }
 },
 "nbformat": 4,
 "nbformat_minor": 2
}
