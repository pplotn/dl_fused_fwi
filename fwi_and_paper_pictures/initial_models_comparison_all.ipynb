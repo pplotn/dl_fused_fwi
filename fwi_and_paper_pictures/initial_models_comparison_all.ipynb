{
 "cells": [
  {
   "cell_type": "markdown",
   "metadata": {},
   "source": [
    "# Elastic FWI on Marmousi II using CGG data setup\n",
    "\n",
    "\n",
    "by Oleg Ovcharenko\n",
    "\n",
    "oleg.ovcharenko@kaust.edu.sa\n",
    "\n",
    "KAUST, 2021"
   ]
  },
  {
   "cell_type": "code",
   "execution_count": 1,
   "metadata": {},
   "outputs": [
    {
     "name": "stdout",
     "output_type": "stream",
     "text": [
      "['/home/plotnips/Dropbox/Log_extrapolation/scripts/DENISE-Black-Edition-master/for_pasha', '', '/home/plotnips/Madagascar/lib/python3.7/site-packages', '/home/plotnips/anaconda3/envs/torch2/lib/python39.zip', '/home/plotnips/anaconda3/envs/torch2/lib/python3.9', '/home/plotnips/anaconda3/envs/torch2/lib/python3.9/lib-dynload', '/home/plotnips/anaconda3/envs/torch2/lib/python3.9/site-packages', '/home/plotnips/anaconda3/envs/torch2/lib/python3.9/site-packages/IPython/extensions', '/home/plotnips/.ipython', '/home/plotnips/Dropbox/Log_extrapolation/scripts/DENISE-Black-Edition-master']\n",
      "Python: /home/plotnips/anaconda3/envs/torch2\n",
      "source /home/plotnips/Madagascar/share/madagascar/etc/env.sh\n",
      "<m8r._Wrap object at 0x7f87d5d4e370>\n"
     ]
    }
   ],
   "source": [
    "import os\n",
    "import sys\n",
    "sys.path.append(os.path.abspath('../'))\n",
    "print(sys.path)\n",
    "print(f'Python: {sys.prefix}')\n",
    "import copy\n",
    "import glob\n",
    "import numpy as np\n",
    "import importlib\n",
    "import multiprocessing\n",
    "import scipy\n",
    "import segyio\n",
    "from scipy import signal, ndimage\n",
    "from natsort import natsorted\n",
    "from skimage.transform import rescale, resize\n",
    "from F_fwi import bandpass\n",
    "from F_fwi import *\n",
    "from F_utils import *\n",
    "import pyapi_denise as api\n",
    "api._cmd(('source /home/plotnips/Madagascar/share/madagascar/etc/env.sh'))\n",
    "import shared as sd\n",
    "import loaders as ld\n",
    "import vis\n",
    "from IPython.display import clear_output\n",
    "import m8r as sf\n",
    "print(sf)\n",
    "import nest_asyncio\n",
    "nest_asyncio.apply()"
   ]
  },
  {
   "cell_type": "code",
   "execution_count": 27,
   "metadata": {},
   "outputs": [
    {
     "name": "stdout",
     "output_type": "stream",
     "text": [
      "<module 'os' from '/home/plotnips/anaconda3/envs/torch2/lib/python3.9/os.py'>\n",
      "Init Python 3 API for Denise-Black-Edition.\n",
      "Check binary in ../bin/denise\n",
      "Parse ../par/DENISE_marm_OBC.inp\n",
      "Current directory is /home/plotnips/Dropbox/Log_extrapolation/scripts/DENISE-Black-Edition-master/for_pasha\n",
      "Init paths at ./outputs/\n",
      "Current directory is /home/plotnips/Dropbox/Log_extrapolation/scripts/DENISE-Black-Edition-master/for_pasha\n",
      "Init paths at ./out_for_pasha_marm/fld\n"
     ]
    }
   ],
   "source": [
    "%matplotlib inline\n",
    "import matplotlib as mpl\n",
    "import matplotlib.pyplot as plt\n",
    "from mpl_toolkits.axes_grid1 import make_axes_locatable\n",
    "# mpl.rcParams['figure.dpi']= 100\n",
    "fontsize = 10\n",
    "params = {\n",
    "    # 'text.latex.preamble': ['\\\\usepackage{gensymb}'],\n",
    "    # 'image.origin': 'lower',\n",
    "    'image.interpolation': 'nearest',\n",
    "    'figure.dpi' : 300,\n",
    "    # 'image.cmap': 'gray',\n",
    "    'axes.grid': False,\n",
    "    'savefig.dpi': 300,  # to adjust notebook inline plot size\n",
    "    'axes.labelsize':fontsize,  # fontsize for x and y labels (was 10)\n",
    "    'axes.titlesize':fontsize,\n",
    "    'font.size':fontsize,  # was 10\n",
    "    'legend.fontsize': fontsize,  # was 10\n",
    "    'xtick.labelsize':fontsize,\n",
    "    'ytick.labelsize':fontsize,\n",
    "    # 'text.usetex': True,\n",
    "    # 'figure.figsize': [3.39, 2.10],\n",
    "    'font.family': 'serif',\n",
    "}\n",
    "mpl.rcParams.update(params)\n",
    "importlib.reload(api)\n",
    "print(os)\n",
    "root_fwi = './out_for_pasha_marm/fld'\n",
    "# denise_root = '../den/'\n",
    "denise_root = '../'\n",
    "d = api.Denise(denise_root, verbose=1)\n",
    "# d.parser_report()\n",
    "d.save_folder = root_fwi\n",
    "d.set_paths()"
   ]
  },
  {
   "cell_type": "markdown",
   "metadata": {},
   "source": [
    "# Get acquitision details"
   ]
  },
  {
   "cell_type": "code",
   "execution_count": 3,
   "metadata": {},
   "outputs": [],
   "source": [
    "shot_id_min = 60\n",
    "n_selected_shots = 80\n",
    "njump_src = 8\n",
    "shot_id_max = shot_id_min + (n_selected_shots-1) * njump_src"
   ]
  },
  {
   "cell_type": "code",
   "execution_count": 4,
   "metadata": {},
   "outputs": [
    {
     "name": "stdout",
     "output_type": "stream",
     "text": [
      "80/80\n",
      "Before prep:\t(80, 648, 3526)\n",
      "Data cube:\t(80, 324, 3000)\n",
      "Extended cube:\t(80, 324, 3100)\n",
      "[80, 324, 3050] (80, 324, 3000)\n",
      "[80, 324, 3150] (80, 324, 3100)\n",
      "25.0\n",
      "Assume even average spacing between sources\n",
      " 150.0 m ~ 6 grid nodes\n",
      "First source:\t1125.0 m\n",
      "Last source:\t12950.0 m\n",
      "150.0\n",
      "name:\t\n",
      "x\t(80,):\tmin: 1125.0\tmax: 12975.0\n",
      "y\t(80,):\tmin: 50.0\tmax: 50.0\n",
      "wavelets:\tNone\n",
      "z\t(80,):\tmin: 0.0\tmax: 0.0\n",
      "nshot:\t80\n",
      "td\t(80,):\tmin: 0.0\tmax: 0.0\n",
      "fc\t(80,):\tmin: 8.0\tmax: 8.0\n",
      "amp\t(80,):\tmin: 1.0\tmax: 1.0\n",
      "angle\t(80,):\tmin: 0.0\tmax: 0.0\n",
      "QUELLTYPB:\t1\n",
      "src_type\t(80,):\tmin: 1.0\tmax: 1.0\n",
      "drec:\t25.0 m\n",
      "x\t(324,):\tmin: 1275.0\tmax: 9350.0\n",
      "y\t(324,):\tmin: 100.0\tmax: 100.0\n",
      "many:\t[x\t(324,):\tmin: 1275.0\tmax: 9350.0\n",
      "y\t(324,):\tmin: 100.0\tmax: 100.0\n",
      "name:\t]\n"
     ]
    }
   ],
   "source": [
    "%run ./fwi_shared_check.ipynb"
   ]
  },
  {
   "cell_type": "code",
   "execution_count": 5,
   "metadata": {},
   "outputs": [
    {
     "name": "stdout",
     "output_type": "stream",
     "text": [
      "420\n",
      "(152, 600)\n",
      "./out_for_pasha_marm/fld/start/\n"
     ]
    }
   ],
   "source": [
    "vp_baseline = vp.copy()\n",
    "print(log_idx)\n",
    "print(vp.shape)\n",
    "marm_path = os.path.join(root_fwi, 'start/')\n",
    "os.makedirs(marm_path, exist_ok=True)\n",
    "print(marm_path)\n",
    "if not 'marmousi_II_marine.vp' in os.listdir(marm_path):\n",
    "    # Download Marmousi II model\n",
    "    os.system(f'wget https://github.com/daniel-koehn/DENISE-Benchmark/raw/master/Marmousi-II/start/marmousi_II_marine.vp -P {marm_path}')\n",
    "    os.system(f'wget https://github.com/daniel-koehn/DENISE-Benchmark/raw/master/Marmousi-II/start/marmousi_II_marine.vs -P {marm_path}')\n",
    "    os.system(f'wget https://github.com/daniel-koehn/DENISE-Benchmark/raw/master/Marmousi-II/start/marmousi_II_marine.rho -P {marm_path}')\n",
    "\n",
    "    # Download initial model for FWI\n",
    "    os.system(f'wget https://github.com/daniel-koehn/DENISE-Benchmark/raw/master/Marmousi-II/start/marmousi_II_start_1D.vp -P {marm_path}')\n",
    "    os.system(f'wget https://github.com/daniel-koehn/DENISE-Benchmark/raw/master/Marmousi-II/start/marmousi_II_start_1D.vs -P {marm_path}')\n",
    "    os.system(f'wget https://github.com/daniel-koehn/DENISE-Benchmark/raw/master/Marmousi-II/start/marmousi_II_start_1D.rho -P {marm_path}')\n",
    "def get_vp_vs_rho(vp):\n",
    "    vp = extend(vp, 15, 0)\n",
    "\n",
    "    print(f'Reshape {vp.shape} into {wb_taper.shape}...')\n",
    "\n",
    "    vp = resize(vp, wb_taper.shape, anti_aliasing=True)\n",
    "    vp = np.where(vp <= 1500.0, 1490.0, vp)\n",
    "    vp = extend(vp, 0, 264 + 10 * 8)\n",
    "\n",
    "    # shear velocity, [m/s]\n",
    "    vs = vp.copy() / (3 ** 0.5)\n",
    "    vs = np.where(vp < 1.01 * np.min(vp), 0, vs)\n",
    "\n",
    "    # density, [kg/m3] \n",
    "    rho = 1e3*0.3 * vp.copy()**0.25\n",
    "    rho = np.where(vp < 1.01 * np.min(vp), 1000, rho)\n",
    "    return vp, vs, rho\n",
    "def get_vp_vs_rho_no_extend(vp):\n",
    "    vp = np.where(vp <= 1500.0, 1490.0, vp)\n",
    "    # shear velocity, [m/s]\n",
    "    vs = vp.copy() / (3 ** 0.5)\n",
    "    vs = np.where(vp < 1.01 * np.min(vp), 0, vs)\n",
    "    # density, [kg/m3] \n",
    "    rho = 1e3*0.3 * vp.copy()**0.25\n",
    "    rho = np.where(vp < 1.01 * np.min(vp), 1000, rho)\n",
    "    return vp, vs, rho\n",
    "def F_initial_vz_model_custom(Models,dz,water_sz):\n",
    "    nx = Models.shape[0];nz = Models.shape[1]\n",
    "    n1 = Models.shape[0];n2 = Models.shape[1]\n",
    "    if n1<n2:\n",
    "        nx=n2\n",
    "        nz=n1\n",
    "    else:\n",
    "        nx=n1\n",
    "        nz=n2\n",
    "    # water_sz=(np.where(Models[0,:]==1500))[0].size\n",
    "    zz = np.arange(nz-water_sz) * dz\n",
    "    zz = np.tile(zz, (nx, 1))\n",
    "    init = 1500 + 0.9 * zz\n",
    "    water=np.ones((nx,water_sz))*1500\n",
    "    init=np.concatenate([water,init],axis=1)\n",
    "    # Plot_image(Models.T,Show_flag=0,Save_flag=1,Title='original_model',Save_pictures_path='./pictures_for_check',c_lim=[1500,5000])\n",
    "    # Plot_image(init.T,Show_flag=0,Save_flag=1,Title='init',Save_pictures_path='./pictures_for_check',c_lim=[1500,5000])\n",
    "    return init"
   ]
  },
  {
   "cell_type": "code",
   "execution_count": 6,
   "metadata": {},
   "outputs": [
    {
     "name": "stdout",
     "output_type": "stream",
     "text": [
      "Size before imresizing (1701, 305)\n",
      "Size after imresizing (680, 121)\n",
      "(680, 121)\n",
      "Size before imresizing (801, 120)\n",
      "Size after imresizing (801, 120)\n",
      "(801, 120)\n",
      "Size before imresizing (1000, 151)\n",
      "Size after imresizing (799, 120)\n",
      "(799, 120)\n",
      "Size before imresizing (1000, 1893)\n",
      "Size after imresizing (499, 189)\n",
      "(499, 189)\n"
     ]
    }
   ],
   "source": [
    "\n",
    "calculation_spacing=25\n",
    "pars={'dx': calculation_spacing, 'dz': calculation_spacing,'out_shape':[496,150] ,'dsrc':200 } \n",
    "root_='../'\n",
    "models=[];initial_models=[];\n",
    "\n",
    "# names=['Marmousi','Overthrust','Seam','Seam2']\n",
    "names=['Marmousi','Overthrust','Seam','Seam2']\n",
    "generated_model,initial_model,water_taper=generator_2('test',model_name='model__Marmousi',dh=calculation_spacing,out_shape=pars['out_shape'],program_root=root_);        \n",
    "models.append(generated_model); initial_models.append(initial_model)\n",
    "generated_model,initial_model,water_taper=generator_2('test',model_name='model__Overthrust',dh=calculation_spacing,out_shape=pars['out_shape'],program_root=root_);      \n",
    "models.append(generated_model); initial_models.append(initial_model)\n",
    "generated_model,initial_model,water_taper=generator_2('test',model_name='model__Seam',dh=calculation_spacing,out_shape=pars['out_shape'],program_root=root_);\n",
    "models.append(generated_model); initial_models.append(initial_model)\n",
    "generated_model,initial_model,water_taper=generator_2('test',model_name='model__Seam2',dh=calculation_spacing,out_shape=pars['out_shape'],program_root=root_);\n",
    "models.append(generated_model); initial_models.append(initial_model)\n",
    "nx0 = 500\n",
    "limits_vp = {'vmin': 1500, 'vmax':4500 }"
   ]
  },
  {
   "cell_type": "code",
   "execution_count": 24,
   "metadata": {},
   "outputs": [
    {
     "name": "stdout",
     "output_type": "stream",
     "text": [
      "(116, 1)\n"
     ]
    }
   ],
   "source": [
    "#############   add linear trends\n",
    "dz=calculation_spacing\n",
    "water_sz=int(400/dz)\n",
    "nz_=models[0].shape[1]-water_sz\n",
    "zz = np.arange(nz_-water_sz) * dz\n",
    "water=np.ones((water_sz))*1500\n",
    "print(wlog.shape)\n",
    "wlog_=np.copy(wlog[::-1])\n",
    "# print(wlog_[0:50])\n",
    "wlog_=wlog_[((wlog_[wlog_==1500] ).size-16):]"
   ]
  },
  {
   "cell_type": "code",
   "execution_count": null,
   "metadata": {},
   "outputs": [],
   "source": [
    "# 'lin_grad_0.9_from_ML_dataset','lin_grad_1.9','lin_grad_0.5'\n",
    "log_idx=100\n",
    "print(log_idx*dx)\n",
    "models[0].shape\n",
    "fig, ax = plt.subplots(1,1); \n",
    "ax_depth = np.arange(len(log)) * dx / 1000\n",
    "for model,initial_model,name in zip(models,initial_models,names):\n",
    "    print(model.shape)\n",
    "    print(initial_model.shape)\n",
    "    ax.plot(model[log_idx,:],label='log_true '+name)\n",
    "step=1800\n",
    "ax.plot(np.concatenate([water,step + 0.2 * zz]),label='0.2 km/s trend')\n",
    "ax.plot(np.concatenate([water,step + 0.9 * zz]),label='0.9 km/s trend')\n",
    "ax.plot(np.concatenate([water,step + 1.15 * zz]),label='1.3 km/s trend')\n",
    "ax.plot(wlog_,label='CGG')\n",
    "plt.legend(loc='lower right')\n",
    "ax.set_ylabel('Velocity, km/s')\n",
    "ax.set_xlabel('Depth, points')\n",
    "\n",
    "# ax.plot(model[log_idx,:], 'r', label='log_true')\n",
    "# ax.plot(initial_model[log_idx,:], 'r--', label='log_true_smoothed')"
   ]
  },
  {
   "cell_type": "markdown",
   "metadata": {},
   "source": [
    "## Model prepared by Daniel Kohn from Kiel University"
   ]
  },
  {
   "cell_type": "code",
   "execution_count": null,
   "metadata": {},
   "outputs": [],
   "source": [
    "log=model.vp[:,log_idx]\n",
    "log_linear =  model_linear.vp[:, log_idx]\n",
    "log_linear2 = model_linear2.vp[:, log_idx]\n",
    "log_linear3 = model_linear3.vp[:, log_idx]\n",
    "log_linear4 = model_linear4.vp[:, log_idx]\n",
    "log_true_smoothed=np.copy(log)\n",
    "log_true_smoothed[:-33]=scipy.ndimage.filters.gaussian_filter1d(log[:-33],15)\n",
    "print(log[-40:])\n",
    "print('log.shape=',log.shape)\n",
    "print('log_true_smoothed.shape=',log_true_smoothed.shape)\n",
    "\n",
    "fig, ax = plt.subplots(1,1); \n",
    "# ax_depth = np.arange(len(wlog)) * dx / 1000\n",
    "ax_depth = np.arange(len(log)) * dx / 1000\n",
    "# ax.plot(ax_depth, wlog[::-1] / 1000, 'b', label='CGG')\n",
    "ax.plot(ax_depth, log[::-1] / 1000, 'r', label='log_true')\n",
    "ax.plot(ax_depth, log_true_smoothed[::-1] / 1000, 'r--', label='log_true_smoothed')\n",
    "ax.plot(ax_depth, log_linear[::-1] / 1000, 'k--', label='Kohn log. True smoothed one? Seismic tomography?')\n",
    "ax.plot(ax_depth, log_linear2[::-1] / 1000, 'g--', label='true smoothed rescaled')\n",
    "ax.plot(ax_depth, log_linear3[::-1] / 1000, 'g', label='linear model, used in data generation')\n",
    "ax.plot(ax_depth, log_linear4[::-1] / 1000, 'g', label='vp_marm_smoothed_horizontally')\n",
    "plt.legend(loc='best')\n",
    "ax.set_ylabel('Velocity, km/s')\n",
    "ax.set_xlabel('Depth, km')\n",
    "# vis.plot_acquisition(vp[:, :500], dx, src, rec, log=log_dict)\n",
    "# vis.savefig('vinit.png')"
   ]
  },
  {
   "cell_type": "code",
   "execution_count": null,
   "metadata": {},
   "outputs": [],
   "source": [
    "wb_taper = np.where(model.vp < 1.01 * model.vp.min(), 1, 0)\n",
    "nx0 = 500\n",
    "limits_vp = {'vmin': model.vp.min() / 1000, 'vmax': model.vp.max() / 1000}\n",
    "limits_vs = {'vmin': model.vs.min() / 1000, 'vmax': model.vs.max() / 1000}\n",
    "limits_rho = {'vmin': model.rho.min() / 1000, 'vmax': model.rho.max() / 1000}"
   ]
  },
  {
   "cell_type": "code",
   "execution_count": null,
   "metadata": {},
   "outputs": [],
   "source": [
    "mpl.rcParams['figure.dpi']= 90\n",
    "vis.plot_log_model(vp_linear, dx, nx0, nz0, src, log=log / 2, log_location=log_location,**limits_vp)"
   ]
  },
  {
   "cell_type": "markdown",
   "metadata": {},
   "source": [
    "## Crop predicted model\n",
    "Large part of the model (beyond last source) was only to get full-offset seismic data. When running inversion it is not needed so we cut it down"
   ]
  },
  {
   "cell_type": "code",
   "execution_count": null,
   "metadata": {},
   "outputs": [],
   "source": [
    "model_init = copy.copy(model_linear)\n",
    "# print(model_init)"
   ]
  },
  {
   "cell_type": "code",
   "execution_count": null,
   "metadata": {},
   "outputs": [],
   "source": [
    "print(wlog.shape, vp.shape)\n",
    "\n",
    "fig, ax = plt.subplots(1,1)\n",
    "ax.plot(vp[-len(wlog):, log_idx])\n",
    "ax.plot(model_init.vp[-len(wlog):, log_idx])"
   ]
  },
  {
   "cell_type": "markdown",
   "metadata": {},
   "source": [
    "## Initial velocity model\n",
    "Smooth background model with true water bottom and shallow sediments"
   ]
  },
  {
   "cell_type": "code",
   "execution_count": null,
   "metadata": {},
   "outputs": [],
   "source": [
    "# ax = plot_model(np.concatenate((model_init.vp, model_init.vs, model_init.rho), 1))\n",
    "# plot_logs(model_log, model_init, log_idx)\n",
    "\n",
    "fig, ax = plt.subplots(1,1); \n",
    "# ax_depth = np.arange(len(wlog)) * dx / 1000\n",
    "ax_depth = np.arange(len(log_linear)) * dx / 1000\n",
    "ax.plot(ax_depth, log[::-1] / 1000, 'k', label='Well')\n",
    "ax.plot(ax_depth, log_linear[::-1] / 1000, 'k--', label='Ideal initial')\n",
    "# log_pred = model_init.vp[-len(wlog):, log_idx]\n",
    "log_pred = model_init.vp[-len(log):, log_idx]\n",
    "ax.plot(ax_depth, log_pred[::-1] / 1000, 'r', label='Predicted initial')\n",
    "\n",
    "nwater = 33#33\n",
    "dummy = np.zeros_like(model.vp)\n",
    "dummy[-nwater:, :] = 1.\n",
    "log_taper = np.min(log_pred) + dummy[:, log_idx] * (np.max(log_pred) - np.min(log_pred))\n",
    "log_taper = np.min(log_pred) + wb_taper[-len(wlog):, log_idx] * (np.max(log_pred) - np.min(log_pred))\n",
    "# ax.plot(ax_depth, log_taper[::-1]  / 1000, 'b', label='Taper')\n",
    "# \n",
    "# ax.plot(ax_depth, log_linear[::-1] / 1000, 'k--', label='Linear')\n",
    "ax.set_ylabel('Velocity, km/s')\n",
    "ax.set_xlabel('Depth, km')\n",
    "ax.grid(True)\n",
    "ax.legend()\n",
    "\n",
    "print(len(wlog), model_init.vp.shape, len(model_init.vp[:len(wlog)]))"
   ]
  },
  {
   "cell_type": "code",
   "execution_count": null,
   "metadata": {},
   "outputs": [],
   "source": [
    "plot_logs(model, model_init, log_idx)\n",
    "# vp_linear, vs_linear, rho_linear = get_vp_vs_rho(vp_marm_linear)\n",
    "# model_linear = api.Model(vp_linear, vs_linear, rho_linear, dx)\n",
    "# vis.plot_acquisition(model.vp, dx, src, rec, title='marmousi_II_true.vp',**limits_vp)"
   ]
  }
 ],
 "metadata": {
  "kernelspec": {
   "display_name": "Python 3 (ipykernel)",
   "language": "python",
   "name": "python3"
  },
  "language_info": {
   "codemirror_mode": {
    "name": "ipython",
    "version": 3
   },
   "file_extension": ".py",
   "mimetype": "text/x-python",
   "name": "python",
   "nbconvert_exporter": "python",
   "pygments_lexer": "ipython3",
   "version": "3.9.12"
  }
 },
 "nbformat": 4,
 "nbformat_minor": 2
}
