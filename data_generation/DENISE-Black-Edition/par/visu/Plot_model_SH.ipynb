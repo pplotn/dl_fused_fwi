{
 "cells": [
  {
   "cell_type": "markdown",
   "metadata": {},
   "source": [
    "__Plot SH FWI Results__\n",
    "\n",
    "Daniel Köhn \n",
    "Kiel, 28/03/2016"
   ]
  },
  {
   "cell_type": "markdown",
   "metadata": {},
   "source": [
    "__Import Libraries__"
   ]
  },
  {
   "cell_type": "code",
   "execution_count": null,
   "metadata": {},
   "outputs": [],
   "source": [
    "import matplotlib.pyplot as plt\n",
    "import matplotlib as mpl\n",
    "import numpy as np\n",
    "from matplotlib.colors import LightSource, Normalize\n",
    "from matplotlib.pyplot import gca\n",
    "from pylab import rcParams\n",
    "from matplotlib import rc\n",
    "from matplotlib.ticker import FormatStrFormatter\n",
    "import pickle"
   ]
  },
  {
   "cell_type": "markdown",
   "metadata": {},
   "source": [
    "__FD grid dimensions__"
   ]
  },
  {
   "cell_type": "code",
   "execution_count": null,
   "metadata": {},
   "outputs": [],
   "source": [
    "DH = 0.025\n",
    "NX = 960\n",
    "NY = 600\n",
    "vpmin=800.0"
   ]
  },
  {
   "cell_type": "markdown",
   "metadata": {},
   "source": [
    "__Define fonts__"
   ]
  },
  {
   "cell_type": "code",
   "execution_count": null,
   "metadata": {},
   "outputs": [],
   "source": [
    "FSize = 20\n",
    "font = {'color':  'black',\n",
    "        'weight': 'normal',\n",
    "        'size': FSize}\n",
    "mpl.rc('xtick', labelsize=FSize) \n",
    "mpl.rc('ytick', labelsize=FSize) \n",
    "rcParams['figure.figsize'] = 10, 3"
   ]
  },
  {
   "cell_type": "markdown",
   "metadata": {},
   "source": [
    "__Read $V_p$, $V_s$ and density  model__"
   ]
  },
  {
   "cell_type": "code",
   "execution_count": null,
   "metadata": {},
   "outputs": [],
   "source": [
    "stage = 1;"
   ]
  },
  {
   "cell_type": "code",
   "execution_count": null,
   "metadata": {},
   "outputs": [],
   "source": [
    "basename = \"DENISE/\""
   ]
  },
  {
   "cell_type": "code",
   "execution_count": null,
   "metadata": {},
   "outputs": [],
   "source": [
    "name_vs = basename + \"modelTest_vs_stage_\" + \"%0.*f\" %(0,np.fix(stage)) + \".bin\"\n",
    "f = open (name_vs)\n",
    "data_type = np.dtype ('float32').newbyteorder ('<')\n",
    "vs = np.fromfile (f, dtype=data_type)\n",
    "vs = vs.reshape(NX,NY)\n",
    "vs = np.transpose(vs)\n",
    "vs = np.flipud(vs)"
   ]
  },
  {
   "cell_type": "code",
   "execution_count": null,
   "metadata": {},
   "outputs": [],
   "source": [
    "name_rho = basename + \"modelTest_rho_stage_\" + \"%0.*f\" %(0,np.fix(stage)) + \".bin\"\n",
    "f = open (name_rho)\n",
    "data_type = np.dtype ('float32').newbyteorder ('<')\n",
    "rho = np.fromfile (f, dtype=data_type)\n",
    "rho = rho.reshape(NX,NY)\n",
    "rho = np.transpose(rho)\n",
    "rho = np.flipud(rho)"
   ]
  },
  {
   "cell_type": "markdown",
   "metadata": {},
   "source": [
    "__Define Axis__"
   ]
  },
  {
   "cell_type": "code",
   "execution_count": null,
   "metadata": {},
   "outputs": [],
   "source": [
    "x = np.arange(0.0, DH*NX, DH)\n",
    "y = np.arange(0.0, DH*NY, DH)"
   ]
  },
  {
   "cell_type": "markdown",
   "metadata": {},
   "source": [
    "__Define SubPlot__"
   ]
  },
  {
   "cell_type": "code",
   "execution_count": null,
   "metadata": {},
   "outputs": [],
   "source": [
    "def do_plot(n, model, cm, an, title, vpmin, vpmax):\n",
    "    \n",
    "    ax=plt.subplot(1, 2, n)\n",
    "    \n",
    "    #rc('font',**{'family':'sans-serif','sans-serif':['Helvetica']})\n",
    "    #rc('text', usetex=True)\n",
    "    \n",
    "    plt.imshow(model, cmap=cm, interpolation='none', extent=[0.0,NX*DH,0.0,NY*DH], vmin=vpmin, vmax=vpmax)\n",
    "    #a = gca()\n",
    "    #a.set_xticklabels(a.get_xticks(), font)\n",
    "    #a.set_yticklabels(a.get_yticks(), font)\n",
    "    plt.axis('scaled')\n",
    "    plt.xlabel('Distance [m]', fontdict=font)\n",
    "    if n==1:\n",
    "        plt.ylabel('Depth [m]', fontdict=font)\n",
    "    plt.gca().invert_yaxis()\n",
    "    cbar=plt.colorbar(aspect=8, pad=0.02)\n",
    "    cbar.set_label(title, fontdict=font, labelpad=10)\n",
    "    plt.text(.5,1.,an,fontdict=font,color='white')\n",
    "    plt.tight_layout()"
   ]
  },
  {
   "cell_type": "markdown",
   "metadata": {},
   "source": [
    "__Plot SubPlots__"
   ]
  },
  {
   "cell_type": "code",
   "execution_count": null,
   "metadata": {
    "scrolled": false
   },
   "outputs": [],
   "source": [
    "plt.close('all')\n",
    "plt.figure()\n",
    "do_plot(1, vs, 'magma', '', r\"$\\rm{V_s [m/s]}$\", np.min(vs), np.max(vs))\n",
    "do_plot(2, rho, 'magma', '', r\"$\\rm{\\rho [kg/m^3]}$\", np.min(rho), np.max(rho))\n",
    "#plt.savefig('test.png', format='png', dpi=100)\n",
    "plt.savefig('test.pdf', bbox_inches='tight', format='pdf')\n",
    "plt.show()"
   ]
  }
 ],
 "metadata": {
  "anaconda-cloud": {},
  "kernelspec": {
   "display_name": "Python 3",
   "language": "python",
   "name": "python3"
  },
  "language_info": {
   "codemirror_mode": {
    "name": "ipython",
    "version": 3
   },
   "file_extension": ".py",
   "mimetype": "text/x-python",
   "name": "python",
   "nbconvert_exporter": "python",
   "pygments_lexer": "ipython3",
   "version": "3.7.4"
  }
 },
 "nbformat": 4,
 "nbformat_minor": 1
}
