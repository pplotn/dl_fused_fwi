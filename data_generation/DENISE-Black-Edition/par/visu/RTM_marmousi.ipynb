{
 "cells": [
  {
   "cell_type": "markdown",
   "metadata": {},
   "source": [
    "**Plot Marmousi RTM Results**\n",
    "\n",
    "**Daniel Köhn**\n",
    "\n",
    "**Kiel, 02/04/2016**\n",
    "\n",
    "**Import necessary packages**"
   ]
  },
  {
   "cell_type": "code",
   "execution_count": 1,
   "metadata": {
    "collapsed": true
   },
   "outputs": [],
   "source": [
    "from __future__ import division\n",
    "import matplotlib.pyplot as plt\n",
    "import matplotlib as mpl\n",
    "import numpy as np\n",
    "from matplotlib.colors import LightSource, Normalize\n",
    "from matplotlib.pyplot import gca\n",
    "from pylab import rcParams\n",
    "from matplotlib import rc\n",
    "import scipy.ndimage.filters\n",
    "import pickle"
   ]
  },
  {
   "cell_type": "markdown",
   "metadata": {},
   "source": [
    "**FD grid dimensions **"
   ]
  },
  {
   "cell_type": "code",
   "execution_count": 2,
   "metadata": {
    "collapsed": true
   },
   "outputs": [],
   "source": [
    "DH = 20.0;\n",
    "NX = 500;\n",
    "NY = 174;"
   ]
  },
  {
   "cell_type": "markdown",
   "metadata": {},
   "source": [
    "**Define fonts**"
   ]
  },
  {
   "cell_type": "code",
   "execution_count": 3,
   "metadata": {},
   "outputs": [],
   "source": [
    "FSize = 25\n",
    "font = {'color':  'black',\n",
    "        'weight': 'bold',\n",
    "        'size': FSize}\n",
    "mpl.rc('xtick', labelsize=FSize) \n",
    "mpl.rc('ytick', labelsize=FSize) \n",
    "rcParams['figure.figsize'] = 12, 11"
   ]
  },
  {
   "cell_type": "markdown",
   "metadata": {},
   "source": [
    "**Read S-wave velocity model and RTM result**"
   ]
  },
  {
   "cell_type": "code",
   "execution_count": 4,
   "metadata": {},
   "outputs": [],
   "source": [
    "f = open ('../start/marmousi_II_smooth2.vp')\n",
    "data_type = np.dtype ('float32').newbyteorder ('<')\n",
    "vp = np.fromfile (f, dtype=data_type)\n",
    "vp = vp.reshape(NX,NY)\n",
    "vp = np.transpose(vp)\n",
    "vp = np.flipud(vp)"
   ]
  },
  {
   "cell_type": "code",
   "execution_count": 5,
   "metadata": {},
   "outputs": [],
   "source": [
    "f1 = open ('../jacobian/jacobian_Test_P_image')\n",
    "RTM = np.fromfile (f1, dtype=data_type)\n",
    "RTM = RTM.reshape(NX,NY)\n",
    "RTM = np.transpose(RTM)\n",
    "RTM = np.flipud(RTM)\n",
    "RTM = scipy.ndimage.filters.laplace(RTM) # suppress low-wavenumber artifacts in image "
   ]
  },
  {
   "cell_type": "markdown",
   "metadata": {},
   "source": [
    "**Define Axis**"
   ]
  },
  {
   "cell_type": "code",
   "execution_count": 6,
   "metadata": {},
   "outputs": [],
   "source": [
    "x = np.arange(0.0, DH*NX/1000.0, DH)\n",
    "y = np.arange(0.0, DH*NY/1000.0, DH)"
   ]
  },
  {
   "cell_type": "markdown",
   "metadata": {},
   "source": [
    "**Plot $\\alpha$-Blending of Vp FWI result (Jet) and Laplace-filtered RTM result (Gray)**"
   ]
  },
  {
   "cell_type": "code",
   "execution_count": 7,
   "metadata": {},
   "outputs": [],
   "source": [
    "extent = [0.0,NX*DH/1000.0,0.0,NY*DH/1000.0]\n",
    "cmax=2e-9\n",
    "cmin=-cmax\n",
    "\n",
    "fig = plt.figure(frameon=False)\n",
    "\n",
    "#plt.rc('font',**{'family':'sans-serif','sans-serif':['Helvetica']})\n",
    "#plt.rc('text', usetex=True)\n",
    "\n",
    "im1 = plt.imshow(vp, cmap=plt.cm.jet, interpolation='nearest', extent=extent)\n",
    "plt.hold(True)\n",
    "\n",
    "im2 = plt.imshow(RTM, cmap=plt.cm.gray, alpha=.70, interpolation='bicubic',\n",
    "                 extent=extent, vmin=cmin, vmax=cmax)\n",
    "\n",
    "#im2 = plt.imshow(RTM, cmap=plt.cm.seismic, interpolation='bicubic',\n",
    "#                 extent=extent, vmin=cmin, vmax=cmax)\n",
    "\n",
    "#a = gca()\n",
    "#a.set_xticklabels(a.get_xticks(), font)\n",
    "#a.set_yticklabels(a.get_yticks(), font)\n",
    "#plt.axis('scaled')\n",
    "plt.title('Marmousi-RTM (smooth2 model)', fontdict=font)\n",
    "plt.ylabel('Depth [km]', fontdict=font)\n",
    "plt.xlabel('Distance [km]', fontdict=font)\n",
    "plt.gca().invert_yaxis()\n",
    "#cbar=plt.colorbar()\n",
    "#cbar.set_label('Vp[m/s]', fontdict=font, labelpad=1)\n",
    "plt.tight_layout()\n",
    "#plt.savefig('Marmousi_RTM.pdf', format='pdf')\n",
    "#plt.savefig('Marmousi_RTM.png', format='png')\n",
    "plt.show()"
   ]
  },
  {
   "cell_type": "code",
   "execution_count": null,
   "metadata": {
    "collapsed": true
   },
   "outputs": [],
   "source": []
  }
 ],
 "metadata": {
  "kernelspec": {
   "display_name": "Python 3",
   "language": "python",
   "name": "python3"
  },
  "language_info": {
   "codemirror_mode": {
    "name": "ipython",
    "version": 3
   },
   "file_extension": ".py",
   "mimetype": "text/x-python",
   "name": "python",
   "nbconvert_exporter": "python",
   "pygments_lexer": "ipython3",
   "version": "3.7.4"
  }
 },
 "nbformat": 4,
 "nbformat_minor": 1
}
