{
 "cells": [
  {
   "cell_type": "markdown",
   "metadata": {},
   "source": [
    "# Plot shot gathers \n",
    "\n",
    "Daniel Koehn, Anna Jegen\n",
    "\n",
    "Kiel, 08th of February 2021"
   ]
  },
  {
   "cell_type": "code",
   "execution_count": null,
   "metadata": {},
   "outputs": [],
   "source": [
    "import matplotlib as mpl\n",
    "mpl.rcParams['figure.dpi']= 150\n",
    "import matplotlib.pyplot as plt\n",
    "\n",
    "import numpy as np\n",
    "import segyio\n",
    "from numba import jit"
   ]
  },
  {
   "cell_type": "markdown",
   "metadata": {},
   "source": [
    "**Read field data and header info**"
   ]
  },
  {
   "cell_type": "code",
   "execution_count": null,
   "metadata": {},
   "outputs": [],
   "source": [
    "# Define shot number\n",
    "shotno = 1\n",
    "\n",
    "# Define path and filename of field data\n",
    "rawdata='DENISE_MARMOUSI_y.su.shot' + str(shotno)\n",
    "path2data='DENISE/'\n",
    "rawdatafile=path2data + rawdata\n",
    "\n",
    "# Import seismic shot gathers & headers\n",
    "with segyio.su.open(rawdatafile,endian='little', ignore_geometry=True) as f:\n",
    "        \n",
    "        # Get basic attributes\n",
    "        shot = f.trace.raw[:]  # Get all data into memory (could cause on big files)\n",
    "        \n",
    "        # Get number of traces ntr & number of samples ns\n",
    "        ntr, ns = np.shape(shot)\n",
    "        \n",
    "        # Get time sample interval dt and define time axis t\n",
    "        dt = 1e-6 * f.header[0][segyio.TraceField.TRACE_SAMPLE_INTERVAL]\n",
    "        t = np.arange(0.,dt*(ns+1),dt)\n",
    "        \n",
    "        # Get offset, CDP and SourceX for each trace\n",
    "        offset = np.zeros(ntr)\n",
    "        SourceX_shot = np.zeros(ntr)\n",
    "        \n",
    "        for i in range (ntr):\n",
    "            \n",
    "            offset[i] = f.header[i][segyio.TraceField.offset] / 1000\n",
    "            SourceX_shot[i] = f.header[i][segyio.TraceField.SourceX]"
   ]
  },
  {
   "cell_type": "markdown",
   "metadata": {},
   "source": [
    "**Plot CDP gather**"
   ]
  },
  {
   "cell_type": "code",
   "execution_count": null,
   "metadata": {},
   "outputs": [],
   "source": [
    "def plot_shot(shot, title, pclip=1.0):  \n",
    "    vmax = pclip * np.max(np.abs(shot)) \n",
    "    vmin = - vmax \n",
    "    plt.figure(figsize=(10,5), dpi=100) \n",
    "    plt.imshow(shot.T, extent=[np.min(offset),np.max(offset),np.max(t),np.min(t)], cmap='Greys', vmin=vmin, vmax=vmax)  \n",
    "    plt.xlabel('Offset [m]')\n",
    "    plt.ylabel('Time [s]')\n",
    "    plt.title(title) \n",
    "    plt.axis('auto')"
   ]
  },
  {
   "cell_type": "code",
   "execution_count": null,
   "metadata": {},
   "outputs": [],
   "source": [
    "plot_shot(shot, 'Shot gather no. ' + str(shotno), pclip=1e0)\n",
    "plt.savefig('Seis_shot_' + str(shotno) + '.pdf', bbox_inches='tight', format='pdf')\n",
    "#plt.show()"
   ]
  }
 ],
 "metadata": {
  "kernelspec": {
   "display_name": "Python 3",
   "language": "python",
   "name": "python3"
  },
  "language_info": {
   "codemirror_mode": {
    "name": "ipython",
    "version": 3
   },
   "file_extension": ".py",
   "mimetype": "text/x-python",
   "name": "python",
   "nbconvert_exporter": "python",
   "pygments_lexer": "ipython3",
   "version": "3.7.4"
  }
 },
 "nbformat": 4,
 "nbformat_minor": 4
}
