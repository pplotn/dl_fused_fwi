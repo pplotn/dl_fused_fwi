{
 "cells": [
  {
   "cell_type": "markdown",
   "metadata": {},
   "source": [
    "__Plot elastic FWI Results__\n",
    "\n",
    "Daniel Köhn \n",
    "Kiel, 10/06/2016"
   ]
  },
  {
   "cell_type": "markdown",
   "metadata": {},
   "source": [
    "__Import Libraries__"
   ]
  },
  {
   "cell_type": "code",
   "execution_count": 33,
   "metadata": {
    "collapsed": true
   },
   "outputs": [],
   "source": [
    "import matplotlib.pyplot as plt\n",
    "import matplotlib as mpl\n",
    "import numpy as np\n",
    "from matplotlib.colors import LightSource, Normalize\n",
    "from matplotlib.pyplot import gca\n",
    "from pylab import rcParams\n",
    "from matplotlib import rc\n",
    "from matplotlib.ticker import FormatStrFormatter\n",
    "import pickle"
   ]
  },
  {
   "cell_type": "markdown",
   "metadata": {},
   "source": [
    "__Import Colormap__"
   ]
  },
  {
   "cell_type": "code",
   "execution_count": 2,
   "metadata": {},
   "outputs": [],
   "source": [
    "fp = open('cmap_cm.pkl', 'rb')\n",
    "my_cmap_cm = pickle.load(fp)\n",
    "fp.close()"
   ]
  },
  {
   "cell_type": "markdown",
   "metadata": {},
   "source": [
    "__FD grid dimensions__"
   ]
  },
  {
   "cell_type": "code",
   "execution_count": 3,
   "metadata": {
    "collapsed": true
   },
   "outputs": [],
   "source": [
    "DH = 20.0;\n",
    "NX = 500;\n",
    "NY = 174;\n",
    "vpmin=800.0"
   ]
  },
  {
   "cell_type": "markdown",
   "metadata": {},
   "source": [
    "__Define fonts__"
   ]
  },
  {
   "cell_type": "code",
   "execution_count": 65,
   "metadata": {},
   "outputs": [],
   "source": [
    "FSize = 20\n",
    "font = {'color':  'black',\n",
    "        'weight': 'normal',\n",
    "        'size': FSize}\n",
    "mpl.rc('xtick', labelsize=FSize) \n",
    "mpl.rc('ytick', labelsize=FSize) \n",
    "rcParams['figure.figsize'] = 12, 11"
   ]
  },
  {
   "cell_type": "markdown",
   "metadata": {},
   "source": [
    "__Read $V_p$, $V_s$ and density  model__"
   ]
  },
  {
   "cell_type": "code",
   "execution_count": 110,
   "metadata": {
    "collapsed": true
   },
   "outputs": [],
   "source": [
    "stage = 4;"
   ]
  },
  {
   "cell_type": "code",
   "execution_count": 121,
   "metadata": {
    "collapsed": true
   },
   "outputs": [],
   "source": [
    "#basename = \"elastic_FWT/OBC_FWT/LBFGS/10_06_2016_vx_vy_1D_GRAD_FORM_1_2Hz/\"\n",
    "basename = \"elastic_FWT/OBC_FWT/LBFGS/21_05_2015_vx_vy_1D/\""
   ]
  },
  {
   "cell_type": "code",
   "execution_count": 122,
   "metadata": {},
   "outputs": [],
   "source": [
    "name_vp = basename + \"modelTest_vp_stage_\" + \"%0.*f\" %(0,np.fix(stage)) + \".bin\"\n",
    "f = open (name_vp)\n",
    "data_type = np.dtype ('float32').newbyteorder ('<')\n",
    "vp = np.fromfile (f, dtype=data_type)\n",
    "vp = vp.reshape(NX,NY)\n",
    "vp = np.transpose(vp)\n",
    "vp = np.flipud(vp)"
   ]
  },
  {
   "cell_type": "code",
   "execution_count": 123,
   "metadata": {},
   "outputs": [],
   "source": [
    "name_vs = basename + \"modelTest_vs_stage_\" + \"%0.*f\" %(0,np.fix(stage)) + \".bin\"\n",
    "f = open (name_vs)\n",
    "data_type = np.dtype ('float32').newbyteorder ('<')\n",
    "vs = np.fromfile (f, dtype=data_type)\n",
    "vs = vs.reshape(NX,NY)\n",
    "vs = np.transpose(vs)\n",
    "vs = np.flipud(vs)"
   ]
  },
  {
   "cell_type": "code",
   "execution_count": 124,
   "metadata": {},
   "outputs": [],
   "source": [
    "name_rho = basename + \"modelTest_rho_stage_\" + \"%0.*f\" %(0,np.fix(stage)) + \".bin\"\n",
    "f = open (name_rho)\n",
    "data_type = np.dtype ('float32').newbyteorder ('<')\n",
    "rho = np.fromfile (f, dtype=data_type)\n",
    "rho = rho.reshape(NX,NY)\n",
    "rho = np.transpose(rho)\n",
    "rho = np.flipud(rho)"
   ]
  },
  {
   "cell_type": "markdown",
   "metadata": {},
   "source": [
    "__Define Axis__"
   ]
  },
  {
   "cell_type": "code",
   "execution_count": 14,
   "metadata": {},
   "outputs": [],
   "source": [
    "x = np.arange(0.0, DH*NX, DH)\n",
    "y = np.arange(0.0, DH*NY, DH)\n",
    "x = np.divide(x,1000.0);\n",
    "y = np.divide(y,1000.0);"
   ]
  },
  {
   "cell_type": "markdown",
   "metadata": {},
   "source": [
    "__Define SubPlot__"
   ]
  },
  {
   "cell_type": "code",
   "execution_count": 166,
   "metadata": {},
   "outputs": [],
   "source": [
    "def do_plot(n, model, cm, an, title, vpmin, vpmax):\n",
    "    \n",
    "    ax=plt.subplot(3, 1, n)\n",
    "    ax.set_xticks([1, 2, 3, 4, 5, 6, 7, 8, 9, 10])\n",
    "    ax.set_yticks([0.5, 1, 1.5, 2, 2.5, 3, 3.5])\n",
    "    \n",
    "    #plt.rc('font',**{'family':'sans-serif','sans-serif':['Helvetica']})\n",
    "    #rc('font',**{'family':'sans-serif','sans-serif':['Helvetica']})\n",
    "    ## for Palatino and other serif fonts use:\n",
    "    #rc('font',**{'family':'serif','serif':['Palatino']})\n",
    "    #plt.rc('text', usetex=True)\n",
    "    #rc('text', usetex=True)\n",
    "    \n",
    "    # plt.pcolor(x, y, vp, cmap=cm, vmin=vpmin)\n",
    "    plt.imshow(model, cmap=cm, interpolation='none', extent=[0.0,NX*DH/1000.0,0.0,NY*DH/1000.0], vmin=vpmin, vmax=vpmax)\n",
    "    #a = gca()\n",
    "    #a.set_xticklabels(a.get_xticks(), font)\n",
    "    #a.set_yticklabels(a.get_yticks(), font)\n",
    "    plt.axis('scaled')\n",
    "    plt.ylabel('Depth [km]', fontdict=font)\n",
    "    if n==3:\n",
    "        plt.xlabel('Distance [km]', fontdict=font)\n",
    "    plt.gca().invert_yaxis()\n",
    "    cbar=plt.colorbar(aspect=8, pad=0.02)\n",
    "    cbar.set_label(title, fontdict=font, labelpad=10)\n",
    "    plt.text(0.1, 0.32,an,fontdict=font,color='white')\n",
    "    plt.tight_layout()"
   ]
  },
  {
   "cell_type": "markdown",
   "metadata": {},
   "source": [
    "__Plot SubPlots__"
   ]
  },
  {
   "cell_type": "code",
   "execution_count": 167,
   "metadata": {},
   "outputs": [],
   "source": [
    "plt.close('all')\n",
    "plt.figure()\n",
    "do_plot(1, vp, my_cmap_cm, '(a)', r\"$\\rm{V_p [m/s]}$\", 950, 4600)\n",
    "do_plot(2, vs, my_cmap_cm, '(b)', r\"$\\rm{V_s [m/s]}$\", 550, 2700)\n",
    "do_plot(3, rho, my_cmap_cm, '(c)', r\"$\\rm{\\rho [kg/m^3]}$\", 1200, 2800)\n",
    "#plt.savefig('test.png', format='png', dpi=100)\n",
    "plt.savefig('test.pdf', format='pdf')\n",
    "plt.show()"
   ]
  },
  {
   "cell_type": "code",
   "execution_count": null,
   "metadata": {
    "collapsed": true
   },
   "outputs": [],
   "source": []
  }
 ],
 "metadata": {
  "kernelspec": {
   "display_name": "Python 3",
   "language": "python",
   "name": "python3"
  },
  "language_info": {
   "codemirror_mode": {
    "name": "ipython",
    "version": 3
   },
   "file_extension": ".py",
   "mimetype": "text/x-python",
   "name": "python",
   "nbconvert_exporter": "python",
   "pygments_lexer": "ipython3",
   "version": "3.7.4"
  }
 },
 "nbformat": 4,
 "nbformat_minor": 1
}
