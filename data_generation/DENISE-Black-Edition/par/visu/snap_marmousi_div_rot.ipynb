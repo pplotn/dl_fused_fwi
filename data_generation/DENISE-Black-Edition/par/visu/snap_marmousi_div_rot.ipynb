{
 "cells": [
  {
   "cell_type": "markdown",
   "metadata": {},
   "source": [
    "**Plot Marmousi Snapshots**\n",
    "\n",
    "**Daniel Köhn**\n",
    "\n",
    "**Kiel, 24/06/2016**\n",
    "\n",
    "**Import necessary packages**"
   ]
  },
  {
   "cell_type": "code",
   "execution_count": null,
   "metadata": {},
   "outputs": [],
   "source": [
    "from __future__ import division\n",
    "import matplotlib.pyplot as plt\n",
    "import matplotlib as mpl\n",
    "import numpy as np\n",
    "from matplotlib.colors import LightSource, Normalize\n",
    "from matplotlib.pyplot import gca\n",
    "from pylab import rcParams\n",
    "from matplotlib import rc\n",
    "import scipy.ndimage.filters\n",
    "import pickle"
   ]
  },
  {
   "cell_type": "markdown",
   "metadata": {},
   "source": [
    "**FD grid dimensions**"
   ]
  },
  {
   "cell_type": "code",
   "execution_count": null,
   "metadata": {},
   "outputs": [],
   "source": [
    "DH = 20.0\n",
    "NX = 500\n",
    "NY = 174\n",
    "N = NX*NY;"
   ]
  },
  {
   "cell_type": "markdown",
   "metadata": {},
   "source": [
    "**Wavefield snapshot parameters**"
   ]
  },
  {
   "cell_type": "code",
   "execution_count": null,
   "metadata": {},
   "outputs": [],
   "source": [
    "clip_div = 1.      # div wavefield clipping\n",
    "clip_rot = 1.      # rot wavefield clipping\n",
    "NSNAP1 = 1         # first snapshot\n",
    "NSNAP2 = 50        # last snapshot\n",
    "DSNAP = 1          # snapshot increment\n",
    "TSNAP1 = 0.002     # time of first snapshot\n",
    "TSNAP2 = 3.0       # time of last snapshot\n",
    "TSNAPINC = 0.06    # time increment between snapshots"
   ]
  },
  {
   "cell_type": "markdown",
   "metadata": {},
   "source": [
    "**Define fonts**"
   ]
  },
  {
   "cell_type": "code",
   "execution_count": null,
   "metadata": {},
   "outputs": [],
   "source": [
    "FSize = 25\n",
    "font = {'color':  'black',\n",
    "        'weight': 'bold',\n",
    "        'size': FSize}\n",
    "mpl.rc('xtick', labelsize=FSize) \n",
    "mpl.rc('ytick', labelsize=FSize) \n",
    "rcParams['figure.figsize'] = 20, 8"
   ]
  },
  {
   "cell_type": "markdown",
   "metadata": {},
   "source": [
    "**Read S-wave velocity model and RTM result**"
   ]
  },
  {
   "cell_type": "code",
   "execution_count": null,
   "metadata": {},
   "outputs": [],
   "source": [
    "f = open ('start/marmousi_II_marine.vp')\n",
    "data_type = np.dtype ('float32').newbyteorder ('<')\n",
    "vp = np.fromfile (f, dtype=data_type)\n",
    "vp = vp.reshape(NX,NY)\n",
    "vp = np.transpose(vp)\n",
    "vp = np.flipud(vp)"
   ]
  },
  {
   "cell_type": "code",
   "execution_count": null,
   "metadata": {},
   "outputs": [],
   "source": [
    "def load_snap(offset):\n",
    "    \n",
    "    f1 = open ('snap/waveform_forward.bin.div')\n",
    "    f2 = open ('snap/waveform_forward.bin.rot')\n",
    "    \n",
    "    data_type1 = np.dtype ('float32').newbyteorder ('<')\n",
    "    offset_snap = 4*NX*NY*(offset-1)\n",
    "    \n",
    "    snap = np.memmap(f1, dtype=data_type1, mode='c', shape=(NX,NY), offset=offset_snap)\n",
    "    snap = np.transpose(snap)\n",
    "    snap = np.flipud(snap)\n",
    "    \n",
    "    snap1 = np.memmap(f2, dtype=data_type1, mode='c', shape=(NX,NY), offset=offset_snap)\n",
    "    snap1 = np.transpose(snap1)\n",
    "    snap1 = np.flipud(snap1)\n",
    "    \n",
    "    return snap, snap1"
   ]
  },
  {
   "cell_type": "markdown",
   "metadata": {},
   "source": [
    "**Define Axis**"
   ]
  },
  {
   "cell_type": "code",
   "execution_count": null,
   "metadata": {},
   "outputs": [],
   "source": [
    "x = np.arange(DH, DH*(NX+1), DH)\n",
    "y = np.arange(DH, DH*(NY+1), DH)\n",
    "\n",
    "# convert from [m] -> [km]\n",
    "x = x / 1000.\n",
    "y = y / 1000."
   ]
  },
  {
   "cell_type": "markdown",
   "metadata": {},
   "source": [
    "**Plot $\\alpha$-Blending of Vp model (Gray) and snapshots (Seismic)**"
   ]
  },
  {
   "cell_type": "code",
   "execution_count": null,
   "metadata": {},
   "outputs": [],
   "source": [
    "extent = [np.min(x),np.max(x),np.min(y),np.max(y)]\n",
    "\n",
    "fig = plt.figure(frameon=True)\n",
    "\n",
    "\n",
    "#plt.rc('font',**{'family':'sans-serif','sans-serif':['Helvetica']})\n",
    "#plt.rc('text', usetex=True)\n",
    "\n",
    "i = NSNAP1\n",
    "while i <= NSNAP2:\n",
    "    \n",
    "    offset = i;\n",
    "    time = TSNAP1 + (i-1) * TSNAPINC\n",
    "    \n",
    "    # import snapshot with offset\n",
    "    snap, snap1 = load_snap(offset);\n",
    "\n",
    "    ax=plt.subplot(2, 1, 1)\n",
    "    \n",
    "    # plot vp model\n",
    "    im1 = plt.imshow(vp, cmap=plt.cm.gray, interpolation='nearest', extent=extent)\n",
    "\n",
    "    # superimpose semi-transparent div-snapshot on vp model\n",
    "    im2 = plt.imshow(snap, cmap=plt.cm.seismic, alpha=.75, interpolation='bicubic',\n",
    "                     extent=extent, vmin=-clip_div, vmax=clip_div)\n",
    "\n",
    "    # add title and axis annotations\n",
    "    #a = gca()\n",
    "    #a.set_xticklabels(a.get_xticks(), font)\n",
    "    #a.set_yticklabels(a.get_yticks(), font)\n",
    "    time_str = str(time)\n",
    "    name_title = \"P-wave energy (time = \" + time_str[0:5] + \" s)\"\n",
    "    plt.title(name_title, fontdict=font)\n",
    "    plt.ylabel('Depth [km]', fontdict=font)\n",
    "    plt.gca().invert_yaxis()\n",
    "    plt.tight_layout()\n",
    "    \n",
    "    ax=plt.subplot(2, 1, 2)\n",
    "    \n",
    "    # plot vp model\n",
    "    im1 = plt.imshow(vp, cmap=plt.cm.gray, interpolation='nearest', extent=extent)\n",
    "\n",
    "    # superimpose semi-transparent div-snapshot on vp model\n",
    "    im2 = plt.imshow(snap1, cmap=plt.cm.seismic, alpha=.75, interpolation='bicubic',\n",
    "                     extent=extent, vmin=-clip_rot, vmax=clip_rot)\n",
    "\n",
    "    # add title and axis annotations\n",
    "    #a = gca()\n",
    "    #a.set_xticklabels(a.get_xticks(), font)\n",
    "    #a.set_yticklabels(a.get_yticks(), font)\n",
    "    name_title = \"S-wave energy\"\n",
    "    plt.title(name_title, fontdict=font)\n",
    "    plt.ylabel('Depth [km]', fontdict=font)\n",
    "    plt.xlabel('Distance [km]', fontdict=font)\n",
    "    plt.gca().invert_yaxis()\n",
    "    plt.tight_layout()\n",
    "    \n",
    "    # export snapshots\n",
    "    #name_snap = \"pics/Marmousi_snap_\" + \"%0.*f\" %(0,np.fix(offset)) + \".pdf\"\n",
    "    #plt.savefig(name_snap, bbox_inches='tight', format='pdf')\n",
    "    \n",
    "    name_snap = \"pics/Marmousi_snap_\" + \"%0.*f\" %(0,np.fix(offset)) + \".png\"\n",
    "    plt.savefig(name_snap, bbox_inches='tight', format='png', dpi=100)\n",
    "    \n",
    "    i = i + DSNAP;"
   ]
  }
 ],
 "metadata": {
  "kernelspec": {
   "display_name": "Python 3",
   "language": "python",
   "name": "python3"
  },
  "language_info": {
   "codemirror_mode": {
    "name": "ipython",
    "version": 3
   },
   "file_extension": ".py",
   "mimetype": "text/x-python",
   "name": "python",
   "nbconvert_exporter": "python",
   "pygments_lexer": "ipython3",
   "version": "3.7.4"
  }
 },
 "nbformat": 4,
 "nbformat_minor": 1
}
