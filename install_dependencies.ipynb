{
 "cells": [
  {
   "attachments": {},
   "cell_type": "markdown",
   "metadata": {},
   "source": [
    "#### Project requires installation of some open-source software on your machine:\n",
    "Madagascar () \n",
    "\n",
    "Denise (https://github.com/daniel-koehn/DENISE-Black-Edition)"
   ]
  },
  {
   "attachments": {},
   "cell_type": "markdown",
   "metadata": {},
   "source": [
    "## Install denise\n",
    " We generate data in folder data_generation. If you don't want, you can go to folder deep_learning and download from dropbox(1gb or 15 gb).\n",
    "If you want to generate, first we need to install Denise on your machine:\n",
    "\n",
    "1. Compile the library cseife in /libcseife with **make**\n",
    "2. In **/src** adapt the compiler options in the Makefile to your system and compile the DENISE code with\n",
    "**make denise**\n",
    "\n",
    "#define PI (3.141592653589793)\n",
    "#define NPAR 100\n",
    "#define STRING_SIZE 74\n",
    "#define STRING_SIZE 150\n",
    "#define STRING_SIZE2 256\n",
    "#define REQUEST_COUNT 4"
   ]
  },
  {
   "cell_type": "code",
   "execution_count": 2,
   "metadata": {},
   "outputs": [
    {
     "name": "stdout",
     "output_type": "stream",
     "text": [
      "200\n",
      "/home/plotnips/Dropbox/Log_extrapolation/scripts/paper_reproduced\n",
      "/home/plotnips/Dropbox/Log_extrapolation/scripts/paper_reproduced/data_generation\n"
     ]
    },
    {
     "name": "stderr",
     "output_type": "stream",
     "text": [
      "Makefile:98: cseife_gauss.d: No such file or directory\n",
      "Makefile:98: cseife_tides.d: No such file or directory\n",
      "Makefile:98: cseife.d: No such file or directory\n",
      "Makefile:98: cseife_rfk.d: No such file or directory\n",
      "Makefile:98: cseife_rekfl.d: No such file or directory\n",
      "Makefile:98: cseife_deriv.d: No such file or directory\n"
     ]
    },
    {
     "name": "stdout",
     "output_type": "stream",
     "text": [
      "/bin/sh -ec 'mpicc -M -I.  cseife_deriv.c \\\n",
      "      | sed '\\''s,\\(cseife_deriv\\)\\.o[ :]*,./\\1.o cseife_deriv.d : ,g'\\'' \\\n",
      "        > cseife_deriv.d; \\\n",
      "      [ -s cseife_deriv.d ] || rm -f cseife_deriv.d'\n"
     ]
    },
    {
     "name": "stderr",
     "output_type": "stream",
     "text": [
      "/home/plotnips/anaconda3/bin/mpicc: line 301: x86_64-conda_cos6-linux-gnu-cc: command not found\n"
     ]
    },
    {
     "name": "stdout",
     "output_type": "stream",
     "text": [
      "/bin/sh -ec 'mpicc -M -I.  cseife_rekfl.c \\\n",
      "      | sed '\\''s,\\(cseife_rekfl\\)\\.o[ :]*,./\\1.o cseife_rekfl.d : ,g'\\'' \\\n",
      "        > cseife_rekfl.d; \\\n",
      "      [ -s cseife_rekfl.d ] || rm -f cseife_rekfl.d'\n"
     ]
    },
    {
     "name": "stderr",
     "output_type": "stream",
     "text": [
      "/home/plotnips/anaconda3/bin/mpicc: line 301: x86_64-conda_cos6-linux-gnu-cc: command not found\n"
     ]
    },
    {
     "name": "stdout",
     "output_type": "stream",
     "text": [
      "/bin/sh -ec 'mpicc -M -I.  cseife_rfk.c \\\n",
      "      | sed '\\''s,\\(cseife_rfk\\)\\.o[ :]*,./\\1.o cseife_rfk.d : ,g'\\'' \\\n",
      "        > cseife_rfk.d; \\\n",
      "      [ -s cseife_rfk.d ] || rm -f cseife_rfk.d'\n"
     ]
    },
    {
     "name": "stderr",
     "output_type": "stream",
     "text": [
      "/home/plotnips/anaconda3/bin/mpicc: line 301: x86_64-conda_cos6-linux-gnu-cc: command not found\n"
     ]
    },
    {
     "name": "stdout",
     "output_type": "stream",
     "text": [
      "/bin/sh -ec 'mpicc -M -I.  cseife.c \\\n",
      "      | sed '\\''s,\\(cseife\\)\\.o[ :]*,./\\1.o cseife.d : ,g'\\'' \\\n",
      "        > cseife.d; \\\n",
      "      [ -s cseife.d ] || rm -f cseife.d'\n"
     ]
    },
    {
     "name": "stderr",
     "output_type": "stream",
     "text": [
      "/home/plotnips/anaconda3/bin/mpicc: line 301: x86_64-conda_cos6-linux-gnu-cc: command not found\n"
     ]
    },
    {
     "name": "stdout",
     "output_type": "stream",
     "text": [
      "/bin/sh -ec 'mpicc -M -I.  cseife_tides.c \\\n",
      "      | sed '\\''s,\\(cseife_tides\\)\\.o[ :]*,./\\1.o cseife_tides.d : ,g'\\'' \\\n",
      "        > cseife_tides.d; \\\n",
      "      [ -s cseife_tides.d ] || rm -f cseife_tides.d'\n"
     ]
    },
    {
     "name": "stderr",
     "output_type": "stream",
     "text": [
      "/home/plotnips/anaconda3/bin/mpicc: line 301: x86_64-conda_cos6-linux-gnu-cc: command not found\n"
     ]
    },
    {
     "name": "stdout",
     "output_type": "stream",
     "text": [
      "/bin/sh -ec 'mpicc -M -I.  cseife_gauss.c \\\n",
      "      | sed '\\''s,\\(cseife_gauss\\)\\.o[ :]*,./\\1.o cseife_gauss.d : ,g'\\'' \\\n",
      "        > cseife_gauss.d; \\\n",
      "      [ -s cseife_gauss.d ] || rm -f cseife_gauss.d'\n"
     ]
    },
    {
     "name": "stderr",
     "output_type": "stream",
     "text": [
      "/home/plotnips/anaconda3/bin/mpicc: line 301: x86_64-conda_cos6-linux-gnu-cc: command not found\n"
     ]
    },
    {
     "name": "stdout",
     "output_type": "stream",
     "text": [
      "find . -name \\*.d | xargs --no-run-if-empty /bin/rm -v\n",
      "find . -name \\*.o | xargs --no-run-if-empty /bin/rm -v\n",
      "find . -name \\*.bak | xargs --no-run-if-empty /bin/rm -v\n",
      "/bin/rm -fv flist\n",
      "/bin/rm -fv *.a\n"
     ]
    },
    {
     "name": "stderr",
     "output_type": "stream",
     "text": [
      "Makefile:98: cseife_gauss.d: No such file or directory\n",
      "Makefile:98: cseife_tides.d: No such file or directory\n",
      "Makefile:98: cseife.d: No such file or directory\n",
      "Makefile:98: cseife_rfk.d: No such file or directory\n",
      "Makefile:98: cseife_rekfl.d: No such file or directory\n",
      "Makefile:98: cseife_deriv.d: No such file or directory\n"
     ]
    },
    {
     "name": "stdout",
     "output_type": "stream",
     "text": [
      "/bin/sh -ec 'mpicc -M -I.  cseife_deriv.c \\\n",
      "      | sed '\\''s,\\(cseife_deriv\\)\\.o[ :]*,./\\1.o cseife_deriv.d : ,g'\\'' \\\n",
      "        > cseife_deriv.d; \\\n",
      "      [ -s cseife_deriv.d ] || rm -f cseife_deriv.d'\n"
     ]
    },
    {
     "name": "stderr",
     "output_type": "stream",
     "text": [
      "/home/plotnips/anaconda3/bin/mpicc: line 301: x86_64-conda_cos6-linux-gnu-cc: command not found\n"
     ]
    },
    {
     "name": "stdout",
     "output_type": "stream",
     "text": [
      "/bin/sh -ec 'mpicc -M -I.  cseife_rekfl.c \\\n",
      "      | sed '\\''s,\\(cseife_rekfl\\)\\.o[ :]*,./\\1.o cseife_rekfl.d : ,g'\\'' \\\n",
      "        > cseife_rekfl.d; \\\n",
      "      [ -s cseife_rekfl.d ] || rm -f cseife_rekfl.d'\n"
     ]
    },
    {
     "name": "stderr",
     "output_type": "stream",
     "text": [
      "/home/plotnips/anaconda3/bin/mpicc: line 301: x86_64-conda_cos6-linux-gnu-cc: command not found\n"
     ]
    },
    {
     "name": "stdout",
     "output_type": "stream",
     "text": [
      "/bin/sh -ec 'mpicc -M -I.  cseife_rfk.c \\\n",
      "      | sed '\\''s,\\(cseife_rfk\\)\\.o[ :]*,./\\1.o cseife_rfk.d : ,g'\\'' \\\n",
      "        > cseife_rfk.d; \\\n",
      "      [ -s cseife_rfk.d ] || rm -f cseife_rfk.d'\n"
     ]
    },
    {
     "name": "stderr",
     "output_type": "stream",
     "text": [
      "/home/plotnips/anaconda3/bin/mpicc: line 301: x86_64-conda_cos6-linux-gnu-cc: command not found\n"
     ]
    },
    {
     "name": "stdout",
     "output_type": "stream",
     "text": [
      "/bin/sh -ec 'mpicc -M -I.  cseife.c \\\n",
      "      | sed '\\''s,\\(cseife\\)\\.o[ :]*,./\\1.o cseife.d : ,g'\\'' \\\n",
      "        > cseife.d; \\\n",
      "      [ -s cseife.d ] || rm -f cseife.d'\n"
     ]
    },
    {
     "name": "stderr",
     "output_type": "stream",
     "text": [
      "/home/plotnips/anaconda3/bin/mpicc: line 301: x86_64-conda_cos6-linux-gnu-cc: command not found\n"
     ]
    },
    {
     "name": "stdout",
     "output_type": "stream",
     "text": [
      "/bin/sh -ec 'mpicc -M -I.  cseife_tides.c \\\n",
      "      | sed '\\''s,\\(cseife_tides\\)\\.o[ :]*,./\\1.o cseife_tides.d : ,g'\\'' \\\n",
      "        > cseife_tides.d; \\\n",
      "      [ -s cseife_tides.d ] || rm -f cseife_tides.d'\n"
     ]
    },
    {
     "name": "stderr",
     "output_type": "stream",
     "text": [
      "/home/plotnips/anaconda3/bin/mpicc: line 301: x86_64-conda_cos6-linux-gnu-cc: command not found\n"
     ]
    },
    {
     "name": "stdout",
     "output_type": "stream",
     "text": [
      "/bin/sh -ec 'mpicc -M -I.  cseife_gauss.c \\\n",
      "      | sed '\\''s,\\(cseife_gauss\\)\\.o[ :]*,./\\1.o cseife_gauss.d : ,g'\\'' \\\n",
      "        > cseife_gauss.d; \\\n",
      "      [ -s cseife_gauss.d ] || rm -f cseife_gauss.d'\n"
     ]
    },
    {
     "name": "stderr",
     "output_type": "stream",
     "text": [
      "/home/plotnips/anaconda3/bin/mpicc: line 301: x86_64-conda_cos6-linux-gnu-cc: command not found\n"
     ]
    },
    {
     "name": "stdout",
     "output_type": "stream",
     "text": [
      "make libcseife.a\n",
      "make[1]: Entering directory '/home/plotnips/Dropbox/Log_extrapolation/scripts/paper_reproduced/data_generation/DENISE-Black-Edition/libcseife'\n"
     ]
    },
    {
     "name": "stderr",
     "output_type": "stream",
     "text": [
      "Makefile:98: cseife_gauss.d: No such file or directory\n",
      "Makefile:98: cseife_tides.d: No such file or directory\n",
      "Makefile:98: cseife.d: No such file or directory\n",
      "Makefile:98: cseife_rfk.d: No such file or directory\n",
      "Makefile:98: cseife_rekfl.d: No such file or directory\n",
      "Makefile:98: cseife_deriv.d: No such file or directory\n"
     ]
    },
    {
     "name": "stdout",
     "output_type": "stream",
     "text": [
      "/bin/sh -ec 'mpicc -M -I.  cseife_deriv.c \\\n",
      "      | sed '\\''s,\\(cseife_deriv\\)\\.o[ :]*,./\\1.o cseife_deriv.d : ,g'\\'' \\\n",
      "        > cseife_deriv.d; \\\n",
      "      [ -s cseife_deriv.d ] || rm -f cseife_deriv.d'\n"
     ]
    },
    {
     "name": "stderr",
     "output_type": "stream",
     "text": [
      "/home/plotnips/anaconda3/bin/mpicc: line 301: x86_64-conda_cos6-linux-gnu-cc: command not found\n"
     ]
    },
    {
     "name": "stdout",
     "output_type": "stream",
     "text": [
      "/bin/sh -ec 'mpicc -M -I.  cseife_rekfl.c \\\n",
      "      | sed '\\''s,\\(cseife_rekfl\\)\\.o[ :]*,./\\1.o cseife_rekfl.d : ,g'\\'' \\\n",
      "        > cseife_rekfl.d; \\\n",
      "      [ -s cseife_rekfl.d ] || rm -f cseife_rekfl.d'\n"
     ]
    },
    {
     "name": "stderr",
     "output_type": "stream",
     "text": [
      "/home/plotnips/anaconda3/bin/mpicc: line 301: x86_64-conda_cos6-linux-gnu-cc: command not found\n"
     ]
    },
    {
     "name": "stdout",
     "output_type": "stream",
     "text": [
      "/bin/sh -ec 'mpicc -M -I.  cseife_rfk.c \\\n",
      "      | sed '\\''s,\\(cseife_rfk\\)\\.o[ :]*,./\\1.o cseife_rfk.d : ,g'\\'' \\\n",
      "        > cseife_rfk.d; \\\n",
      "      [ -s cseife_rfk.d ] || rm -f cseife_rfk.d'\n"
     ]
    },
    {
     "name": "stderr",
     "output_type": "stream",
     "text": [
      "/home/plotnips/anaconda3/bin/mpicc: line 301: x86_64-conda_cos6-linux-gnu-cc: command not found\n"
     ]
    },
    {
     "name": "stdout",
     "output_type": "stream",
     "text": [
      "/bin/sh -ec 'mpicc -M -I.  cseife.c \\\n",
      "      | sed '\\''s,\\(cseife\\)\\.o[ :]*,./\\1.o cseife.d : ,g'\\'' \\\n",
      "        > cseife.d; \\\n",
      "      [ -s cseife.d ] || rm -f cseife.d'\n"
     ]
    },
    {
     "name": "stderr",
     "output_type": "stream",
     "text": [
      "/home/plotnips/anaconda3/bin/mpicc: line 301: x86_64-conda_cos6-linux-gnu-cc: command not found\n"
     ]
    },
    {
     "name": "stdout",
     "output_type": "stream",
     "text": [
      "/bin/sh -ec 'mpicc -M -I.  cseife_tides.c \\\n",
      "      | sed '\\''s,\\(cseife_tides\\)\\.o[ :]*,./\\1.o cseife_tides.d : ,g'\\'' \\\n",
      "        > cseife_tides.d; \\\n",
      "      [ -s cseife_tides.d ] || rm -f cseife_tides.d'\n"
     ]
    },
    {
     "name": "stderr",
     "output_type": "stream",
     "text": [
      "/home/plotnips/anaconda3/bin/mpicc: line 301: x86_64-conda_cos6-linux-gnu-cc: command not found\n"
     ]
    },
    {
     "name": "stdout",
     "output_type": "stream",
     "text": [
      "/bin/sh -ec 'mpicc -M -I.  cseife_gauss.c \\\n",
      "      | sed '\\''s,\\(cseife_gauss\\)\\.o[ :]*,./\\1.o cseife_gauss.d : ,g'\\'' \\\n",
      "        > cseife_gauss.d; \\\n",
      "      [ -s cseife_gauss.d ] || rm -f cseife_gauss.d'\n"
     ]
    },
    {
     "name": "stderr",
     "output_type": "stream",
     "text": [
      "/home/plotnips/anaconda3/bin/mpicc: line 301: x86_64-conda_cos6-linux-gnu-cc: command not found\n"
     ]
    },
    {
     "name": "stdout",
     "output_type": "stream",
     "text": [
      "mpicc -O3  cseife_gauss.c -c -I. \n"
     ]
    },
    {
     "name": "stderr",
     "output_type": "stream",
     "text": [
      "/home/plotnips/anaconda3/bin/mpicc: line 301: x86_64-conda_cos6-linux-gnu-cc: command not found\n"
     ]
    },
    {
     "name": "stdout",
     "output_type": "stream",
     "text": [
      "Makefile:73: recipe for target 'cseife_gauss.o' failed\n",
      "make[1]: Leaving directory '/home/plotnips/Dropbox/Log_extrapolation/scripts/paper_reproduced/data_generation/DENISE-Black-Edition/libcseife'\n",
      "Makefile:43: recipe for target 'install' failed\n"
     ]
    },
    {
     "name": "stderr",
     "output_type": "stream",
     "text": [
      "make[1]: *** [cseife_gauss.o] Error 127\n",
      "make: *** [install] Error 2\n"
     ]
    },
    {
     "name": "stdout",
     "output_type": "stream",
     "text": [
      "/home/plotnips/Dropbox/Log_extrapolation/scripts/paper_reproduced/data_generation/DENISE-Black-Edition/libcseife\n"
     ]
    }
   ],
   "source": [
    "%%bash\n",
    "echo $((200))\n",
    "pwd\n",
    "cd data_generation\n",
    "pwd\n",
    "# git clone https://github.com/daniel-koehn/DENISE-Black-Edition.git\n",
    "cd DENISE-Black-Edition/libcseife\n",
    "make clean\n",
    "make install\n",
    "pwd\n",
    "# python -v"
   ]
  },
  {
   "cell_type": "code",
   "execution_count": 1,
   "metadata": {},
   "outputs": [
    {
     "name": "stdout",
     "output_type": "stream",
     "text": [
      "/home/plotnips/Dropbox/Log_extrapolation/scripts/paper_reproduced\n"
     ]
    }
   ],
   "source": [
    "%%bash\n",
    "pwd"
   ]
  },
  {
   "cell_type": "code",
   "execution_count": null,
   "metadata": {},
   "outputs": [],
   "source": [
    "! pip install scikit-image\n",
    "! pip install scikit-learn\n",
    "! pip install h5py"
   ]
  },
  {
   "cell_type": "code",
   "execution_count": null,
   "metadata": {},
   "outputs": [],
   "source": []
  },
  {
   "cell_type": "markdown",
   "metadata": {},
   "source": []
  }
 ],
 "metadata": {
  "kernelspec": {
   "display_name": "lw",
   "language": "python",
   "name": "python3"
  },
  "language_info": {
   "codemirror_mode": {
    "name": "ipython",
    "version": 3
   },
   "file_extension": ".py",
   "mimetype": "text/x-python",
   "name": "python",
   "nbconvert_exporter": "python",
   "pygments_lexer": "ipython3",
   "version": "3.9.12"
  },
  "orig_nbformat": 4,
  "vscode": {
   "interpreter": {
    "hash": "b24b263351b7e7d095da0afd8274f3719b784e68200134932e425a1f3881f4d4"
   }
  }
 },
 "nbformat": 4,
 "nbformat_minor": 2
}
